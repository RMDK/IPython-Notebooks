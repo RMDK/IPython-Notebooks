{
 "metadata": {
  "name": "",
  "signature": "sha256:09a1991c1ab4bb7db3f876d050d01d2842cda909c3685edcdd86e13b1140431e"
 },
 "nbformat": 3,
 "nbformat_minor": 0,
 "worksheets": [
  {
   "cells": [
    {
     "cell_type": "heading",
     "level": 1,
     "metadata": {},
     "source": [
      "Topic Modeling"
     ]
    },
    {
     "cell_type": "markdown",
     "metadata": {},
     "source": [
      "This is a series of notebooks (in progress) to document my learning, and hopefully to help others learn machine learning. I would love suggestions / corrections / feedback for these notebooks.\n",
      "\n",
      "Visit my webpage for more.\n",
      "\n",
      "Email me: <a href=\"mailto:email.ryan.kelly@gmail.com?Subject=Hey\" target=\"_top\">email.ryan.kelly@gmail.com</a>\n",
      "\n",
      "I'd love for you to share if you liked this post."
     ]
    },
    {
     "cell_type": "code",
     "collapsed": false,
     "input": [
      "social()"
     ],
     "language": "python",
     "metadata": {},
     "outputs": [
      {
       "ename": "NameError",
       "evalue": "name 'social' is not defined",
       "output_type": "pyerr",
       "traceback": [
        "\u001b[0;31m---------------------------------------------------------------------------\u001b[0m\n\u001b[0;31mNameError\u001b[0m                                 Traceback (most recent call last)",
        "\u001b[0;32m<ipython-input-1-d893cf13b2e6>\u001b[0m in \u001b[0;36m<module>\u001b[0;34m()\u001b[0m\n\u001b[0;32m----> 1\u001b[0;31m \u001b[0msocial\u001b[0m\u001b[0;34m(\u001b[0m\u001b[0;34m)\u001b[0m\u001b[0;34m\u001b[0m\u001b[0m\n\u001b[0m",
        "\u001b[0;31mNameError\u001b[0m: name 'social' is not defined"
       ]
      }
     ],
     "prompt_number": 1
    },
    {
     "cell_type": "heading",
     "level": 3,
     "metadata": {},
     "source": [
      "This notebook covers of includes:"
     ]
    },
    {
     "cell_type": "markdown",
     "metadata": {},
     "source": [
      "* Latent Dirichlet Allocation (LDA)\n",
      "* More"
     ]
    },
    {
     "cell_type": "markdown",
     "metadata": {},
     "source": [
      "<hr>"
     ]
    },
    {
     "cell_type": "heading",
     "level": 2,
     "metadata": {},
     "source": [
      "Latend Dirichlet Allocation (LDA)"
     ]
    },
    {
     "cell_type": "markdown",
     "metadata": {},
     "source": [
      "Topic modeling enables classification of objects into several categeories, unlike other clustering techniques that decide upon one final cluster for each observation. For example, this notebook could be both about the `python computer language`, and `machine learning` at the same time."
     ]
    },
    {
     "cell_type": "markdown",
     "metadata": {},
     "source": [
      "LDA, which shares no similarities with linear discriminant analysis, is a topic modeling method. LDA is the foundation behind many other topic modeling algorithms. We focus on understanding the algorithm at a high level.\n",
      "\n",
      "The problems we are interesting in solving are those where the topics are unknown. We want to be able to take a large body of text and discover what topics are out there, and how we could classify sub-documents within the corpus."
     ]
    },
    {
     "cell_type": "heading",
     "level": 3,
     "metadata": {},
     "source": [
      "Building a Topic Model"
     ]
    },
    {
     "cell_type": "markdown",
     "metadata": {},
     "source": [
      "Our regular tool, `scikit learn` does how have LDA implimented. We will be using the `Gensim` library. For data we use a set of news reports from the Associated Press."
     ]
    }
   ],
   "metadata": {}
  }
 ]
}