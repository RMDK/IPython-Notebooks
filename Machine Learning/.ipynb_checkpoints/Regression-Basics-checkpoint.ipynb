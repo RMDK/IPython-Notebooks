{
 "metadata": {
  "gist_id": "38aea576c3eda34b03a1",
  "name": "",
  "signature": "sha256:0e115a98fcae15cac26aa5fee259f5d1a32eaf610b55f8579d2d9991b9072b96"
 },
 "nbformat": 3,
 "nbformat_minor": 0,
 "worksheets": [
  {
   "cells": [
    {
     "cell_type": "heading",
     "level": 1,
     "metadata": {},
     "source": [
      "Machine Learning: Regression Basics"
     ]
    },
    {
     "cell_type": "markdown",
     "metadata": {},
     "source": [
      "This is a series of notebooks to document my learning, and hopefully to help others learn machine learning. I would love suggestions / corrections / feedback for these notebooks.\n",
      "\n",
      "Visit <a href=\"http://rmdk.ca\">my webpage</a> for more notebooks like this. \n",
      "\n",
      "Email me: <a href=\"mailto:email.ryan.kelly@gmail.com?Subject=Hey\" target=\"_top\">email.ryan.kelly@gmail.com</a>\n",
      "\n",
      "I'd love if you shared this"
     ]
    },
    {
     "cell_type": "code",
     "collapsed": false,
     "input": [
      "social()"
     ],
     "language": "python",
     "metadata": {},
     "outputs": [
      {
       "html": [
        "\n",
        "    <a style='float:left; margin-right:5px;' href=\"https://twitter.com/share\" class=\"twitter-share-button\" data-text=\"Check this out\" data-via=\"Ryanmdk\">Tweet</a>\n",
        "<script>!function(d,s,id){var js,fjs=d.getElementsByTagName(s)[0],p=/^http:/.test(d.location)?'http':'https';if(!d.getElementById(id)){js=d.createElement(s);js.id=id;js.src=p+'://platform.twitter.com/widgets.js';fjs.parentNode.insertBefore(js,fjs);}}(document, 'script', 'twitter-wjs');</script>\n",
        "    <a style='float:left; margin-right:5px;' href=\"https://twitter.com/Ryanmdk\" class=\"twitter-follow-button\" data-show-count=\"false\">Follow @Ryanmdk</a>\n",
        "<script>!function(d,s,id){var js,fjs=d.getElementsByTagName(s)[0],p=/^http:/.test(d.location)?'http':'https';if(!d.getElementById(id)){js=d.createElement(s);js.id=id;js.src=p+'://platform.twitter.com/widgets.js';fjs.parentNode.insertBefore(js,fjs);}}(document, 'script', 'twitter-wjs');</script>\n",
        "    <a style='float:left; margin-right:5px;'target='_parent' href=\"http://www.reddit.com/submit\" onclick=\"window.location = 'http://www.reddit.com/submit?url=' + encodeURIComponent(window.location); return false\"> <img src=\"http://www.reddit.com/static/spreddit7.gif\" alt=\"submit to reddit\" border=\"0\" /> </a>\n",
        "<script src=\"//platform.linkedin.com/in.js\" type=\"text/javascript\">\n",
        "  lang: en_US\n",
        "</script>\n",
        "<script type=\"IN/Share\"></script>\n"
       ],
       "metadata": {},
       "output_type": "pyout",
       "prompt_number": 6,
       "text": [
        "<IPython.core.display.HTML at 0x103f94610>"
       ]
      }
     ],
     "prompt_number": 6
    },
    {
     "cell_type": "heading",
     "level": 2,
     "metadata": {},
     "source": [
      "This notebook covers or includes:"
     ]
    },
    {
     "cell_type": "markdown",
     "metadata": {},
     "source": [
      "- Linear Regression OLS\n",
      "- Multiple Regression\n",
      "- Best Practices"
     ]
    },
    {
     "cell_type": "heading",
     "level": 2,
     "metadata": {},
     "source": [
      "Data Sources:"
     ]
    },
    {
     "cell_type": "markdown",
     "metadata": {},
     "source": [
      "- <a target=\"_parent\" href=\"http://en.wikipedia.org/wiki/Regression_analysis\">Wikipedia</a> (introduction content)"
     ]
    },
    {
     "cell_type": "heading",
     "level": 6,
     "metadata": {},
     "source": [
      "TO DO:"
     ]
    },
    {
     "cell_type": "markdown",
     "metadata": {},
     "source": [
      "- Improve flow"
     ]
    },
    {
     "cell_type": "heading",
     "level": 1,
     "metadata": {},
     "source": [
      "Getting Started"
     ]
    },
    {
     "cell_type": "markdown",
     "metadata": {},
     "source": [
      "Pulled directly from <a target=\"_parent\" href=\"http://en.wikipedia.org/wiki/Regression_analysis\">wikipedia</a>: \n",
      "\n",
      "In statistics, regression analysis is a **supervised learning** statistical process for estimating the relationships among variables. It includes many techniques for modeling and analyzing several variables, when the focus is on the relationship between a dependent variable and one or more independent variables. More specifically, regression analysis helps one understand how the typical value of the dependent variable (or 'criterion variable') changes when any one of the independent variables is varied, while the other independent variables are held fixed.\n",
      "\n",
      "Regression analysis is widely used for prediction and forecasting, where its use has substantial overlap with the field of machine learning. Regression analysis is also used to understand which among the independent variables are related to the dependent variable, and to explore the forms of these relationships. In restricted circumstances, regression analysis can be used to infer causal relationships between the independent and dependent variables. However this can lead to illusions or false relationships, so caution is advisable; for example, correlation does not imply causation.\n",
      "\n",
      "Let's grab some data and get going."
     ]
    },
    {
     "cell_type": "code",
     "collapsed": false,
     "input": [
      "import pandas as pd\n",
      "import numpy as np\n",
      "\n",
      "# Advertising Sales data\n",
      "df = pd.read_csv('http://www-bcf.usc.edu/~gareth/ISL/Advertising.csv', index_col=0)\n",
      "print df.info()"
     ],
     "language": "python",
     "metadata": {},
     "outputs": [
      {
       "output_type": "stream",
       "stream": "stdout",
       "text": [
        "<class 'pandas.core.frame.DataFrame'>\n",
        "Int64Index: 200 entries, 1 to 200\n",
        "Data columns (total 4 columns):\n",
        "TV           200 non-null float64\n",
        "Radio        200 non-null float64\n",
        "Newspaper    200 non-null float64\n",
        "Sales        200 non-null float64\n",
        "dtypes: float64(4)None\n"
       ]
      }
     ],
     "prompt_number": 5
    },
    {
     "cell_type": "code",
     "collapsed": false,
     "input": [
      "df.describe()"
     ],
     "language": "python",
     "metadata": {},
     "outputs": [
      {
       "html": [
        "<div style=\"max-height:1000px;max-width:1500px;overflow:auto;\">\n",
        "<table border=\"1\" class=\"dataframe\">\n",
        "  <thead>\n",
        "    <tr style=\"text-align: right;\">\n",
        "      <th></th>\n",
        "      <th>TV</th>\n",
        "      <th>Radio</th>\n",
        "      <th>Newspaper</th>\n",
        "      <th>Sales</th>\n",
        "    </tr>\n",
        "  </thead>\n",
        "  <tbody>\n",
        "    <tr>\n",
        "      <th>count</th>\n",
        "      <td> 200.000000</td>\n",
        "      <td> 200.000000</td>\n",
        "      <td> 200.000000</td>\n",
        "      <td> 200.000000</td>\n",
        "    </tr>\n",
        "    <tr>\n",
        "      <th>mean</th>\n",
        "      <td> 147.042500</td>\n",
        "      <td>  23.264000</td>\n",
        "      <td>  30.554000</td>\n",
        "      <td>  14.022500</td>\n",
        "    </tr>\n",
        "    <tr>\n",
        "      <th>std</th>\n",
        "      <td>  85.854236</td>\n",
        "      <td>  14.846809</td>\n",
        "      <td>  21.778621</td>\n",
        "      <td>   5.217457</td>\n",
        "    </tr>\n",
        "    <tr>\n",
        "      <th>min</th>\n",
        "      <td>   0.700000</td>\n",
        "      <td>   0.000000</td>\n",
        "      <td>   0.300000</td>\n",
        "      <td>   1.600000</td>\n",
        "    </tr>\n",
        "    <tr>\n",
        "      <th>25%</th>\n",
        "      <td>  74.375000</td>\n",
        "      <td>   9.975000</td>\n",
        "      <td>  12.750000</td>\n",
        "      <td>  10.375000</td>\n",
        "    </tr>\n",
        "    <tr>\n",
        "      <th>50%</th>\n",
        "      <td> 149.750000</td>\n",
        "      <td>  22.900000</td>\n",
        "      <td>  25.750000</td>\n",
        "      <td>  12.900000</td>\n",
        "    </tr>\n",
        "    <tr>\n",
        "      <th>75%</th>\n",
        "      <td> 218.825000</td>\n",
        "      <td>  36.525000</td>\n",
        "      <td>  45.100000</td>\n",
        "      <td>  17.400000</td>\n",
        "    </tr>\n",
        "    <tr>\n",
        "      <th>max</th>\n",
        "      <td> 296.400000</td>\n",
        "      <td>  49.600000</td>\n",
        "      <td> 114.000000</td>\n",
        "      <td>  27.000000</td>\n",
        "    </tr>\n",
        "  </tbody>\n",
        "</table>\n",
        "<p>8 rows \u00d7 4 columns</p>\n",
        "</div>"
       ],
       "metadata": {},
       "output_type": "pyout",
       "prompt_number": 166,
       "text": [
        "               TV       Radio   Newspaper       Sales\n",
        "count  200.000000  200.000000  200.000000  200.000000\n",
        "mean   147.042500   23.264000   30.554000   14.022500\n",
        "std     85.854236   14.846809   21.778621    5.217457\n",
        "min      0.700000    0.000000    0.300000    1.600000\n",
        "25%     74.375000    9.975000   12.750000   10.375000\n",
        "50%    149.750000   22.900000   25.750000   12.900000\n",
        "75%    218.825000   36.525000   45.100000   17.400000\n",
        "max    296.400000   49.600000  114.000000   27.000000\n",
        "\n",
        "[8 rows x 4 columns]"
       ]
      }
     ],
     "prompt_number": 166
    },
    {
     "cell_type": "markdown",
     "metadata": {},
     "source": [
      "So, what types of questions could we answer with regards to this dataset? \n",
      "\n",
      "- *Is there a relationship between the types of advertising, and sales?*\n",
      "- *How strong is this relationship?*\n",
      "- *What variables contribute to more sales?*\n",
      "- *How well can we predict sales?*\n",
      "- *Is there synergy among variables that contributes to the amount of sales?*\n",
      "\n",
      "**I will not be going over all the theory of regression, but I will demonstrate a workflow which checks assumptions and describes the required steps and considerations.**\n",
      "\n",
      "The first step is to split our data into training and testing data."
     ]
    },
    {
     "cell_type": "code",
     "collapsed": false,
     "input": [
      "from sklearn.cross_validation import train_test_split\n",
      "#Help for train test spit\n",
      "#train_test_split?\n",
      "\n",
      "x = df[['TV', 'Radio', 'Newspaper']]\n",
      "y = df['Sales']\n",
      "\n",
      "x_train, x_test, y_train, y_test = train_test_split(x, y, test_size = 0.33, random_state=123)"
     ],
     "language": "python",
     "metadata": {},
     "outputs": [],
     "prompt_number": 171
    },
    {
     "cell_type": "heading",
     "level": 2,
     "metadata": {},
     "source": [
      "Interpreting significance, influence, and the coefficients:"
     ]
    },
    {
     "cell_type": "markdown",
     "metadata": {},
     "source": [
      "Now lets get a sense about how our independent variables are related to the dependent variable (`Sales`). We do this by examining the p values and coefficients of univariate regressions between each predictor and dependent variable (DV).\n",
      "\n",
      "The questions we want to ask are:\n",
      "\n",
      "- \"Which variables are significant?\"\n",
      "- \"What type of relationship do the predictors have with the DV? (positive / negative)\"\n",
      "- \"What is the strength of this relationship\"\n",
      "- \"Does this make intuitive sense?\"\n",
      "\n",
      "The last point is particularly important. As is the case with any modeling, accurate intuition about your data takes paramount importance over the dataset on hand. For example, if the data revealed that a increases in a predictor variable, `smoking`, was found to be negatively related to lung cancer, it would likely not be satisfactory to include `smoking` in the model."
     ]
    },
    {
     "cell_type": "heading",
     "level": 3,
     "metadata": {},
     "source": [
      "Is there a potential relationship between the predictors and the response variable?"
     ]
    },
    {
     "cell_type": "code",
     "collapsed": false,
     "input": [
      "from sklearn.feature_selection import f_regression\n",
      "#f_regression?\n",
      "# Perform univariate regression and report p values\n",
      "p_values = f_regression(x_train, y_train)\n",
      "p_values"
     ],
     "language": "python",
     "metadata": {},
     "outputs": [
      {
       "metadata": {},
       "output_type": "pyout",
       "prompt_number": 172,
       "text": [
        "(array([ 201.74678914,   50.60657905,    7.68597105]),\n",
        " array([  2.29293230e-28,   6.44463252e-11,   6.37042164e-03]))"
       ]
      }
     ],
     "prompt_number": 172
    },
    {
     "cell_type": "markdown",
     "metadata": {},
     "source": [
      "Great! All of our predictors are significant ( `p < 0.05` ) in a univariate regression. The `F` values are also > 1 which suggests that all the predictors are related to sales. This is not often the case and has only happened because this dataset is tailored for machine learning analysis.\n",
      "\n",
      "Now we can take a look at the coefficients. We will build a customized function that runs several linear models to do this."
     ]
    },
    {
     "cell_type": "heading",
     "level": 3,
     "metadata": {},
     "source": [
      "What do the coefficients tell us?"
     ]
    },
    {
     "cell_type": "code",
     "collapsed": false,
     "input": [
      "def coefs(x_train, y_train, x_test, y_test):\n",
      "    lr = LinearRegression(fit_intercept=True)\n",
      "    \n",
      "    feature_names = df.columns\n",
      "    coef_list = []\n",
      "    \n",
      "    for col in xrange(len(x_train[1])):\n",
      "        # Iterate through columns, \n",
      "        # LinearRegression expects 2D inputs for x\n",
      "        # So we add a new blank axis\n",
      "        x = x_train[:, np.newaxis]\n",
      "        x = x[:, :, col]\n",
      "        \n",
      "        lr.fit(x, y_train)\n",
      "        coef_list.append([feature_names[col], lr.coef_[0]])\n",
      "        \n",
      "    return coef_list\n",
      "        \n",
      "coefs(x_train, y_train, x_test, y_test)"
     ],
     "language": "python",
     "metadata": {},
     "outputs": [
      {
       "metadata": {},
       "output_type": "pyout",
       "prompt_number": 174,
       "text": [
        "[['TV', 0.046984295187230886],\n",
        " ['Radio', 0.18498775661674768],\n",
        " ['Newspaper', 0.05350821976042866]]"
       ]
      }
     ],
     "prompt_number": 174
    },
    {
     "cell_type": "markdown",
     "metadata": {},
     "source": [
      "While we can begin to interpret the magnitude of these coefficients, the important thing at this stage is directionality. If there were any variables here which intuitively disagreed with a *known* reality in terms of direction, we would want to exclude them from the model. However, keep in mind that many times we do not know the expected behaviour, so we should not remove any variables in that case.\n",
      "\n",
      "- Here, we see that as expected, all three types of advertising have a positive effect on sales.\n",
      "\n",
      "In this notebook, we will not get into interpreting magnitudes of the coefficients beyond this. The problem is similar to one we have experienced before in classification whereby we are currently mixing our units and it would not make sense (in most cases) to interpret the coefficients this way. If the predictors shared the same unit, say in dollars of advertising spent, you could begin exploring the magnitude of the relationships with some confidence."
     ]
    },
    {
     "cell_type": "heading",
     "level": 2,
     "metadata": {},
     "source": [
      "Assessing Model Accuracy"
     ]
    },
    {
     "cell_type": "markdown",
     "metadata": {},
     "source": [
      "There are two metrics typically used to asses model fit for linear regression: \n",
      "\n",
      "- Residual standard error (RSE)\n",
      "- R^2\n",
      "\n",
      "The RSE is a measure of the average difference between the predicted y and our observed y, while R^2 is a measure of predictive power by measuring the proportion of explained variance.\n",
      "\n",
      "Let's modify our function from above to include these new metrics."
     ]
    },
    {
     "cell_type": "code",
     "collapsed": false,
     "input": [
      "def models(x_train, y_train, x_test, y_test):\n",
      "    \n",
      "    lr = LinearRegression(fit_intercept=True)\n",
      "    \n",
      "    feature_names = df.columns\n",
      "    \n",
      "    coef_list = []\n",
      "    error_list = []\n",
      "    r2_list = []\n",
      "    feature_list = []\n",
      "    \n",
      "    for col in xrange(len(feature_names)-1):\n",
      "        # Iterate through columns, \n",
      "        # LinearRegression expects 2D inputs for x\n",
      "        # So we add a new blank axis\n",
      "        xtrain = x_train[:, np.newaxis]\n",
      "        xtrain = xtrain[:, :, col]\n",
      "        \n",
      "        xtest = x_test[:, np.newaxis]\n",
      "        xtest = xtest[:, :, col]\n",
      "        \n",
      "        lr.fit(xtrain, y_train)\n",
      "        \n",
      "        # Compute RSE\n",
      "        error_list.append(np.sum(lr.predict(xtest) - y_test)**2)\n",
      "        r2_list.append(lr.score(xtest, y_test))\n",
      "        coef_list.append(lr.coef_[0])\n",
      "        feature_list.append(feature_names[col])\n",
      "        \n",
      "    out = zip(feature_list, r2_list, error_list, coef_list, )\n",
      "    \n",
      "    return out\n",
      "\n",
      "model_outs = models(x_train, y_train, x_test, y_test)\n",
      "model_outs"
     ],
     "language": "python",
     "metadata": {},
     "outputs": [
      {
       "metadata": {},
       "output_type": "pyout",
       "prompt_number": 176,
       "text": [
        "[('TV', 0.62450810246495947, 326.33971180270174, 0.046984295187230886),\n",
        " ('Radio', 0.43882257063230956, 79.574614380832173, 0.18498775661674768),\n",
        " ('Newspaper', 0.038253869337874224, 830.59166804447102, 0.05350821976042866)]"
       ]
      }
     ],
     "prompt_number": 176
    },
    {
     "cell_type": "markdown",
     "metadata": {},
     "source": [
      "Now we have a pretty good sense of how our predictors interact with `sales`. For example, `TV` advertising can explain ~62% of the variation in the data, yet the `RSE` error is rather high, which means that the deviation of this parameter can be quite variable (possibly due to some outliers).\n",
      "\n",
      "Let's use this information to build a multiple regression model that improves our R^2 value, thus our future predictive power."
     ]
    },
    {
     "cell_type": "heading",
     "level": 3,
     "metadata": {},
     "source": [
      "Switching python packages:"
     ]
    },
    {
     "cell_type": "markdown",
     "metadata": {},
     "source": [
      "scikit-learn is best for doing machine learning with emphasis on predictive modeling, often with large and sparse data.\n",
      "\n",
      "\n",
      "`statsmodels` on the other hand is better at \"traditional\" statistics and econometrics, with much stronger emphasis on parameter estimation and (statistical) testing. `statsmodels` will help us understand the basics more clearly before we move onto more complex regression techniques.\n",
      "\n",
      "Before we get into the modeling, we need to check if our dependent variable `sales` is normally distributed, and thus satisfies the assumptions of our regression."
     ]
    },
    {
     "cell_type": "code",
     "collapsed": false,
     "input": [
      "# Plot the results thus far\n",
      "from ggplot import *\n",
      "# Enable inline plotting\n",
      "%matplotlib inline\n",
      "\n",
      "qplot(y)+geom_histogram()"
     ],
     "language": "python",
     "metadata": {},
     "outputs": [
      {
       "metadata": {},
       "output_type": "display_data",
       "png": "[encoded data removed]",
       "text": [
        "<matplotlib.figure.Figure at 0x10c96e710>"
       ]
      },
      {
       "metadata": {},
       "output_type": "pyout",
       "prompt_number": 177,
       "text": [
        "<ggplot: (281636577)>"
       ]
      }
     ],
     "prompt_number": 177
    },
    {
     "cell_type": "markdown",
     "metadata": {},
     "source": [
      "This is probably as close to normal as we can get (despite the right skew), however, under circumstances with very non-normal data, you can transform the data to coerce it to be normally distributed. We will do that another day apparently. \n",
      "\n",
      "There is generally a misconception surrounding statistical analysis that requires a normality assumption. It is not very useful to test for normality using a statistical test like `Shapiro's` or `Anderson Darling`. This is because for small datasets, even large deviances from normality are not detected, and for large datasets, even the smallest departure from normality will lead to a rejected null. <a href = \"http://www.r-bloggers.com/normality-tests-don\u2019t-do-what-you-think-they-do/\"> See more here</a>."
     ]
    },
    {
     "cell_type": "code",
     "collapsed": false,
     "input": [
      "import statsmodels.api as sm\n",
      "\n",
      "# Recall our data\n",
      "x = df[['TV', 'Radio', 'Newspaper']]\n",
      "y = df['Sales']"
     ],
     "language": "python",
     "metadata": {},
     "outputs": [],
     "prompt_number": 218
    },
    {
     "cell_type": "code",
     "collapsed": false,
     "input": [
      "# Add intercept\n",
      "X = sm.add_constant(x)\n",
      "model = sm.OLS(y, X).fit()\n",
      "print model.summary2()"
     ],
     "language": "python",
     "metadata": {},
     "outputs": [
      {
       "output_type": "stream",
       "stream": "stdout",
       "text": [
        "            Results: Ordinary least squares\n",
        "======================================================\n",
        "Model:              OLS   AIC:                778.3941\n",
        "Dependent Variable: Sales BIC:                788.2891\n",
        "No. Observations:   200   Log-Likelihood:     -386.20 \n",
        "Df Model:           2     F-statistic:        859.6   \n",
        "Df Residuals:       197   Prob (F-statistic): 4.83e-98\n",
        "R-squared:          0.897 Scale:              2.8270  \n",
        "Adj. R-squared:     0.896                             \n",
        "------------------------------------------------------\n",
        "          Coef.  Std.Err.    t    P>|t|  [0.025 0.975]\n",
        "------------------------------------------------------\n",
        "const     2.9211   0.2945  9.9192 0.0000 2.3403 3.5019\n",
        "TV        0.0458   0.0014 32.9087 0.0000 0.0430 0.0485\n",
        "Radio     0.1880   0.0080 23.3824 0.0000 0.1721 0.2038\n",
        "------------------------------------------------------\n",
        "Omnibus:          60.022   Durbin-Watson:      2.081  \n",
        "Prob(Omnibus):    0.000    Jarque-Bera (JB):   148.679\n",
        "Skew:             -1.323   Prob(JB):           0.000  \n",
        "Kurtosis:         6.292    Condition No.:      425    \n",
        "======================================================\n",
        "\n"
       ]
      }
     ],
     "prompt_number": 226
    },
    {
     "cell_type": "markdown",
     "metadata": {},
     "source": [
      "As you can see, `statsmodels` provides a much more descriptive output, and it well suited for these basic statistic stats."
     ]
    },
    {
     "cell_type": "heading",
     "level": 2,
     "metadata": {},
     "source": [
      "Interpreting the output and variable selection:"
     ]
    },
    {
     "cell_type": "markdown",
     "metadata": {},
     "source": [
      "This is a very important part! Here is what you need to know. \n",
      "\n",
      "First, we can examine the model's F statistic and p-value. If our F statistic is greater than 1 we can conclude that *at least* one of our variables is related to housing price and we can continue with our analysis. There are special cases when  `n`  is small, or when we have more predictors than  `n` , but we will cover this later.\n",
      "\n",
      "Now, we are more concerned about **which** variables are related, and how they are related.\n",
      "\n",
      "Below, we can see the `coefficients` and `p-values` of the individual independent variables. These `p-values` judge whether each individual predictor is related to the dependent variable, **after** adjusting for the other predictors. Simply put, it measures the *partial effect* of adding that particular variable to the model, in the presence of other variables.\n",
      "\n",
      "What we are talking about here are the considerations for *variable selection*. Since we want only the predictors that actually influence the prediction of our dependent variable. While there are very complex methods of variable selection (`AIC BIC`), we will explore the basics here.\n",
      "\n",
      "The two most basic methods are:\n",
      "\n",
      "- **Forward Selection**. Begin with a null model of an intercept and no predictors. Fit univariate regressions for all available predictors. Add the predictor with the lowest `RSS` to the model. The next variables added will be the one that results in the lowest RSS for the new 2-variable model. This is continued until some stopping rule.\n",
      "\n",
      "\n",
      "- **Backward Selection**. Start will all variables in the model, then remove the variable with the largest `p-value` (the least significant). Refit the model and repeat the processes until all remaining variables have `p` < some defined threshold (often < 0.05 or 0.1).\n",
      "\n",
      "There are also ways to combine these two techniques, which is how I prefer to do it. This is called **mixed selection**. Starting with no variables in the model, add the variable that provides the best fit (highest `R^2` from the univariate regression). When then continue adding variables by next highest `R^2` as long as their `p-value` in the multiple regression model are significant.\n",
      "\n",
      "Lastly, we need some way to judge overall model performance. Recall that `RSE` and `R^2` are the most common measures of model fit. An `R^2` of `1` would indicate that the predictor variables explain all the variation of the dependent variable (not realistic to find this in nature). We can add this idea to our variable selection technique. We will only include variables which also increase `R^2` by at least some threshold (perhaps 0.5% or 1%).\n",
      "<hr>"
     ]
    },
    {
     "cell_type": "heading",
     "level": 3,
     "metadata": {},
     "source": [
      "So what does all this mean for our model?"
     ]
    },
    {
     "cell_type": "markdown",
     "metadata": {},
     "source": [
      "Notice that when we include all three advertising types into the model that `newspaper` changes from significant in our univariate regression to  insignificant in multiple regression. We can therefor conclude that newspaper has no influence (positive or negative) on sales. This is a common situation when using real-life data. \n",
      "\n",
      "Consider the correlation between `newspaper` and `radio`:"
     ]
    },
    {
     "cell_type": "code",
     "collapsed": false,
     "input": [
      "from scipy.stats.stats import pearsonr\n",
      "\n",
      "pearsonr(X['Radio'], X['Newspaper'])"
     ],
     "language": "python",
     "metadata": {},
     "outputs": [
      {
       "metadata": {},
       "output_type": "pyout",
       "prompt_number": 186,
       "text": [
        "(0.35410375076117517, 2.688835078719089e-07)"
       ]
      }
     ],
     "prompt_number": 186
    },
    {
     "cell_type": "markdown",
     "metadata": {},
     "source": [
      "As we can see, these two variables correlated. This means that there is a tendency to spend more on `newspaper` advertising in the same markets where more is spent on `radio` advertising. What this means is that `newspaper` appears to be related to `sales`, but it is only piggy-backing on the affect of `radio` advertising.\n",
      "\n",
      "The classic example of this effect is the relationship between ice cream sales and shark attacks, which suggests that closing down ice cream parlours would reduce incidents. However, the increased shark attacks is facilitated by increasing temperatures, which drives more people to the beach, who also purchase ice cream.\n",
      "\n",
      "Let's exclude newspaper from our model."
     ]
    },
    {
     "cell_type": "code",
     "collapsed": false,
     "input": [
      "df = pd.read_csv('http://www-bcf.usc.edu/~gareth/ISL/Advertising.csv', index_col=0)\n",
      "\n",
      "x = df[['TV', 'Radio']]\n",
      "y = df['Sales']\n",
      "\n",
      "X = sm.add_constant(x)\n",
      "\n",
      "model = sm.OLS(y, X).fit()\n",
      "# print model error\n",
      "print model.mse_resid\n",
      "print model.summary2()"
     ],
     "language": "python",
     "metadata": {},
     "outputs": [
      {
       "output_type": "stream",
       "stream": "stdout",
       "text": [
        "2.82697451811\n",
        "            Results: Ordinary least squares\n",
        "======================================================\n",
        "Model:              OLS   AIC:                778.3941\n",
        "Dependent Variable: Sales BIC:                788.2891\n",
        "No. Observations:   200   Log-Likelihood:     -386.20 \n",
        "Df Model:           2     F-statistic:        859.6   \n",
        "Df Residuals:       197   Prob (F-statistic): 4.83e-98\n",
        "R-squared:          0.897 Scale:              2.8270  \n",
        "Adj. R-squared:     0.896                             \n",
        "------------------------------------------------------\n",
        "          Coef.  Std.Err.    t    P>|t|  [0.025 0.975]\n",
        "------------------------------------------------------\n",
        "const     2.9211   0.2945  9.9192 0.0000 2.3403 3.5019\n",
        "TV        0.0458   0.0014 32.9087 0.0000 0.0430 0.0485\n",
        "Radio     0.1880   0.0080 23.3824 0.0000 0.1721 0.2038\n",
        "------------------------------------------------------\n",
        "Omnibus:          60.022   Durbin-Watson:      2.081  \n",
        "Prob(Omnibus):    0.000    Jarque-Bera (JB):   148.679\n",
        "Skew:             -1.323   Prob(JB):           0.000  \n",
        "Kurtosis:         6.292    Condition No.:      425    \n",
        "======================================================\n",
        "\n"
       ]
      }
     ],
     "prompt_number": 353
    },
    {
     "cell_type": "markdown",
     "metadata": {},
     "source": [
      "<hr>\n",
      "Great! As you can see, we really did not lose any predictive power by removing `newspaper`. However, there could also be some problems that cannot be diagnosed using these numbers or tests. One of the more robust and simple ways to assess the quality of our model is to plot the residuals, which is the error term, computed from the difference of the predicted and observed data.\n",
      "\n",
      "For linear regression, we expect that the residuals (predicted values) are evenly distributed around zero."
     ]
    },
    {
     "cell_type": "code",
     "collapsed": false,
     "input": [
      "qplot(y=model.resid, x = xrange(len(y)))+geom_point() \\\n",
      "+ geom_smooth(size=2,color='blue', se=False)"
     ],
     "language": "python",
     "metadata": {},
     "outputs": [
      {
       "metadata": {},
       "output_type": "display_data",
       "png": "[encoded data removed]",
       "text": [
        "<matplotlib.figure.Figure at 0x11ac9b890>"
       ]
      },
      {
       "metadata": {},
       "output_type": "pyout",
       "prompt_number": 284,
       "text": [
        "<ggplot: (297961477)>"
       ]
      }
     ],
     "prompt_number": 284
    },
    {
     "cell_type": "markdown",
     "metadata": {},
     "source": [
      "We can see that there is a negative skew on these residuals, which suggests that there is some bias towards under prediction in the model. Further we can see a very subtle negative-to-positive-to-negative trend. This suggests a non-linear pattern whereby two or more variables are interacting with some synergistic effects. In other words, sometimes combining `TV` and `Radio` advertising can work together to boost sales more than using any single medium. \n",
      "\n",
      "We will discuss this in more later."
     ]
    },
    {
     "cell_type": "heading",
     "level": 2,
     "metadata": {},
     "source": [
      "Prediction:"
     ]
    },
    {
     "cell_type": "markdown",
     "metadata": {},
     "source": [
      "Once we have fit a satisfactory multiple regression model, we can quickly begin to predict the response of `y` using new values for the predictors. Yet, we should utilize a confidence interval to quantify the uncertainty of out prediction of sales. Using this method we can predict that the true `sales` will be within some 95% confidence interval given any `TV` or `Radio` spending."
     ]
    },
    {
     "cell_type": "heading",
     "level": 2,
     "metadata": {},
     "source": [
      "Other Regression Considerations:"
     ]
    },
    {
     "cell_type": "markdown",
     "metadata": {},
     "source": [
      "What we have discussed thus far is very basic regression techniques. In the real world we have many **different types of data sources**, and **non-linear relationships**."
     ]
    },
    {
     "cell_type": "heading",
     "level": 3,
     "metadata": {},
     "source": [
      "Dealing with Quantitative Variables:"
     ]
    },
    {
     "cell_type": "code",
     "collapsed": false,
     "input": [
      "url = 'http://www-bcf.usc.edu/~gareth/ISL/Credit.csv'\n",
      "\n",
      "df = pd.read_csv(url)\n",
      "df.info()"
     ],
     "language": "python",
     "metadata": {},
     "outputs": [
      {
       "output_type": "stream",
       "stream": "stdout",
       "text": [
        "<class 'pandas.core.frame.DataFrame'>\n",
        "Int64Index: 400 entries, 0 to 399\n",
        "Data columns (total 12 columns):\n",
        "Unnamed: 0    400 non-null int64\n",
        "Income        400 non-null float64\n",
        "Limit         400 non-null int64\n",
        "Rating        400 non-null int64\n",
        "Cards         400 non-null int64\n",
        "Age           400 non-null int64\n",
        "Education     400 non-null int64\n",
        "Gender        400 non-null object\n",
        "Student       400 non-null object\n",
        "Married       400 non-null object\n",
        "Ethnicity     400 non-null object\n",
        "Balance       400 non-null int64\n",
        "dtypes: float64(1), int64(7), object(4)"
       ]
      }
     ],
     "prompt_number": 6
    },
    {
     "cell_type": "markdown",
     "metadata": {},
     "source": [
      "In this dataset we have several qualitative variables, along with some quantitative. Let's see how this data is coded."
     ]
    },
    {
     "cell_type": "code",
     "collapsed": false,
     "input": [
      "df.head()"
     ],
     "language": "python",
     "metadata": {},
     "outputs": [
      {
       "html": [
        "<div style=\"max-height:1000px;max-width:1500px;overflow:auto;\">\n",
        "<table border=\"1\" class=\"dataframe\">\n",
        "  <thead>\n",
        "    <tr style=\"text-align: right;\">\n",
        "      <th></th>\n",
        "      <th>Unnamed: 0</th>\n",
        "      <th>Income</th>\n",
        "      <th>Limit</th>\n",
        "      <th>Rating</th>\n",
        "      <th>Cards</th>\n",
        "      <th>Age</th>\n",
        "      <th>Education</th>\n",
        "      <th>Gender</th>\n",
        "      <th>Student</th>\n",
        "      <th>Married</th>\n",
        "      <th>Ethnicity</th>\n",
        "      <th>Balance</th>\n",
        "    </tr>\n",
        "  </thead>\n",
        "  <tbody>\n",
        "    <tr>\n",
        "      <th>0</th>\n",
        "      <td> 1</td>\n",
        "      <td>  14.891</td>\n",
        "      <td> 3606</td>\n",
        "      <td> 283</td>\n",
        "      <td> 2</td>\n",
        "      <td> 34</td>\n",
        "      <td> 11</td>\n",
        "      <td>   Male</td>\n",
        "      <td>  No</td>\n",
        "      <td> Yes</td>\n",
        "      <td> Caucasian</td>\n",
        "      <td> 333</td>\n",
        "    </tr>\n",
        "    <tr>\n",
        "      <th>1</th>\n",
        "      <td> 2</td>\n",
        "      <td> 106.025</td>\n",
        "      <td> 6645</td>\n",
        "      <td> 483</td>\n",
        "      <td> 3</td>\n",
        "      <td> 82</td>\n",
        "      <td> 15</td>\n",
        "      <td> Female</td>\n",
        "      <td> Yes</td>\n",
        "      <td> Yes</td>\n",
        "      <td>     Asian</td>\n",
        "      <td> 903</td>\n",
        "    </tr>\n",
        "    <tr>\n",
        "      <th>2</th>\n",
        "      <td> 3</td>\n",
        "      <td> 104.593</td>\n",
        "      <td> 7075</td>\n",
        "      <td> 514</td>\n",
        "      <td> 4</td>\n",
        "      <td> 71</td>\n",
        "      <td> 11</td>\n",
        "      <td>   Male</td>\n",
        "      <td>  No</td>\n",
        "      <td>  No</td>\n",
        "      <td>     Asian</td>\n",
        "      <td> 580</td>\n",
        "    </tr>\n",
        "    <tr>\n",
        "      <th>3</th>\n",
        "      <td> 4</td>\n",
        "      <td> 148.924</td>\n",
        "      <td> 9504</td>\n",
        "      <td> 681</td>\n",
        "      <td> 3</td>\n",
        "      <td> 36</td>\n",
        "      <td> 11</td>\n",
        "      <td> Female</td>\n",
        "      <td>  No</td>\n",
        "      <td>  No</td>\n",
        "      <td>     Asian</td>\n",
        "      <td> 964</td>\n",
        "    </tr>\n",
        "    <tr>\n",
        "      <th>4</th>\n",
        "      <td> 5</td>\n",
        "      <td>  55.882</td>\n",
        "      <td> 4897</td>\n",
        "      <td> 357</td>\n",
        "      <td> 2</td>\n",
        "      <td> 68</td>\n",
        "      <td> 16</td>\n",
        "      <td>   Male</td>\n",
        "      <td>  No</td>\n",
        "      <td> Yes</td>\n",
        "      <td> Caucasian</td>\n",
        "      <td> 331</td>\n",
        "    </tr>\n",
        "  </tbody>\n",
        "</table>\n",
        "<p>5 rows \u00d7 12 columns</p>\n",
        "</div>"
       ],
       "metadata": {},
       "output_type": "pyout",
       "prompt_number": 316,
       "text": [
        "   Unnamed: 0   Income  Limit  Rating  Cards  Age  Education  Gender Student  \\\n",
        "0           1   14.891   3606     283      2   34         11    Male      No   \n",
        "1           2  106.025   6645     483      3   82         15  Female     Yes   \n",
        "2           3  104.593   7075     514      4   71         11    Male      No   \n",
        "3           4  148.924   9504     681      3   36         11  Female      No   \n",
        "4           5   55.882   4897     357      2   68         16    Male      No   \n",
        "\n",
        "  Married  Ethnicity  Balance  \n",
        "0     Yes  Caucasian      333  \n",
        "1     Yes      Asian      903  \n",
        "2      No      Asian      580  \n",
        "3      No      Asian      964  \n",
        "4     Yes  Caucasian      331  \n",
        "\n",
        "[5 rows x 12 columns]"
       ]
      }
     ],
     "prompt_number": 316
    },
    {
     "cell_type": "markdown",
     "metadata": {},
     "source": [
      "We can see that the data for the qualitative variables (also known as factors) are coded as text strings. Factors such as `Gender`, `Student` and  `Married` only have two `levels`, for example: `male` or `female`. To incorporate these into a regression model, we can create a `dummy variable` that takes on two values based on the two levels of the factor. To convert `Gender` to a dummy variable we simple create a new variable:\n",
      "\n",
      "- `Gender` = **1** if person is male, **0** if person is female.\n",
      "\n",
      "In the regression model, if a person is female we simply do not compute a coefficient, since in our model, being female is represented as an absence of being male, thus the `Gender` variable can be modeled by only investigating the properties of either being male, or not being male. In this example, being female is considered the `baseline` condition, which is associated with *B*0, or the regression intercept.\n",
      "\n",
      "\u03b20+\u03b21+\u03b5i if the person is Male\n",
      "\n",
      "\u03b20+\u03b5i if the person is Female\n",
      "\n",
      "Now \u03b20 can be interpreted as average credit score among females, \u03b20 + \u03b21 as the average credit score among males, and \u03b21 as the average difference in credit balance between males and females.\n",
      "\n",
      "Coding males at 1 is arbitrary, you could have chosen females to be equal to 1; the only difference is in how you interpret the coefficients."
     ]
    },
    {
     "cell_type": "code",
     "collapsed": false,
     "input": [
      "# Create new dummy variable\n",
      "df['Males'] = 1\n",
      "df['Males'][df['Gender']=='Female'] = 0 \n",
      "\n",
      "x = df[['Males']]\n",
      "y = df['Balance']\n",
      "\n",
      "X = sm.add_constant(x)\n",
      "model = sm.OLS(y, X).fit()\n",
      "# print model error\n",
      "print 'p-values:'\n",
      "print model.pvalues\n",
      "print 'R^2:'\n",
      "print model.rsquared_adj"
     ],
     "language": "python",
     "metadata": {},
     "outputs": [
      {
       "output_type": "stream",
       "stream": "stdout",
       "text": [
        "p-values:\n",
        "const    3.312981e-47\n",
        "Males    6.685161e-01\n",
        "dtype: float64\n",
        "R^2:\n",
        "-0.00205027122403\n"
       ]
      }
     ],
     "prompt_number": 317
    },
    {
     "cell_type": "markdown",
     "metadata": {},
     "source": [
      "As we can see, thus far there is no significant relationship between being male or female."
     ]
    },
    {
     "cell_type": "heading",
     "level": 3,
     "metadata": {},
     "source": [
      "Qualitative predictors with more than two levels:"
     ]
    },
    {
     "cell_type": "markdown",
     "metadata": {},
     "source": [
      "Considered the variable `Ethnicity`, which has three levels. A single dummy variable cannot represent all the possible values. Instead we create two dummy variables.\n",
      "\n",
      "1. Asian: if Asian = 1, otherwise 0\n",
      "2. Caucasian: if Caucasian = 1, otherwise 0\n",
      "\n",
      "Notice we do not need a third dummy variable, because African American is accounted for by the baseline condition (intercept) similar to how females was in the previous example.\n",
      "\n",
      "\u03b20+\u03b21+\u03b5i if the person is Asian\n",
      "\n",
      "\u03b20+\u03b22+\u03b5i if the person is Caucasian\n",
      "\n",
      "\u03b20+\u03b5i if the person is African American\n",
      "\n",
      "Now \u03b20 is the average credit balance for African Americans, \u03b21 is the difference in the average balance between Asian and African Americans, and \u03b22 is the difference in the average balance between Caucasian and African American's.\n",
      "\n",
      "Thus we now can think about this as comparing the baseline condition \u03b20 to the other conditions."
     ]
    },
    {
     "cell_type": "code",
     "collapsed": false,
     "input": [
      "# Create dummy variables easily in pandas!\n",
      "x = pd.core.reshape.get_dummies(df['Ethnicity'])\n",
      "# Remove the African American variable\n",
      "x = x[['Asian', 'Caucasian']]\n",
      "x.head()"
     ],
     "language": "python",
     "metadata": {},
     "outputs": [
      {
       "html": [
        "<div style=\"max-height:1000px;max-width:1500px;overflow:auto;\">\n",
        "<table border=\"1\" class=\"dataframe\">\n",
        "  <thead>\n",
        "    <tr style=\"text-align: right;\">\n",
        "      <th></th>\n",
        "      <th>Asian</th>\n",
        "      <th>Caucasian</th>\n",
        "    </tr>\n",
        "  </thead>\n",
        "  <tbody>\n",
        "    <tr>\n",
        "      <th>0</th>\n",
        "      <td> 0</td>\n",
        "      <td> 1</td>\n",
        "    </tr>\n",
        "    <tr>\n",
        "      <th>1</th>\n",
        "      <td> 1</td>\n",
        "      <td> 0</td>\n",
        "    </tr>\n",
        "    <tr>\n",
        "      <th>2</th>\n",
        "      <td> 1</td>\n",
        "      <td> 0</td>\n",
        "    </tr>\n",
        "    <tr>\n",
        "      <th>3</th>\n",
        "      <td> 1</td>\n",
        "      <td> 0</td>\n",
        "    </tr>\n",
        "    <tr>\n",
        "      <th>4</th>\n",
        "      <td> 0</td>\n",
        "      <td> 1</td>\n",
        "    </tr>\n",
        "  </tbody>\n",
        "</table>\n",
        "<p>5 rows \u00d7 2 columns</p>\n",
        "</div>"
       ],
       "metadata": {},
       "output_type": "pyout",
       "prompt_number": 318,
       "text": [
        "   Asian  Caucasian\n",
        "0      0          1\n",
        "1      1          0\n",
        "2      1          0\n",
        "3      1          0\n",
        "4      0          1\n",
        "\n",
        "[5 rows x 2 columns]"
       ]
      }
     ],
     "prompt_number": 318
    },
    {
     "cell_type": "code",
     "collapsed": false,
     "input": [
      "X = sm.add_constant(x)\n",
      "model = sm.OLS(y, X).fit()\n",
      "model.summary()"
     ],
     "language": "python",
     "metadata": {},
     "outputs": [
      {
       "html": [
        "<table class=\"simpletable\">\n",
        "<caption>OLS Regression Results</caption>\n",
        "<tr>\n",
        "  <th>Dep. Variable:</th>          <td>Sales</td>      <th>  R-squared:         </th> <td>   0.897</td>\n",
        "</tr>\n",
        "<tr>\n",
        "  <th>Model:</th>                   <td>OLS</td>       <th>  Adj. R-squared:    </th> <td>   0.896</td>\n",
        "</tr>\n",
        "<tr>\n",
        "  <th>Method:</th>             <td>Least Squares</td>  <th>  F-statistic:       </th> <td>   859.6</td>\n",
        "</tr>\n",
        "<tr>\n",
        "  <th>Date:</th>             <td>Mon, 26 May 2014</td> <th>  Prob (F-statistic):</th> <td>4.83e-98</td>\n",
        "</tr>\n",
        "<tr>\n",
        "  <th>Time:</th>                 <td>19:14:51</td>     <th>  Log-Likelihood:    </th> <td> -386.20</td>\n",
        "</tr>\n",
        "<tr>\n",
        "  <th>No. Observations:</th>      <td>   200</td>      <th>  AIC:               </th> <td>   778.4</td>\n",
        "</tr>\n",
        "<tr>\n",
        "  <th>Df Residuals:</th>          <td>   197</td>      <th>  BIC:               </th> <td>   788.3</td>\n",
        "</tr>\n",
        "<tr>\n",
        "  <th>Df Model:</th>              <td>     2</td>      <th>                     </th>     <td> </td>   \n",
        "</tr>\n",
        "</table>\n",
        "<table class=\"simpletable\">\n",
        "<tr>\n",
        "    <td></td>       <th>coef</th>     <th>std err</th>      <th>t</th>      <th>P>|t|</th> <th>[95.0% Conf. Int.]</th> \n",
        "</tr>\n",
        "<tr>\n",
        "  <th>const</th> <td>    2.9211</td> <td>    0.294</td> <td>    9.919</td> <td> 0.000</td> <td>    2.340     3.502</td>\n",
        "</tr>\n",
        "<tr>\n",
        "  <th>TV</th>    <td>    0.0458</td> <td>    0.001</td> <td>   32.909</td> <td> 0.000</td> <td>    0.043     0.048</td>\n",
        "</tr>\n",
        "<tr>\n",
        "  <th>Radio</th> <td>    0.1880</td> <td>    0.008</td> <td>   23.382</td> <td> 0.000</td> <td>    0.172     0.204</td>\n",
        "</tr>\n",
        "</table>\n",
        "<table class=\"simpletable\">\n",
        "<tr>\n",
        "  <th>Omnibus:</th>       <td>60.022</td> <th>  Durbin-Watson:     </th> <td>   2.081</td>\n",
        "</tr>\n",
        "<tr>\n",
        "  <th>Prob(Omnibus):</th> <td> 0.000</td> <th>  Jarque-Bera (JB):  </th> <td> 148.679</td>\n",
        "</tr>\n",
        "<tr>\n",
        "  <th>Skew:</th>          <td>-1.323</td> <th>  Prob(JB):          </th> <td>5.19e-33</td>\n",
        "</tr>\n",
        "<tr>\n",
        "  <th>Kurtosis:</th>      <td> 6.292</td> <th>  Cond. No.          </th> <td>    425.</td>\n",
        "</tr>\n",
        "</table>"
       ],
       "metadata": {},
       "output_type": "pyout",
       "prompt_number": 352,
       "text": [
        "<class 'statsmodels.iolib.summary.Summary'>\n",
        "\"\"\"\n",
        "                            OLS Regression Results                            \n",
        "==============================================================================\n",
        "Dep. Variable:                  Sales   R-squared:                       0.897\n",
        "Model:                            OLS   Adj. R-squared:                  0.896\n",
        "Method:                 Least Squares   F-statistic:                     859.6\n",
        "Date:                Mon, 26 May 2014   Prob (F-statistic):           4.83e-98\n",
        "Time:                        19:14:51   Log-Likelihood:                -386.20\n",
        "No. Observations:                 200   AIC:                             778.4\n",
        "Df Residuals:                     197   BIC:                             788.3\n",
        "Df Model:                           2                                         \n",
        "==============================================================================\n",
        "                 coef    std err          t      P>|t|      [95.0% Conf. Int.]\n",
        "------------------------------------------------------------------------------\n",
        "const          2.9211      0.294      9.919      0.000         2.340     3.502\n",
        "TV             0.0458      0.001     32.909      0.000         0.043     0.048\n",
        "Radio          0.1880      0.008     23.382      0.000         0.172     0.204\n",
        "==============================================================================\n",
        "Omnibus:                       60.022   Durbin-Watson:                   2.081\n",
        "Prob(Omnibus):                  0.000   Jarque-Bera (JB):              148.679\n",
        "Skew:                          -1.323   Prob(JB):                     5.19e-33\n",
        "Kurtosis:                       6.292   Cond. No.                         425.\n",
        "==============================================================================\n",
        "\"\"\""
       ]
      }
     ],
     "prompt_number": 352
    },
    {
     "cell_type": "markdown",
     "metadata": {},
     "source": [
      "We can see that the baseline credit balance for `African Americans` is 531. It is also estimated that `Asians` have **~\\$18** less debt than `African Americans` and `Caucasians` will have **~\\$12** less debt than `African Americans`.\n",
      "\n",
      "However, it turns out that this factor is not significant in our model of credit balance, since the `p-values` are insignificant and the `F` statistic is close to `1`, which suggests that there is no relationship between the variables (accepts the null hypothesis)."
     ]
    },
    {
     "cell_type": "heading",
     "level": 3,
     "metadata": {},
     "source": [
      "Non-Linear effects:"
     ]
    },
    {
     "cell_type": "markdown",
     "metadata": {},
     "source": [
      "While a linear regression model often may produce good results, the assumptions that the relationship between the predictors and the response is both _additive_ and _linear_ is often violated. The additive assumption means that the effect of changes in predictor ***X*** *j* on the response ***Y*** is independent of the values of the other predictors. While the linear assumption means that change in the response variable is constant per unit of the predictor variable. \n",
      "\n",
      "There are however, some basic ways to relax some of these assumptions:"
     ]
    },
    {
     "cell_type": "heading",
     "level": 4,
     "metadata": {},
     "source": [
      "Removing the Additive Assumption:"
     ]
    },
    {
     "cell_type": "markdown",
     "metadata": {},
     "source": [
      "Recall in the Advertising sales data we concluded that `TV` and `Radio` have an effect on `Sales`. Under additive linear assumptions, the effect of `TV` on sales is independent of the amount spent on `Radio` advertising. \n",
      "\n",
      "However, it may be the the case that spending money on `Radio` advertising increases the effectiveness of `TV`.\n",
      "\n",
      "From a marketing perspective it could mean that splitting the advertising funds between `Radio` and `TV` could be more effective than spending it all on `TV`."
     ]
    },
    {
     "cell_type": "code",
     "collapsed": false,
     "input": [
      "# import formula api as alias smf\n",
      "import statsmodels.formula.api as smf\n",
      "\n",
      "# formula: response ~ predictor + predictor\n",
      "model = smf.ols(formula='Sales ~ 1 + TV + Radio + TV * Radio', data=df).fit()\n",
      "model.summary()"
     ],
     "language": "python",
     "metadata": {},
     "outputs": [
      {
       "html": [
        "<table class=\"simpletable\">\n",
        "<caption>OLS Regression Results</caption>\n",
        "<tr>\n",
        "  <th>Dep. Variable:</th>          <td>Sales</td>      <th>  R-squared:         </th> <td>   0.968</td> \n",
        "</tr>\n",
        "<tr>\n",
        "  <th>Model:</th>                   <td>OLS</td>       <th>  Adj. R-squared:    </th> <td>   0.967</td> \n",
        "</tr>\n",
        "<tr>\n",
        "  <th>Method:</th>             <td>Least Squares</td>  <th>  F-statistic:       </th> <td>   1963.</td> \n",
        "</tr>\n",
        "<tr>\n",
        "  <th>Date:</th>             <td>Mon, 26 May 2014</td> <th>  Prob (F-statistic):</th> <td>6.68e-146</td>\n",
        "</tr>\n",
        "<tr>\n",
        "  <th>Time:</th>                 <td>19:15:19</td>     <th>  Log-Likelihood:    </th> <td> -270.14</td> \n",
        "</tr>\n",
        "<tr>\n",
        "  <th>No. Observations:</th>      <td>   200</td>      <th>  AIC:               </th> <td>   548.3</td> \n",
        "</tr>\n",
        "<tr>\n",
        "  <th>Df Residuals:</th>          <td>   196</td>      <th>  BIC:               </th> <td>   561.5</td> \n",
        "</tr>\n",
        "<tr>\n",
        "  <th>Df Model:</th>              <td>     3</td>      <th>                     </th>     <td> </td>    \n",
        "</tr>\n",
        "</table>\n",
        "<table class=\"simpletable\">\n",
        "<tr>\n",
        "      <td></td>         <th>coef</th>     <th>std err</th>      <th>t</th>      <th>P>|t|</th> <th>[95.0% Conf. Int.]</th> \n",
        "</tr>\n",
        "<tr>\n",
        "  <th>Intercept</th> <td>    6.7502</td> <td>    0.248</td> <td>   27.233</td> <td> 0.000</td> <td>    6.261     7.239</td>\n",
        "</tr>\n",
        "<tr>\n",
        "  <th>TV</th>        <td>    0.0191</td> <td>    0.002</td> <td>   12.699</td> <td> 0.000</td> <td>    0.016     0.022</td>\n",
        "</tr>\n",
        "<tr>\n",
        "  <th>Radio</th>     <td>    0.0289</td> <td>    0.009</td> <td>    3.241</td> <td> 0.001</td> <td>    0.011     0.046</td>\n",
        "</tr>\n",
        "<tr>\n",
        "  <th>TV:Radio</th>  <td>    0.0011</td> <td> 5.24e-05</td> <td>   20.727</td> <td> 0.000</td> <td>    0.001     0.001</td>\n",
        "</tr>\n",
        "</table>\n",
        "<table class=\"simpletable\">\n",
        "<tr>\n",
        "  <th>Omnibus:</th>       <td>128.132</td> <th>  Durbin-Watson:     </th> <td>   2.224</td> \n",
        "</tr>\n",
        "<tr>\n",
        "  <th>Prob(Omnibus):</th> <td> 0.000</td>  <th>  Jarque-Bera (JB):  </th> <td>1183.719</td> \n",
        "</tr>\n",
        "<tr>\n",
        "  <th>Skew:</th>          <td>-2.323</td>  <th>  Prob(JB):          </th> <td>9.09e-258</td>\n",
        "</tr>\n",
        "<tr>\n",
        "  <th>Kurtosis:</th>      <td>13.975</td>  <th>  Cond. No.          </th> <td>1.80e+04</td> \n",
        "</tr>\n",
        "</table>"
       ],
       "metadata": {},
       "output_type": "pyout",
       "prompt_number": 354,
       "text": [
        "<class 'statsmodels.iolib.summary.Summary'>\n",
        "\"\"\"\n",
        "                            OLS Regression Results                            \n",
        "==============================================================================\n",
        "Dep. Variable:                  Sales   R-squared:                       0.968\n",
        "Model:                            OLS   Adj. R-squared:                  0.967\n",
        "Method:                 Least Squares   F-statistic:                     1963.\n",
        "Date:                Mon, 26 May 2014   Prob (F-statistic):          6.68e-146\n",
        "Time:                        19:15:19   Log-Likelihood:                -270.14\n",
        "No. Observations:                 200   AIC:                             548.3\n",
        "Df Residuals:                     196   BIC:                             561.5\n",
        "Df Model:                           3                                         \n",
        "==============================================================================\n",
        "                 coef    std err          t      P>|t|      [95.0% Conf. Int.]\n",
        "------------------------------------------------------------------------------\n",
        "Intercept      6.7502      0.248     27.233      0.000         6.261     7.239\n",
        "TV             0.0191      0.002     12.699      0.000         0.016     0.022\n",
        "Radio          0.0289      0.009      3.241      0.001         0.011     0.046\n",
        "TV:Radio       0.0011   5.24e-05     20.727      0.000         0.001     0.001\n",
        "==============================================================================\n",
        "Omnibus:                      128.132   Durbin-Watson:                   2.224\n",
        "Prob(Omnibus):                  0.000   Jarque-Bera (JB):             1183.719\n",
        "Skew:                          -2.323   Prob(JB):                    9.09e-258\n",
        "Kurtosis:                      13.975   Cond. No.                     1.80e+04\n",
        "==============================================================================\n",
        "\n",
        "Warnings:\n",
        "[1] The condition number is large, 1.8e+04. This might indicate that there are\n",
        "strong multicollinearity or other numerical problems.\n",
        "\"\"\""
       ]
      }
     ],
     "prompt_number": 354
    },
    {
     "cell_type": "markdown",
     "metadata": {},
     "source": [
      "It turns out we were right! The synergistic effect increased our `R^2` by about **6%**. There may be examples where the individual effects may be insignificant after adding an interaction term, however it is still good practice to keep in these individual terms. This is because leaving them out tends to alter the meaning of the interaction.\n",
      "\n",
      "Interaction tends to be an important consideration for qualitative variables as well. Recall the Credit Card dataset. It is likely that changes in `income` would have different effects on `students` vs. `non-students`. Thus we can multiply `income` with the student dummy variable. In terms of the model fit, this means that the slopes of the lines between `students` and `non-students` will be different when estimating `credit balance` using `income`. We could eventually conclude that `non-students` may have larger `credit balances` as `income` increases, compared to individuals that are `students`."
     ]
    },
    {
     "cell_type": "heading",
     "level": 4,
     "metadata": {},
     "source": [
      "Non-Linear Relationships:"
     ]
    },
    {
     "cell_type": "markdown",
     "metadata": {},
     "source": [
      "In some cases, the true relatioship between the predictors and the response variable could be non-linear. We can extend the linear model to accomodate non-linear effects using **Polynomial Regression**. There are however, other more advanced techniques that will be discussed later that may be better suited to this type of application.\n",
      "\n",
      "More on polynomial fitting can be found in my other notebook <a target = '_self' href='http://rmdk.ca/machine-learning-curve-fitting/'>here</a>."
     ]
    },
    {
     "cell_type": "code",
     "collapsed": false,
     "input": [
      "url = 'http://www-bcf.usc.edu/~gareth/ISL/Auto.csv'\n",
      "df = pd.read_csv(url)\n",
      "\n",
      "df.info()"
     ],
     "language": "python",
     "metadata": {},
     "outputs": [
      {
       "output_type": "stream",
       "stream": "stdout",
       "text": [
        "<class 'pandas.core.frame.DataFrame'>\n",
        "Int64Index: 397 entries, 0 to 396\n",
        "Data columns (total 9 columns):\n",
        "mpg             397 non-null float64\n",
        "cylinders       397 non-null int64\n",
        "displacement    397 non-null float64\n",
        "horsepower      397 non-null object\n",
        "weight          397 non-null int64\n",
        "acceleration    397 non-null float64\n",
        "year            397 non-null int64\n",
        "origin          397 non-null int64\n",
        "name            397 non-null object\n",
        "dtypes: float64(3), int64(4), object(2)"
       ]
      }
     ],
     "prompt_number": 27
    },
    {
     "cell_type": "code",
     "collapsed": false,
     "input": [
      "# Make horsepower into integer\n",
      "df2 = df[df['horsepower']!='?']\n",
      "df2['horsepower'] = df2['horsepower'].astype(int)\n",
      "# formula: response ~ predictor + predictor\n",
      "# I makes sure operation is done before fitting the model\n",
      "\n",
      "model1 = smf.ols(formula='mpg ~ 1 + horsepower', data=df2).fit()\n",
      "print model1.rsquared_adj\n",
      "model2 = smf.ols(formula='mpg ~ 1 + horsepower + I(horsepower**2)', data=df2).fit()\n",
      "print model2.rsquared_adj"
     ],
     "language": "python",
     "metadata": {},
     "outputs": [
      {
       "output_type": "stream",
       "stream": "stdout",
       "text": [
        "0.604937868807\n",
        "0.685952650207\n"
       ]
      }
     ],
     "prompt_number": 30
    },
    {
     "cell_type": "heading",
     "level": 2,
     "metadata": {},
     "source": [
      "Potential Problems:"
     ]
    },
    {
     "cell_type": "markdown",
     "metadata": {},
     "source": [
      "These are some things to keep out for while performing linear regression. Some of this we have already covered.\n",
      "\n",
      "1. Non-Linearity of the response-predictor relationships.\n",
      "2. Correlation of the error terms.\n",
      "3. Non-constant variance of error terms.\n",
      "4. Outliers.\n",
      "5. High -leverage points.\n",
      "6. Multicollinearity.\n",
      "<hr>"
     ]
    },
    {
     "cell_type": "markdown",
     "metadata": {},
     "source": [
      "**Non-Linear Relationships:**\n",
      "\n",
      "Linear regression assumes that there is a linear relationship between the predictors and response. If the actual relationship is very non-linear, then most of the conclusions that we draw from the model are less robust, and model prediction accuracy would be diminished. \n",
      "\n",
      "Residual plots are the first step for testing this assumption. Here we plot residuals vs. predicted values for `mpg ~ horsepower` and `mpg ~ horsepower + horsepower^2`. We can see that the quadratic version has much less pattern in the residuals, which suggests that the quadratic fit improves the model. If it looks like the predictors are non-linear, a simple approach is to use non-linear transformations. We will discuss more advanced techniques.\n",
      "\n",
      "**Non-constant variance of error terms:**\n",
      "\n",
      "Non-constant variance is when there is a distinct trend in the variance, whereby the variance may increase with the value of the response. This can also be viewed with a `residual vs fitted plot`. The resulting plot will take on a *funnel shape* under this condition, called `heteroscedasticity`. In this case, a simple fix is often transforming the response variable to assume a more normal distribution. If this still doesn't work, you may have to explore weighted least squares regression, which proportionally weights the model by the inverse of the variances."
     ]
    },
    {
     "cell_type": "code",
     "collapsed": false,
     "input": [
      "qplot(y=model1.resid, x=model1.fittedvalues)+geom_point()+geom_smooth()"
     ],
     "language": "python",
     "metadata": {},
     "outputs": [
      {
       "metadata": {},
       "output_type": "display_data",
       "png": "[encoded data removed]",
       "text": [
        "<matplotlib.figure.Figure at 0x11a548610>"
       ]
      },
      {
       "metadata": {},
       "output_type": "pyout",
       "prompt_number": 337,
       "text": [
        "<ggplot: (299288717)>"
       ]
      }
     ],
     "prompt_number": 337
    },
    {
     "cell_type": "code",
     "collapsed": false,
     "input": [
      "qplot(y=model2.resid, x=model2.fittedvalues)+geom_point()+geom_smooth()"
     ],
     "language": "python",
     "metadata": {},
     "outputs": [
      {
       "metadata": {},
       "output_type": "display_data",
       "png": "[encoded data removed]",
       "text": [
        "<matplotlib.figure.Figure at 0x11e6d2990>"
       ]
      },
      {
       "metadata": {},
       "output_type": "pyout",
       "prompt_number": 336,
       "text": [
        "<ggplot: (299286513)>"
       ]
      }
     ],
     "prompt_number": 336
    },
    {
     "cell_type": "markdown",
     "metadata": {},
     "source": [
      "<hr>\n",
      "**Correlation of error terms:**\n",
      "\n",
      "One of the assumptions of linear regression is that the error terms (residuals) are uncorrelated. Important indicators:`p-values` `standard errors` and `R^2` all depend on this assumption. Time series data often has correlated error terms, and there are many ways to deal with it.\n",
      "\n",
      "For us, a simple plot of the residuals can reveal if there is any noticeable trend. These errors are fairly evenly distributed around 0, thats good. If they are not, this can often be remedied by transforming our dependent variable to a more normal distribution. However, sources of dependent error terms are often due to experimental design and data sources/collection. For example: a study of predicting individuals heights are predicted from weight could be skewed if many of the study members are of the same family, or are on the same diet."
     ]
    },
    {
     "cell_type": "code",
     "collapsed": false,
     "input": [
      "qplot(y=model2.resid, x=xrange(len(y)))+geom_point()+geom_smooth()"
     ],
     "language": "python",
     "metadata": {},
     "outputs": [
      {
       "metadata": {},
       "output_type": "display_data",
       "png": "[encoded data removed]",
       "text": [
        "<matplotlib.figure.Figure at 0x11e6c0b50>"
       ]
      },
      {
       "metadata": {},
       "output_type": "pyout",
       "prompt_number": 340,
       "text": [
        "<ggplot: (300335109)>"
       ]
      }
     ],
     "prompt_number": 340
    },
    {
     "cell_type": "markdown",
     "metadata": {},
     "source": [
      "<hr>\n",
      "**Outliers:**\n",
      "\n",
      "An outlier is a any record whose predicted value is far-off from the observed value. Outliers often arise from incorrect data recording. There are many ways to identify outliers, and removing them from the model will often result in an improvement in predictive power and reduced error. However, we have to be careful to understand if a record is actually an outlier (error) or just a rare occurrence in the data, which we should not remove. Outliers can also indicate model deficiency; perhaps a missing predictor could account for the missing response."
     ]
    },
    {
     "cell_type": "code",
     "collapsed": false,
     "input": [
      "# Using stats models\n",
      "model.outlier_test()"
     ],
     "language": "python",
     "metadata": {},
     "outputs": [],
     "prompt_number": 344
    },
    {
     "cell_type": "markdown",
     "metadata": {},
     "source": [
      "**High Leverage Points:**\n",
      "\n",
      "Leverage points are unusual values in predictor variables, rather than response variables. Removing high leverage points often has a great effect on the model fit. Here is an influence plot of the advertising data model. This plot takes into account outliers and high leverage. We can see several points here that seem to deviate from the average influence, yet again it is up to our discretion if we choose to remove these points or not based on our knowledge of the data, and it's source."
     ]
    },
    {
     "cell_type": "code",
     "collapsed": false,
     "input": [
      "fig = sm.graphics.influence_plot(model2, criterion=\"cooks\")\n",
      "print fig"
     ],
     "language": "python",
     "metadata": {},
     "outputs": [
      {
       "output_type": "stream",
       "stream": "stdout",
       "text": [
        "Figure(480x320)\n"
       ]
      },
      {
       "metadata": {},
       "output_type": "display_data",
       "png": "[encoded data removed]",
       "text": [
        "<matplotlib.figure.Figure at 0x11eca4c50>"
       ]
      }
     ],
     "prompt_number": 365
    },
    {
     "cell_type": "markdown",
     "metadata": {},
     "source": [
      "**Collinearity:**\n",
      "\n",
      "This occurs when two or more predictors are closely related to each other. Collinearity will cause the standard error to grow, since it reduces the accuracy of the regression coefficients, which may cause us to improperly reject the null hypothesis (since the standard error effects the `t-value` and `p-value`). The probability of detecting a non-zero coefficient ( a relationship) is reduced by collinearity, thus we may not find a relationship that exists. Simply speaking, the importance of a variable may be missed due to collinearity.\n",
      "\n",
      "We can test collinearity using a correlation matrix between the predictors, which we can use to eliminate variables within the model fitting process. If two variables are highly correlated, it is usual practise to remove the predictor with the lower R^2. However, **multicollinearity** exists when here is correlation between three or more variables. We use the `variance inflation factor` (VIF) to address this issue. This statistic shows us the ratio of the variation to the coefficients. The smallest value for VIF is 1, and as a rule of thumb, we should remove variables that have a VIF value  that exceeds 5.\n",
      "\n",
      "An alternative solution is to combine the correlated variables into a single feature. For example, one could take the average standardized versions of two predictors in order to make a new index all together. The construction of this new variable is more of an art than a science, and will be explored in a future lesson."
     ]
    },
    {
     "cell_type": "code",
     "collapsed": false,
     "input": [
      "# Grab a few columns\n",
      "data_to_check = df2.ix[:, 0:-4]\n",
      "# Check correlation and VIF\n",
      "print data_to_check.corr()"
     ],
     "language": "python",
     "metadata": {},
     "outputs": [
      {
       "output_type": "stream",
       "stream": "stdout",
       "text": [
        "                   mpg  cylinders  displacement  horsepower    weight\n",
        "mpg           1.000000  -0.777618     -0.805127   -0.778427 -0.832244\n",
        "cylinders    -0.777618   1.000000      0.950823    0.842983  0.897527\n",
        "displacement -0.805127   0.950823      1.000000    0.897257  0.932994\n",
        "horsepower   -0.778427   0.842983      0.897257    1.000000  0.864538\n",
        "weight       -0.832244   0.897527      0.932994    0.864538  1.000000\n",
        "\n",
        "[5 rows x 5 columns]\n"
       ]
      }
     ],
     "prompt_number": 82
    },
    {
     "cell_type": "markdown",
     "metadata": {},
     "source": [
      "It turns out that VIF is not well implimented in python for basic OLS regression. I will update when it is properly supported in statsmodels or scikit learn."
     ]
    },
    {
     "cell_type": "code",
     "collapsed": false,
     "input": [
      "from IPython.core.display import HTML\n",
      "\n",
      "\n",
      "def css_styling():\n",
      "    styles = open(\"/users/ryankelly/desktop/custom_notebook.css\", \"r\").read()\n",
      "    return HTML(styles)\n",
      "css_styling()"
     ],
     "language": "python",
     "metadata": {},
     "outputs": [
      {
       "html": [
        "\n",
        "<style>\n",
        "body {\n",
        "    font-family: Century Gothic, sans;\n",
        "\n",
        "}\n",
        "\n",
        "\n",
        "div.text_cell_render h1 { /* Main titles bigger, centered */\n",
        "font-size: 2.2em;\n",
        "line-height:1.4em;\n",
        "text-align:center;\n",
        "}\n",
        "\n",
        "/*Input and output cells formatting*/\n",
        "div.prompt.input_prompt, div.prompt.output_prompt {\n",
        "    visibility: hidden;\n",
        "    /*font-family: Consolas;*/\n",
        "    color: #575748;\n",
        "    /*background-color: #CCCCCC;*/\n",
        "    border: 0px;\n",
        "    width: 6.5em;\n",
        "    float:left;\n",
        "}\n",
        "\n",
        "\n",
        "div.output_subarea.output_text.output_stream.output_stdout,div.output_subarea.output_text {\n",
        "    margin-left: 1.5em;\n",
        "    padding-top: 1em;\n",
        "    padding-bottom: 0.5em;\n",
        "    margin-top: 8px; /*This is for getting the box-shadow property of the parent to display properly;*/\n",
        "}\n",
        "\n",
        "div.cell { /* Tunes the space between cells */\n",
        "margin-top:1em;\n",
        "margin-bottom:1em;\n",
        "width:100%;\n",
        "margin-right:auto;\n",
        "overflow-x:hidden;\n",
        "}\n",
        "\n",
        "div.text_cell_render{\n",
        "    overflow-x:hidden;\n",
        "      \n",
        "}\n",
        "\n",
        "\n",
        "div.input{\n",
        "margin-right:1%;\n",
        "}\n",
        "\n",
        "</style>\n",
        " \n",
        "\n",
        "\n",
        "\n"
       ],
       "metadata": {},
       "output_type": "pyout",
       "prompt_number": 5,
       "text": [
        "<IPython.core.display.HTML at 0x105cad5d0>"
       ]
      }
     ],
     "prompt_number": 5
    },
    {
     "cell_type": "code",
     "collapsed": false,
     "input": [
      "def social():\n",
      "    code = \"\"\"\n",
      "    <a style='float:left; margin-right:5px;' href=\"https://twitter.com/share\" class=\"twitter-share-button\" data-text=\"Check this out\" data-via=\"Ryanmdk\">Tweet</a>\n",
      "<script>!function(d,s,id){var js,fjs=d.getElementsByTagName(s)[0],p=/^http:/.test(d.location)?'http':'https';if(!d.getElementById(id)){js=d.createElement(s);js.id=id;js.src=p+'://platform.twitter.com/widgets.js';fjs.parentNode.insertBefore(js,fjs);}}(document, 'script', 'twitter-wjs');</script>\n",
      "    <a style='float:left; margin-right:5px;' href=\"https://twitter.com/Ryanmdk\" class=\"twitter-follow-button\" data-show-count=\"false\">Follow @Ryanmdk</a>\n",
      "<script>!function(d,s,id){var js,fjs=d.getElementsByTagName(s)[0],p=/^http:/.test(d.location)?'http':'https';if(!d.getElementById(id)){js=d.createElement(s);js.id=id;js.src=p+'://platform.twitter.com/widgets.js';fjs.parentNode.insertBefore(js,fjs);}}(document, 'script', 'twitter-wjs');</script>\n",
      "    <a style='float:left; margin-right:5px;'target='_parent' href=\"http://www.reddit.com/submit\" onclick=\"window.location = 'http://www.reddit.com/submit?url=' + encodeURIComponent(window.location); return false\"> <img src=\"http://www.reddit.com/static/spreddit7.gif\" alt=\"submit to reddit\" border=\"0\" /> </a>\n",
      "<script src=\"//platform.linkedin.com/in.js\" type=\"text/javascript\">\n",
      "  lang: en_US\n",
      "</script>\n",
      "<script type=\"IN/Share\"></script>\n",
      "\"\"\"\n",
      "    return HTML(code)"
     ],
     "language": "python",
     "metadata": {},
     "outputs": [],
     "prompt_number": 3
    },
    {
     "cell_type": "code",
     "collapsed": false,
     "input": [],
     "language": "python",
     "metadata": {},
     "outputs": []
    }
   ],
   "metadata": {}
  }
 ]
}