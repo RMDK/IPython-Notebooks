{
 "metadata": {
  "gist_id": "4126c1a59f6566427fda",
  "name": "",
  "signature": "sha256:f505af6d1894407624cb47ebdc0b1aff9a324f1fead58eeff6e5e64de4c2922e"
 },
 "nbformat": 3,
 "nbformat_minor": 0,
 "worksheets": [
  {
   "cells": [
    {
     "cell_type": "heading",
     "level": 1,
     "metadata": {},
     "source": [
      "Bayesian Analysis with Dummy Data"
     ]
    },
    {
     "cell_type": "markdown",
     "metadata": {},
     "source": [
      "The material for this notebook is provided via this free online <a href='http://nbviewer.ipython.org/github/CamDavidsonPilon/Probabilistic-Programming-and-Bayesian-Methods-for-Hackers/blob/master/Chapter1_Introduction/Chapter1_Introduction.ipynb'>textbook</a> :  \n",
      "\n",
      "I am writing this notebook to document my learning, and hopefully to help others learn machine learning. You can think of it as my personal lecture notes. I would love suggestions / corrections / feedback for these notebooks.\n",
      "\n",
      "<b><a target=\"_parent\" href=\"http://rmdk.ca\">Visit my webpage for more</a></b>. \n",
      "\n",
      "Email me: <a href=\"mailto:email.ryan.kelly@gmail.com?Subject=Hey\" target=\"_top\">email.ryan.kelly@gmail.com</a>"
     ]
    },
    {
     "cell_type": "heading",
     "level": 2,
     "metadata": {},
     "source": [
      "Related Notebooks in this series"
     ]
    },
    {
     "cell_type": "markdown",
     "metadata": {},
     "source": [
      "* <a target=\"_parent\" href=\"http://nbviewer.ipython.org/github/rmdk/IPython-Notebooks/blob/master/Machine%20Learning/Bayesian%20Methods%20for%20Hackers.ipynb\">Intro to Bayesian Inference</a>\n",
      "\n",
      "* <a target=\"_parent\" href=\"http://nbviewer.ipython.org/github/RMDK/IPython-Notebooks/blob/master/Machine%20Learning/Probability%20Distribution%20Review.ipynb\">Probability Distribution Review</a>\n",
      "\n",
      "* <a target=\"_parent\" href=\"http://nbviewer.ipython.org/github/rmdk/IPython-Notebooks/blob/master/Machine%20Learning/Bayesian%202.ipynb\">Bayesian Inference 2</a>\n",
      "\n",
      "* <a target=\"_parent\" href=\"http://nbviewer.ipython.org/github/rmdk/IPython-Notebooks/blob/master/Machine%20Learning/Bayesian%203.ipynb\">Bayesian Inference 3</a>\n",
      "\n",
      "* <a target=\"_parent\" href=\"http://nbviewer.ipython.org/github/rmdk/IPython-Notebooks/blob/master/Machine%20Learning/Bayesian%20Inference%204.ipynb\">Bayesian Inference 4</a>\n",
      "\n",
      "* <a target=\"_parent\" href=\"http://rmdk.ca\">Bayesian Inference 6</a>"
     ]
    },
    {
     "cell_type": "code",
     "collapsed": false,
     "input": [
      "social()"
     ],
     "language": "python",
     "metadata": {},
     "outputs": [
      {
       "html": [
        "\n",
        "    <a style='float:left; margin-right:5px;' href=\"https://twitter.com/share\" class=\"twitter-share-button\" data-text=\"Check this out\" data-via=\"Ryanmdk\">Tweet</a>\n",
        "<script>!function(d,s,id){var js,fjs=d.getElementsByTagName(s)[0],p=/^http:/.test(d.location)?'http':'https';if(!d.getElementById(id)){js=d.createElement(s);js.id=id;js.src=p+'://platform.twitter.com/widgets.js';fjs.parentNode.insertBefore(js,fjs);}}(document, 'script', 'twitter-wjs');</script>\n",
        "    <a style='float:left; margin-right:5px;' href=\"https://twitter.com/Ryanmdk\" class=\"twitter-follow-button\" data-show-count=\"false\">Follow @Ryanmdk</a>\n",
        "<script>!function(d,s,id){var js,fjs=d.getElementsByTagName(s)[0],p=/^http:/.test(d.location)?'http':'https';if(!d.getElementById(id)){js=d.createElement(s);js.id=id;js.src=p+'://platform.twitter.com/widgets.js';fjs.parentNode.insertBefore(js,fjs);}}(document, 'script', 'twitter-wjs');</script>\n",
        "    <a style='float:left; margin-right:5px;'target='_parent' href=\"http://www.reddit.com/submit\" onclick=\"window.location = 'http://www.reddit.com/submit?url=' + encodeURIComponent(window.location); return false\"> <img src=\"http://www.reddit.com/static/spreddit7.gif\" alt=\"submit to reddit\" border=\"0\" /> </a>\n",
        "<script src=\"//platform.linkedin.com/in.js\" type=\"text/javascript\">\n",
        "  lang: en_US\n",
        "</script>\n",
        "<script type=\"IN/Share\"></script>\n"
       ],
       "metadata": {},
       "output_type": "pyout",
       "prompt_number": 7,
       "text": [
        "<IPython.core.display.HTML at 0x10553a8d0>"
       ]
      }
     ],
     "prompt_number": 7
    },
    {
     "cell_type": "heading",
     "level": 2,
     "metadata": {},
     "source": [
      "Introduction"
     ]
    },
    {
     "cell_type": "markdown",
     "metadata": {},
     "source": [
      "This notebook expands on the PyMC syntax and design patterns, as well as ways to think about a model system from a Bayesian perspective.\n",
      "\n",
      "__Parent and Child relationships__\n",
      "\n",
      "To assist with describing Bayesian relationships, and to be consistent with PyMC's documentation, we introduce _parent_ and _child_ variables.\n",
      "\n",
      "* _parent variables_ are variables that influence another variable.\n",
      "* _child variables_ are variables that are affected by other variables, i.e. are the subject of parent variable.\n",
      "\n",
      "A variable can be both a parent and child. For example, consider the PyMC code below."
     ]
    },
    {
     "cell_type": "code",
     "collapsed": false,
     "input": [
      "import pymc as pm\n",
      "\n",
      "param = pm.Exponential('poisson_param', 1)\n",
      "data_generator = pm.Poisson('data_generator', param)\n",
      "data_plus_one = data_generator + 1"
     ],
     "language": "python",
     "metadata": {},
     "outputs": [],
     "prompt_number": 9
    },
    {
     "cell_type": "markdown",
     "metadata": {},
     "source": [
      "The `parameter` variable controls the parameter of `data_generator`, hence influences its values. The former is a parent of the latter. By symmetry, `data_generator` is a child of `parameter`.\n",
      "\n",
      "Likewise, `data_generator` is a parent to the variable data_plus_one, which makes `data_generator` both a child and a parent variable. Although it does not look like it, `data_plus_one` should be treated as a PyMC variable, since it is a function of another PyMC variable, hence is a child to `data_generator`.\n",
      "\n",
      "This nomenclature is designed to help describe relationships in PyMC modeling. You can access the children and parent attributes by calling .`children` or `parents`. A variable can also have more than one child or parent."
     ]
    },
    {
     "cell_type": "code",
     "collapsed": false,
     "input": [
      "print param.children, '\\n'\n",
      "print data_generator.parents, '\\n'\n",
      "print data_generator.children, '\\n'"
     ],
     "language": "python",
     "metadata": {},
     "outputs": [
      {
       "output_type": "stream",
       "stream": "stdout",
       "text": [
        "set([<pymc.distributions.Poisson 'data_generator' at 0x10c2be210>]) \n",
        "\n",
        "{'mu': <pymc.distributions.Exponential 'poisson_param' at 0x105b1da50>} \n",
        "\n",
        "set([<pymc.PyMCObjects.Deterministic '(data_generator_add_1)' at 0x10c2be290>]) \n",
        "\n"
       ]
      }
     ],
     "prompt_number": 16
    },
    {
     "cell_type": "heading",
     "level": 2,
     "metadata": {},
     "source": [
      "PyMC Variables"
     ]
    },
    {
     "cell_type": "markdown",
     "metadata": {},
     "source": [
      "All PyMC variables also have a `value` attribute. This method produces the current (possibly random) interval value of the variable. If the variable is a child, its value changes given the variables parents' value. Using the same variables as above:"
     ]
    },
    {
     "cell_type": "code",
     "collapsed": false,
     "input": [
      "print 'parameter.value = ', param.value\n",
      "print 'data_generator.value = ', data_generator.value\n",
      "print 'data_plus_one = ', data_plus_one.value"
     ],
     "language": "python",
     "metadata": {},
     "outputs": [
      {
       "output_type": "stream",
       "stream": "stdout",
       "text": [
        "parameter.value =  0.204992133473\n",
        "data_generator.value =  0\n",
        "data_plus_one =  1\n"
       ]
      }
     ],
     "prompt_number": 18
    },
    {
     "cell_type": "markdown",
     "metadata": {},
     "source": [
      "PyMC is concerned with two types of programming variables `stochastic` and `deterministic`.\n",
      "\n",
      "* _Stochastic variables_ are variables that are not deterministic, even if you know the values of the variables' parents,  they are random within a specified domain. Examples of this category are `Poisson`, `DiscreteUniform`, and `Exponential`.\n",
      "\n",
      "* _Deterministic variables_ are variables that are not random if the variables parents were known. If you know all variable $Z$'s parent variables, you could determine $Z$'s value.\n",
      "\n",
      "Explained further below..."
     ]
    },
    {
     "cell_type": "heading",
     "level": 3,
     "metadata": {},
     "source": [
      "Initializing Stochastic Variables"
     ]
    },
    {
     "cell_type": "markdown",
     "metadata": {},
     "source": [
      "Initializing a stochastic variable requires a `name` argument, plus additional parameters that are class specific. For example:\n",
      "\n",
      "`some_variable = pm.DiscreteUniform('discrete_uni_var', 0, 4)`\n",
      "\n",
      "where `0, and 4` are the `DiscreteUniform`-specific lower and upper bound on the random variable. The [PyMC docs](http://pymc-devs.github.io/pymc/distributions.html) contain the specific parameters for stochastic variables, or simply use `object??`, for example `pm.DiscreteUniform??` if you are using IPython.\n",
      "\n",
      "The `name` attribute is used to retrieve the posterior distribution later in the analysis, so it is best to use a descriptive name. \n",
      "\n",
      "For multivariate problems, rather than creating a Python array of stochastic variables, addressing the `size` argument in the call to a `Stochastic` variable creates a multivariate array of independent stochastic variables. The array behavs like a Numpy array when used like one, and references to its `value` attribute will return Numpy arrays.\n",
      "\n",
      "The `size` argument also solves the annoying case where you may have many variables $\\beta _i \\ , i = 1, ..., N$ you wish to model. Instead of creating arbitrary names and variables for each one.\n",
      "\n",
      "$$beta2 = pm.Uniform('beta1', 0, 1)$$\n",
      "$$beta2 = pm.Uniform('beta2', 0, 1)$$\n",
      "\n",
      "We can instead wrap them into a single variable:\n",
      "\n",
      "$$ betas = pm.Uniform('betas', 0, 1, size=N)\n",
      "\n",
      "__ Calling random()__\n",
      "\n",
      "We can also call on a stochastic variabl's `random()` model, which (given the parent values) will generate a new, random value. Below we demonstrate this."
     ]
    },
    {
     "cell_type": "code",
     "collapsed": false,
     "input": [
      "lambda_1 = pm.Exponential('lambda1', 1) # prior on first behaviour\n",
      "lambda_2 = pm.Exponential('lambda2', 1) # prior on second behaviour\n",
      "tau = pm.DiscreteUniform('tau', 0, 10) # prior on behaviour change)\n",
      "\n",
      "print \"lambda_1.value = %.3f\" % lambda_1.value\n",
      "print \"lambda_2.value = %.3f\" % lambda_2.value\n",
      "print \"tau.value = %.3f\" % tau.value\n",
      "\n",
      "# After calling random() the new value is stored in the variables\n",
      "# 'value' attribute\n",
      "lambda_1.random(), lambda_2.random(), tau.random()\n",
      "\n",
      "print \"lambda_1.value = %.3f\" % lambda_1.value\n",
      "print \"lambda_2.value = %.3f\" % lambda_2.value\n",
      "print \"tau.value = %.3f\" % tau.value"
     ],
     "language": "python",
     "metadata": {},
     "outputs": [
      {
       "output_type": "stream",
       "stream": "stdout",
       "text": [
        "lambda_1.value = 0.371\n",
        "lambda_2.value = 1.822\n",
        "tau.value = 9.000\n",
        "lambda_1.value = 1.013\n",
        "lambda_2.value = 0.594\n",
        "tau.value = 5.000\n"
       ]
      }
     ],
     "prompt_number": 22
    },
    {
     "cell_type": "heading",
     "level": 3,
     "metadata": {},
     "source": [
      "Warning: Don't update stochastic variables' values in-place."
     ]
    },
    {
     "cell_type": "markdown",
     "metadata": {},
     "source": [
      "From the PyMC docs:\n",
      "\n",
      "> Stochastic objects' values should not be updated in place. This confuses PyMC's caching scheme. The only way a stochastic variables value should be updated is using statements of the form:\n",
      "        \n",
      "        A.value = new_value\n",
      "        \n",
      "> The following are in-place updates and should __never__ be used:\n",
      "    \n",
      "        A.value += 3\n",
      "        A.value[2, 1] = 5\n",
      "        A.value.attributes = new_attribute_value"
     ]
    },
    {
     "cell_type": "heading",
     "level": 3,
     "metadata": {},
     "source": [
      "Deterministic variables"
     ]
    },
    {
     "cell_type": "markdown",
     "metadata": {},
     "source": [
      "Since most variables you will be modeling are stichastic, we can simply distinguish deterministic variables with a `pymc.deterministic` wrapper. If you dont know what a wrapper or _decorator_ is in python, it doesn't matter, just add the decorator before the variable declaration. \n",
      "\n",
      "    @pm.deterministic\n",
      "    def some_deterministic_var(v1=v2,):\n",
      "        # meat and potatoes here\n",
      "        \n",
      "For all purposes, we can treat the object `some_deterministic_var` as a variable and not a Python function.\n",
      "\n",
      "Prepending with the wrapper is the easiest, but not the only way to create deterministic variables: simple options, like, addition, expoentials etc. implicitly create deterministic variables. For example, the following returns a deterministic variable:"
     ]
    },
    {
     "cell_type": "code",
     "collapsed": false,
     "input": [
      "type(lambda_1 + lambda_2)"
     ],
     "language": "python",
     "metadata": {},
     "outputs": [
      {
       "metadata": {},
       "output_type": "pyout",
       "prompt_number": 23,
       "text": [
        "pymc.PyMCObjects.Deterministic"
       ]
      }
     ],
     "prompt_number": 23
    },
    {
     "cell_type": "markdown",
     "metadata": {},
     "source": [
      "The use of the `deterministic` wrapper was seen in the previous chapter's text-messages example. Recall the model for $\\lambda$ looked like:\n",
      "\n",
      "$$\n",
      "\\lambda=\\begin{cases}\n",
      "\\ \\lambda _1  \\ \\ if  \\ t < \\tau \\\\\n",
      "\\ \\lambda _2  \\ \\ if \\ t < \\tau \\\\\n",
      "\\end{cases}\n",
      "$$\n",
      "\n",
      "And in PyMC code:"
     ]
    },
    {
     "cell_type": "code",
     "collapsed": false,
     "input": [
      "import numpy as np\n",
      "\n",
      "n_data = 5\n",
      "\n",
      "@pm.deterministic\n",
      "def lambda_(tau=tau, lambda_1=lambda_1, lambda_2=lambda_2):\n",
      "    out = np.zeros(n_data)\n",
      "    out[:tau] = lambda_1 # lambda before tau\n",
      "    out[tau:] = lambda_2 # lambda after tau\n",
      "    return out"
     ],
     "language": "python",
     "metadata": {},
     "outputs": [],
     "prompt_number": 24
    },
    {
     "cell_type": "markdown",
     "metadata": {},
     "source": [
      "If we know $\\tau$, $\\lambda _1$, $\\lambda _2$, then $\\lambda$is known completely, hence it is deterministic.\n",
      "\n",
      "Inside the deterministic decorator, the `Stochastic` variables passed in behave like scalars or numpy arrays (if multivariate), and _not_ like `Stochastic` variables. For example: running the following:\n",
      "\n",
      "    @pm.determinstic\n",
      "    def seom_deterministic(stoch=some_stochastic_var):\n",
      "        return stoch.value**2\n",
      "\n",
      "will return an `AttributeError` detailing that stoch does not have a `value` attribute. It simply needs to be `stoch**2`. During the learning phase, it's the variable's `value` that is repeatedly passed in, not the actual variable.\n",
      "\n",
      "Note that in the creation of the deterministic function we added defaults to each variable used in the function. This is a necessary step, and all variables _must_ have default values."
     ]
    },
    {
     "cell_type": "heading",
     "level": 3,
     "metadata": {},
     "source": [
      "Including observations in the model"
     ]
    },
    {
     "cell_type": "markdown",
     "metadata": {},
     "source": [
      "At this point, it may not look like it, but we have fully specified out priors. For example, we can ask and answer questions like 'What does my prior distribution of $\\lambda _1$ look like?\""
     ]
    },
    {
     "cell_type": "code",
     "collapsed": false,
     "input": [
      "%matplotlib inline\n",
      "from matplotlib import pyplot as plt\n",
      "import seaborn as sns\n",
      "\n",
      "sns.set(context = 'poster', style = 'whitegrid')\n",
      "\n",
      "samples = [lambda_1.random() for i in range(20000)]\n",
      "plt.hist(samples, bins=70, normed=True, histtype='stepfilled', alpha=0.8)\n",
      "plt.title('Prior distribution for $\\lambda _1$')\n",
      "plt.xlim(0, 8)"
     ],
     "language": "python",
     "metadata": {},
     "outputs": [
      {
       "metadata": {},
       "output_type": "pyout",
       "prompt_number": 27,
       "text": [
        "(0, 8)"
       ]
      },
      {
       "metadata": {},
       "output_type": "display_data",
       "png": "[encoded data removed]",
       "text": [
        "<matplotlib.figure.Figure at 0x10c412190>"
       ]
      }
     ],
     "prompt_number": 27
    },
    {
     "cell_type": "markdown",
     "metadata": {},
     "source": [
      "To frame this in the notation of the [first chapter](http://nbviewer.ipython.org/github/rmdk/IPython-Notebooks/blob/master/Machine%20Learning/Bayesian%20Methods%20for%20Hackers.ipynb)\n",
      ", though this is a slight abuse of notation, we have specified $P(A)$. Our next goal is to include/evidence/observations $X$ into our model.\n",
      "\n",
      "PyMC stochastic variables have a keyword argument `observed` which accepts a boolean (False by default). The keyword `observed` has a simple role: fix the variable's current value (make the value immutable). We have to specify an initial `value` in the variable's creation, equal to the observations we wish to include, typically an array (should be Numpy array for speed). For example:"
     ]
    },
    {
     "cell_type": "code",
     "collapsed": false,
     "input": [
      "data = np.array([10, 5])\n",
      "fixed_variable = pm.Poisson('fxd', 1, value=data, observed=True)\n",
      "print 'value: ', fixed_variable.value\n",
      "print 'calling .random()'\n",
      "fixed_variable.random()\n",
      "print 'value: ', fixed_variable.value"
     ],
     "language": "python",
     "metadata": {},
     "outputs": [
      {
       "output_type": "stream",
       "stream": "stdout",
       "text": [
        "value:  [10  5]\n",
        "calling .random()\n",
        "value:  [10  5]\n"
       ]
      }
     ],
     "prompt_number": 28
    },
    {
     "cell_type": "markdown",
     "metadata": {},
     "source": [
      "This is how we include data into the models: initializing a stochastic variable to have a fixed balue.\n",
      "\n",
      "To complete the text message example from the previous lesson, we fix the PyMC variable `observations` to the observed dataset."
     ]
    },
    {
     "cell_type": "code",
     "collapsed": false,
     "input": [
      "# some fake data\n",
      "data = np.array([10, 25, 15, 20, 35])\n",
      "obs = pm.Poisson('obs', lambda_, value=data, observed=True)\n",
      "obs.value"
     ],
     "language": "python",
     "metadata": {},
     "outputs": [
      {
       "metadata": {},
       "output_type": "pyout",
       "prompt_number": 29,
       "text": [
        "array([10, 25, 15, 20, 35])"
       ]
      }
     ],
     "prompt_number": 29
    },
    {
     "cell_type": "heading",
     "level": 3,
     "metadata": {},
     "source": [
      "Finally..."
     ]
    },
    {
     "cell_type": "markdown",
     "metadata": {},
     "source": [
      "We wrap all the created variables into a `pm.Model` class. With this class, we can analyze the variables as a single unit. This is an options step, as the fitting algorithms can be sent and array of the variables, rather than a `Model` class. I may or may not use this class in future examples :P."
     ]
    },
    {
     "cell_type": "code",
     "collapsed": false,
     "input": [
      "model = pm.Model([obs, lambda_, lambda_1, lambda_2, tau])"
     ],
     "language": "python",
     "metadata": {},
     "outputs": [],
     "prompt_number": 31
    },
    {
     "cell_type": "heading",
     "level": 2,
     "metadata": {},
     "source": [
      "Modeling Approaches"
     ]
    },
    {
     "cell_type": "markdown",
     "metadata": {},
     "source": [
      "A good starting though to Bayesian modeling is to think about _how your data might have been generated_. Position yourself in an omniscient position, and try to imagine how you would recreate the dataset.\n",
      "\n",
      "In the last three notebooks we investigated text message data. We begin by asking how our observations may have been generated.\n",
      "\n",
      "1. We started by thinking 'what is the best random variable to describe this count data?' A Poisson random variable is a good candidate because it can represent count data. SO we model the number of messages received as sampled from a Poisson distribution.\n",
      "\n",
      "2. So, assuming the texts are Poisson-distributed, what do we need for the Poisson distribution? We need to satisfy the parameter $\\lambda$.\n",
      "\n",
      "3. Do we know $\\lambda$? Nope, but in this example we suspect there are _two_ $\\lambda$ values, one for the earlier behaviour and one for the latter behaviour. We don't quite know when the behaviour switches though, but we call the switchpoint $\\tau$.\n",
      "\n",
      "4. What is a good distribution for the two $\\lambda$s? The exponential is good, as it assigns probabilities to positive real numbers. The exponential distribution has a parameter too, call it $\\alpha$. \n",
      "\n",
      "5. Do we know what $\\alpha$ might be? Nope. At this point we could continue and assign a distribution to $\\alpha$, but it is better to stop once we reach a set level of ignorance: whereas we have a prior belief about $\\lambda$; like that it 'probably changes over time', 'it's likely between 10 and 30', ect. We dont really have any strong beliefs about $\\alpha$, so its best to stop here. What is a good value for $\\alpha$ then? We think that the $\\lambda$s are between 10 - 30, so if we set $\\alpha$ really low (which corresponds to a larger probability on high values) we are not reflecting out prior well. Similar, a too-high apha misses out prior belief as well. A good idea for $\\alpha$ is to reflect our belief is to set the value so that the mean of $\\lambda$, given $\\alpha$, is equal to our observed mean. This was shown in the last chapter.\n",
      "\n",
      "6. We have no expert opinion of when $\\tau$ might have occurred. So we will suppose $\\tau$ is from a discrete uniform distribution over the entire timespan."
     ]
    },
    {
     "cell_type": "heading",
     "level": 3,
     "metadata": {},
     "source": [
      "Same story; different ending."
     ]
    },
    {
     "cell_type": "markdown",
     "metadata": {},
     "source": [
      "Interestingly, we can create new datasets by retelling the story. For example, if we reverse the above steps, we can simulate a possible realization of the dataset.\n",
      "\n",
      "1. Specify when the users behaviour switches by sample from `DiscreteUniform(0, 80)`:"
     ]
    },
    {
     "cell_type": "code",
     "collapsed": false,
     "input": [
      "tau = pm.rdiscrete_uniform(0, 80)\n",
      "tau"
     ],
     "language": "python",
     "metadata": {},
     "outputs": [
      {
       "metadata": {},
       "output_type": "pyout",
       "prompt_number": 36,
       "text": [
        "34"
       ]
      }
     ],
     "prompt_number": 36
    },
    {
     "cell_type": "markdown",
     "metadata": {},
     "source": [
      "* Draw $\\lambda _1$ and $\\lambda _2$ from an  $Exp(\\alpha)$ distribution:"
     ]
    },
    {
     "cell_type": "code",
     "collapsed": false,
     "input": [
      "alpha = 1. / 20.\n",
      "lambda_1, lambda_2 = pm.rexponential(alpha, 2)\n",
      "print lambda_1, lambda_2"
     ],
     "language": "python",
     "metadata": {},
     "outputs": [
      {
       "output_type": "stream",
       "stream": "stdout",
       "text": [
        "26.8466829876 5.18750926671\n"
       ]
      }
     ],
     "prompt_number": 37
    },
    {
     "cell_type": "markdown",
     "metadata": {},
     "source": [
      "* For days before $\\tau$, represent the users received texts count by sampling from $Poi(\\lambda _1)$, and sample from $Poi(\\lambda _2)$ for days after $\\tau$. For example:"
     ]
    },
    {
     "cell_type": "code",
     "collapsed": false,
     "input": [
      "datau = np.r_[pm.rpoisson(lambda_1, tau), pm.rpoisson(lambda_2, 80 - tau)]"
     ],
     "language": "python",
     "metadata": {},
     "outputs": [],
     "prompt_number": 39
    },
    {
     "cell_type": "code",
     "collapsed": false,
     "input": [
      "plt.bar(np.arange(80), data, color='#3498db')\n",
      "plt.bar(tau - 1, data[tau - 1], color='r', label='user behaviour changed')\n",
      "plt.xlabel('Time (days)')\n",
      "plt.ylabel('count of texts received')\n",
      "plt.title('Artificial dataset')\n",
      "plt.xlim(0, 80)\n",
      "plt.legend();"
     ],
     "language": "python",
     "metadata": {},
     "outputs": [
      {
       "metadata": {},
       "output_type": "display_data",
       "png": "[encoded data removed]",
       "text": [
        "<matplotlib.figure.Figure at 0x10c412710>"
       ]
      }
     ],
     "prompt_number": 43
    },
    {
     "cell_type": "markdown",
     "metadata": {},
     "source": [
      "It is okay that our fictional dataset does not look like our observed dataset: the probability is incredibly small that it would. PyMC's engine is designed to find good parameters, $\\lambda _i$, $\\tau$, that maximize this probability.\n",
      "\n",
      "The ability to generate artificial datasets is an interesting side effect our modeling, and we will see that this ability is a very important method of Bayesian inference. We produce a few more datasets below."
     ]
    },
    {
     "cell_type": "code",
     "collapsed": false,
     "input": [
      "def plot_artificial_sms_dataset():\n",
      "    tau = pm.rdiscrete_uniform(0, 80)\n",
      "    alpha = 1. / 20.\n",
      "    lambda_1, lambda_2 = pm.rexponential(alpha, 2)\n",
      "    data = np.r_[pm.rpoisson(lambda_1, tau), pm.rpoisson(lambda_2, 80 - tau)]\n",
      "    plt.bar(np.arange(80), data, color=\"#348ABD\")\n",
      "    plt.bar(tau - 1, data[tau - 1], color=\"r\", label=\"user behaviour changed\")\n",
      "    plt.xlim(0, 80)\n",
      "\n",
      "\n",
      "plt.title(\"More example of artificial datasets\")\n",
      "for i in range(4):\n",
      "    plt.subplot(4, 1, i)\n",
      "    plot_artificial_sms_dataset()"
     ],
     "language": "python",
     "metadata": {},
     "outputs": [
      {
       "metadata": {},
       "output_type": "display_data",
       "png": "[encoded data removed]",
       "text": [
        "<matplotlib.figure.Figure at 0x10f8d9610>"
       ]
      }
     ],
     "prompt_number": 45
    },
    {
     "cell_type": "markdown",
     "metadata": {},
     "source": [
      "Later we will see how we use this to make predictions and test the appropriateness of out models."
     ]
    },
    {
     "cell_type": "heading",
     "level": 2,
     "metadata": {},
     "source": [
      "Example: Bayesian A/B testing"
     ]
    },
    {
     "cell_type": "markdown",
     "metadata": {},
     "source": [
      "A/B testing is a statistical design pattern for determining the difference of effectiveness between two different treatments. For example, a pharmaceutical company is interested in the effectiveness of drug A vs drug B. The company will test drug A on some fraction of their trials, and drug B on the other fraction (the fraction is often 1.2, but we will relax this assumption). After performing enough trials, the in-house statisticians sift through the data to determine which drug yielded better results.\n",
      "\n",
      "Similarly, front-end web developers are interested in which design of their website yields more sales or some other metric of interest. They will route some fraction of visitors to site A, and the other fraction to site B, and record if the visit yielded a sale or not.\n",
      "\n",
      "Often, the post-experiment analysis is done using something called a hypothesis test, like _difference of means_ or _difference of proportions_ tests. These are techniques taught in any basic statistics course. These work just fine, but the Bayesian approach is much more natural and flexible."
     ]
    },
    {
     "cell_type": "heading",
     "level": 2,
     "metadata": {},
     "source": [
      "A Simple Case"
     ]
    },
    {
     "cell_type": "markdown",
     "metadata": {},
     "source": [
      "We continue the web-dev example. For the moment we will focus on the analysis of site A only. Assume that there is some true 0 < $p _A$ < 1 probability that users who, upon shown site A, eventually purchase from the site. This is the true effectiveness of site A. Currently, this quantity is unknown to us.\n",
      "\n",
      "Suppose site A was shown to $N$ people, and $n$ people purchased from the site. One might conclude that $P _A = \\frac{n}{N}$. UNfortunately, the observed frequency $\\frac{n}{N}$ does not necessarily equal $p _A$, there is a difference between the observed frequency and the true frequency of an event. The true frequency can be interpreted as the probability of an event occurring. For example, the true frequency of rolling a 1 on a 6-sided die is $\\frac{1}{6}$. Knowing the frequency of events like:\n",
      "\n",
      "* fraction of users who make purchases.\n",
      "* frequency of social attributes.\n",
      "* percent of internet users with cats, etc.\n",
      "\n",
      "are common requests we ask of reality. Unfortunately, the true frequency is hidden from us, and we have to infer it from observed data.\n",
      "\n",
      "The observed frequency is then the frequency we observe: rolling a die 100 times you may observe 20 rolls of 1. The observed frequency then differs from the true frequency of $\\frac{1}{6}$. We can use Bayesian statistics to infer probable values of the true frequency using an appropriate prior and observed data.\n",
      "\n",
      "With respect to the A/B testing example, we are interested in using what we know, $N$ (the total trials administered) and $n$ (the number of conversions), to estimate what $p _A$, the true frequency of buyers might be.\n",
      "\n",
      "To set up a Bayesian model, we need to assign prior distributions to our unknown quantities; a _priori_. What do we think $p _A$ might be? Since we have no clue what this quantity is right now, we can assume $p _A$ is uniform over [0,1]:"
     ]
    },
    {
     "cell_type": "code",
     "collapsed": false,
     "input": [
      "import pymc as pm\n",
      "\n",
      "# The parameters are the bounds of the Uniform.\n",
      "p = pm.Uniform('p', lower=0, upper=1)"
     ],
     "language": "python",
     "metadata": {},
     "outputs": [],
     "prompt_number": 47
    },
    {
     "cell_type": "markdown",
     "metadata": {},
     "source": [
      "Had we had stronger beliefs, we could have expressed them in the prior above.\n",
      "\n",
      "For this example, consider $p _A$ = 0.05, and $N$ = 1500 users shown site A, and we will simulate whether the user made a purchase or not. To simulate this from $N$ trials, we will use a Bernoulli distribution: if $X   \\sim   Ber(p)$, then $X$ is 1 with probability $p$ and 0 with probability 1 - $p$. Though in practice we do not know $p _A$, but we will use it here to simulate the data."
     ]
    },
    {
     "cell_type": "code",
     "collapsed": false,
     "input": [
      "# set constants\n",
      "p_true = 0.05 # remember this is normally unknown\n",
      "N = 2500\n",
      "\n",
      "# sample N Bernoulli random variables from Ber(0.05).\n",
      "# each random variable has a 0.05 chance of being a 1.\n",
      "# this is the data-generation step\n",
      "occurrences = pm.rbernoulli(p_true, N)\n",
      "\n",
      "print occurrences, occurrences.sum()"
     ],
     "language": "python",
     "metadata": {},
     "outputs": [
      {
       "output_type": "stream",
       "stream": "stdout",
       "text": [
        "[False False False ..., False False False] 132\n"
       ]
      }
     ],
     "prompt_number": 55
    },
    {
     "cell_type": "markdown",
     "metadata": {},
     "source": [
      "The observed frequency is:"
     ]
    },
    {
     "cell_type": "code",
     "collapsed": false,
     "input": [
      "# Occurrences.mean is equal to n/N\n",
      "print 'What is the observed frequency in Group A? {}'.format(\n",
      "        occurrences.mean())\n",
      "print 'Does this equal the true frequency? {}'.format(\n",
      "        occurrences.mean() == p_true)"
     ],
     "language": "python",
     "metadata": {},
     "outputs": [
      {
       "output_type": "stream",
       "stream": "stdout",
       "text": [
        "What is the observed frequency in Group A? 0.0528\n",
        "Does this equal the true frequency? False\n"
       ]
      }
     ],
     "prompt_number": 56
    },
    {
     "cell_type": "markdown",
     "metadata": {},
     "source": [
      "Now we combine the observations into the PyMC `observed` variable, and run our inference algorithm:"
     ]
    },
    {
     "cell_type": "code",
     "collapsed": false,
     "input": [
      "# include the observations, which are Bernoulli\n",
      "obs = pm.Bernoulli('obs', p, value=occurrences, observed=True)\n",
      "\n",
      "# To be explained in later lessons\n",
      "mcmc = pm.MCMC([p, obs])\n",
      "mcmc.sample(18000, 1000)"
     ],
     "language": "python",
     "metadata": {},
     "outputs": [
      {
       "output_type": "stream",
       "stream": "stdout",
       "text": [
        "\r",
        " [--                7%                  ] 1358 of 18000 complete in 0.5 sec"
       ]
      },
      {
       "output_type": "stream",
       "stream": "stdout",
       "text": [
        "\r",
        " [------           17%                  ] 3154 of 18000 complete in 1.0 sec"
       ]
      },
      {
       "output_type": "stream",
       "stream": "stdout",
       "text": [
        "\r",
        " [----------       27%                  ] 4934 of 18000 complete in 1.5 sec"
       ]
      },
      {
       "output_type": "stream",
       "stream": "stdout",
       "text": [
        "\r",
        " [--------------   38%                  ] 6931 of 18000 complete in 2.0 sec"
       ]
      },
      {
       "output_type": "stream",
       "stream": "stdout",
       "text": [
        "\r",
        " [-----------------49%                  ] 8866 of 18000 complete in 2.5 sec"
       ]
      },
      {
       "output_type": "stream",
       "stream": "stdout",
       "text": [
        "\r",
        " [-----------------60%--                ] 10834 of 18000 complete in 3.0 sec"
       ]
      },
      {
       "output_type": "stream",
       "stream": "stdout",
       "text": [
        "\r",
        " [-----------------71%-------           ] 12805 of 18000 complete in 3.5 sec"
       ]
      },
      {
       "output_type": "stream",
       "stream": "stdout",
       "text": [
        "\r",
        " [-----------------82%-----------       ] 14786 of 18000 complete in 4.0 sec"
       ]
      },
      {
       "output_type": "stream",
       "stream": "stdout",
       "text": [
        "\r",
        " [-----------------93%---------------   ] 16775 of 18000 complete in 4.5 sec"
       ]
      },
      {
       "output_type": "stream",
       "stream": "stdout",
       "text": [
        "\r",
        " [-----------------100%-----------------] 18000 of 18000 complete in 4.8 sec"
       ]
      }
     ],
     "prompt_number": 57
    },
    {
     "cell_type": "markdown",
     "metadata": {},
     "source": [
      "Now plot the posterior distribution of the unknown $p _A$ below:"
     ]
    },
    {
     "cell_type": "code",
     "collapsed": false,
     "input": [
      "plt.title('Posterior distribution of $p _A$, the true effectiveness of site A')\n",
      "plt.vlines(p_true, 0, 90, linestyle='--', label='true $p_A$ (unknown)')\n",
      "plt.hist(mcmc.trace('p')[:], bins=25, histtype='stepfilled', normed=True)\n",
      "plt.legend()"
     ],
     "language": "python",
     "metadata": {},
     "outputs": [
      {
       "metadata": {},
       "output_type": "pyout",
       "prompt_number": 58,
       "text": [
        "<matplotlib.legend.Legend at 0x110acbe50>"
       ]
      },
      {
       "metadata": {},
       "output_type": "display_data",
       "png": "[encoded data removed]",
       "text": [
        "<matplotlib.figure.Figure at 0x110b94710>"
       ]
      }
     ],
     "prompt_number": 58
    },
    {
     "cell_type": "markdown",
     "metadata": {},
     "source": [
      "Our posteriod distribution is very close to the true value of $p_A$, and is a fairly tight distribution, which is a measure of how certain we are given our observations. By increasing $N$ we will find that we can be more and more certain."
     ]
    },
    {
     "cell_type": "heading",
     "level": 3,
     "metadata": {},
     "source": [
      "A and B Together"
     ]
    },
    {
     "cell_type": "markdown",
     "metadata": {},
     "source": [
      "A similar analysis can be done for site B's response data to determine the analogous $p_B$. But what we are really interested in is the _difference_ between $p_A$ and $p_B$. Let's infer $p_A$, $p_B$, and delta, all at once. We can do this using PyMC's deterministic variables. We will assume for now that $p_B$ = 0.04, so delta = 0.01, and $N_B$ = 750 (much less than $N_A$) and we also simulate site B's data in the same way as site A."
     ]
    },
    {
     "cell_type": "code",
     "collapsed": false,
     "input": [
      "# These two quantities are unknown to use\n",
      "# We just use them to simulate test data\n",
      "\n",
      "true_p_A = 0.05\n",
      "true_p_B = 0.04\n",
      "\n",
      "# Unequal sample sizes are no problem with Bayesian analysis\n",
      "N_A = 1700\n",
      "N_B = 950\n",
      "\n",
      "# Generate observations\n",
      "obs_A = pm.rbernoulli(true_p_A, N_A)\n",
      "obs_B = pm.rbernoulli(true_p_B, N_B)\n",
      "print 'Obs from Site A: ', obs_A[:30].astype(int), '...'\n",
      "print 'Obs from Site B: ', obs_B[:30].astype(int), '...'"
     ],
     "language": "python",
     "metadata": {},
     "outputs": [
      {
       "output_type": "stream",
       "stream": "stdout",
       "text": [
        "Obs from Site A:  [0 0 0 0 0 0 0 0 0 0 0 0 0 0 0 0 1 1 0 0 0 0 0 0 0 0 0 0 0 0] ...\n",
        "Obs from Site B:  [0 0 0 0 0 0 0 0 0 0 0 0 0 0 0 0 0 0 0 0 0 0 0 1 0 0 0 0 0 0] ...\n"
       ]
      }
     ],
     "prompt_number": 74
    },
    {
     "cell_type": "code",
     "collapsed": false,
     "input": [
      "print obs_A.mean()\n",
      "print obs_B.mean()"
     ],
     "language": "python",
     "metadata": {},
     "outputs": [
      {
       "output_type": "stream",
       "stream": "stdout",
       "text": [
        "0.0464705882353\n",
        "0.0357894736842\n"
       ]
      }
     ],
     "prompt_number": 75
    },
    {
     "cell_type": "code",
     "collapsed": false,
     "input": [
      "# Set up pymc model assuming uniform priors for p_A and p_B.\n",
      "p_A = pm.Uniform('p_A', 0, 1)\n",
      "p_B = pm.Uniform('p_B', 0, 1)\n",
      "\n",
      "# Define the deterministic delta function.\n",
      "# This is our unknown of interest.\n",
      "@pm.deterministic\n",
      "def delta(p_A=p_A, p_B=p_B):\n",
      "    return p_A - p_B\n",
      "\n",
      "# Set of observations\n",
      "obs_A = pm.Bernoulli('obs_A', p_A, value=obs_A, observed=True)\n",
      "obs_b = pm.Bernoulli('obs_B', p_B, value=obs_B, observed=True)\n",
      "\n",
      "# Explained later\n",
      "mcmc = pm.MCMC([p_A, p_B, delta, obs_A, obs_B])\n",
      "mcmc.sample(20000, 1000)"
     ],
     "language": "python",
     "metadata": {},
     "outputs": [
      {
       "output_type": "stream",
       "stream": "stdout",
       "text": [
        "\r",
        " [--                6%                  ] 1303 of 20000 complete in 0.5 sec"
       ]
      },
      {
       "output_type": "stream",
       "stream": "stdout",
       "text": [
        "\r",
        " [-----            14%                  ] 2895 of 20000 complete in 1.0 sec"
       ]
      },
      {
       "output_type": "stream",
       "stream": "stdout",
       "text": [
        "\r",
        " [--------         22%                  ] 4594 of 20000 complete in 1.5 sec"
       ]
      },
      {
       "output_type": "stream",
       "stream": "stdout",
       "text": [
        "\r",
        " [------------     32%                  ] 6421 of 20000 complete in 2.0 sec"
       ]
      },
      {
       "output_type": "stream",
       "stream": "stdout",
       "text": [
        "\r",
        " [---------------  41%                  ] 8291 of 20000 complete in 2.5 sec"
       ]
      },
      {
       "output_type": "stream",
       "stream": "stdout",
       "text": [
        "\r",
        " [-----------------51%                  ] 10215 of 20000 complete in 3.0 sec"
       ]
      },
      {
       "output_type": "stream",
       "stream": "stdout",
       "text": [
        "\r",
        " [-----------------61%---               ] 12200 of 20000 complete in 3.5 sec"
       ]
      },
      {
       "output_type": "stream",
       "stream": "stdout",
       "text": [
        "\r",
        " [-----------------70%------            ] 14111 of 20000 complete in 4.0 sec"
       ]
      },
      {
       "output_type": "stream",
       "stream": "stdout",
       "text": [
        "\r",
        " [-----------------80%----------        ] 16071 of 20000 complete in 4.5 sec"
       ]
      },
      {
       "output_type": "stream",
       "stream": "stdout",
       "text": [
        "\r",
        " [-----------------90%--------------    ] 18032 of 20000 complete in 5.0 sec"
       ]
      },
      {
       "output_type": "stream",
       "stream": "stdout",
       "text": [
        "\r",
        " [-----------------99%----------------- ] 19991 of 20000 complete in 5.5 sec"
       ]
      },
      {
       "output_type": "stream",
       "stream": "stdout",
       "text": [
        "\r",
        " [-----------------100%-----------------] 20000 of 20000 complete in 5.5 sec"
       ]
      }
     ],
     "prompt_number": 76
    },
    {
     "cell_type": "markdown",
     "metadata": {},
     "source": [
      "Plot the posterior distributions of the three unknowns"
     ]
    },
    {
     "cell_type": "code",
     "collapsed": false,
     "input": [
      "p_A_samples = mcmc.trace('p_A')[:]\n",
      "p_B_samples = mcmc.trace('p_B')[:]\n",
      "delta_samples = mcmc.trace('delta')[:]"
     ],
     "language": "python",
     "metadata": {},
     "outputs": [],
     "prompt_number": 77
    },
    {
     "cell_type": "code",
     "collapsed": false,
     "input": [
      "ax = plt.subplot(311)\n",
      "\n",
      "plt.xlim(0, 0.1)\n",
      "plt.hist(p_A_samples, histtype='stepfilled', bins=25, alpha=0.80,\n",
      "         label='posterior of $p_A$', color='red', normed=True)\n",
      "plt.vlines(true_p_A, 0, 80, linestyle='--', label='true $p_A$ (unknown)')\n",
      "plt.legend(loc='upper right')\n",
      "plt.title('Posterior distributions of $p_A$, $p_B$, and delta unknowns')\n",
      "\n",
      "ax = plt.subplot(312)\n",
      "\n",
      "plt.xlim(0, 0.1)\n",
      "plt.hist(p_B_samples, histtype='stepfilled', bins=25, alpha=0.80,\n",
      "         label='posterior of $p_B$', color='#467821', normed=True)\n",
      "plt.vlines(true_p_B, 0, 80, linestyle='--', label='true $p_B$ (unknown)')\n",
      "plt.legend(loc='upper right')\n",
      "\n",
      "ax = plt.subplot(313)\n",
      "\n",
      "plt.hist(delta_samples, histtype='stepfilled', bins=30, alpha=0.80,\n",
      "         label='posterior of delta', color = '#7A68A6', normed=True)\n",
      "plt.vlines(true_p_A - true_p_B, 0, 60, linestyle='--', \n",
      "         label='true delta (unknown)')\n",
      "plt.vlines(0, 0, 60, color='black', alpha=0.2)\n",
      "plt.legend(loc='upper right');"
     ],
     "language": "python",
     "metadata": {},
     "outputs": [
      {
       "metadata": {},
       "output_type": "display_data",
       "png": "[encoded data removed]",
       "text": [
        "<matplotlib.figure.Figure at 0x10fbc8150>"
       ]
      }
     ],
     "prompt_number": 79
    },
    {
     "cell_type": "markdown",
     "metadata": {},
     "source": [
      "Notice that as a result of N_B < N_A, out posterior distribution of $p_B$ is fatter, implying we are less certain about the true value than we are of $p_A$.\n",
      "\n",
      "With respect to the posterior distribution of `delta`, we can see that the majority of the distribution is on almost exactly `delta = 0.01`. If for example deltas distribution was above 0.01, we could imply that Site A's response is likely better than site B's response. The probability that this inference in incorrect can be computed:"
     ]
    },
    {
     "cell_type": "code",
     "collapsed": false,
     "input": [
      "# Count the number of samples less than 0, i.e. the area under the curve\n",
      "# before 0, represent the probability that site A is worse than site B.\n",
      "\n",
      "print 'Probability site A is WORSE than site B: {}'.format(\n",
      "        (delta_samples < 0).mean())\n",
      "print 'Probability site A is BETTER than site B: {}'.format(\n",
      "        (delta_samples > 0).mean())"
     ],
     "language": "python",
     "metadata": {},
     "outputs": [
      {
       "output_type": "stream",
       "stream": "stdout",
       "text": [
        "Probability site A is WORSE than site B: 0.100263157895\n",
        "Probability site A is BETTER than site B: 0.899736842105\n"
       ]
      }
     ],
     "prompt_number": 82
    },
    {
     "cell_type": "markdown",
     "metadata": {},
     "source": [
      "If this probability is too high for comfortable decision-making, we can perform more trials on site B (since site B has less samples to begin with, each additional data point for site B contributes more inferential power than each additional data point for site A).\n",
      "\n",
      "Try playing with the parameters `true_p_A`, `true_p_B`, `N_A`, and `N_B` to see what the posterior of `delta` looks like. Notice in all this, the difference in samples sizes of site A and site B was never mentioned: it naturally fits into Bayesian analysis.\n",
      "\n",
      "This approach is generally more natural than hypothesis testing, in later notebooks we will expand this method to dynamically adjust for bad sites, and improve the speed of the analysis."
     ]
    },
    {
     "cell_type": "heading",
     "level": 1,
     "metadata": {},
     "source": [
      "[Up Next: An Algorithm for Human Deceit](http://nbviewer.ipython.org/github/rmdk/IPython-Notebooks/blob/master/Machine%20Learning/Bayesian%20Inference%204.ipynb)"
     ]
    },
    {
     "cell_type": "code",
     "collapsed": false,
     "input": [
      "from IPython.core.display import HTML\n",
      "\n",
      "\n",
      "def css_styling():\n",
      "    styles = open(\"/users/ryankelly/desktop/custom_notebook2.css\", \"r\").read()\n",
      "\n",
      "    return HTML(styles)\n",
      "css_styling()"
     ],
     "language": "python",
     "metadata": {},
     "outputs": [
      {
       "html": [
        "<style>\n",
        "\n",
        "/*\n",
        "\n",
        "    Name:       Base16 Ashes Light\n",
        "    Author:     Jannik Siebert (https://github.com/janniks)\n",
        "\n",
        "    CodeMirror template adapted for IPython Notebook by Nikhil Sonnad (https://github.com/nsonnad/base16-ipython-notebook)\n",
        "    CodeMirror template by Jan T. Sott (https://github.com/idleberg/base16-chrome-devtools)\n",
        "    Original Base16 color scheme by Chris Kempson (https://github.com/chriskempson/base16)\n",
        "\n",
        "*/\n",
        "\n",
        " /*Uncomment to use a custom font*/\n",
        "/*div#notebook, div.CodeMirror, div.output_area pre, div.output_wrapper, div.prompt {\n",
        "  font-family: 'Computer Modern', \"Helvetica Neue\", Arial, monospace !important;\n",
        "}*/\n",
        "\n",
        "\n",
        "/* GLOBALS */\n",
        "body {background-color: #F3F4F5;}\n",
        "a {color: #AE95C7;}\n",
        "h1 {text-align: center;}\n",
        "/* INTRO PAGE */\n",
        ".toolbar_info, .list-container {color: #393F45;}\n",
        "\n",
        "/* NOTEBOOK */\n",
        "\n",
        "/* comment out this line to bring the toolbar back */\n",
        "/*div#maintoolbar, div#header {display: none !important;}*/\n",
        "\n",
        "div#notebook {border-top: none;}\n",
        "\n",
        "div.input_prompt {color: #C795AE;}\n",
        "div.output_prompt {color: #C79595;}\n",
        "div.input_area {\n",
        "  border-radius: 0px;\n",
        "  border: 1px solid #C7CCD1;\n",
        "}\n",
        "div.output_area pre {font-weight: normal; color: #565E65;}\n",
        "div.output_subarea {font-weight: normal; color: #565E65;}\n",
        "\n",
        ".rendered_html table, .rendered_html th, .rendered_html tr, .rendered_html td {\n",
        "  border: 1px  #747C84 solid;\n",
        "  color: #747C84;\n",
        "}\n",
        "div.output_html { font-family: 'Computer Modern', \"Helvetica Neue\", Arial, sans-serif; }\n",
        "table.dataframe tr {border: 1px #565E65;}\n",
        "\n",
        "div.cell.selected {border-radius: 0px;}\n",
        "div.cell.edit_mode {border-radius: 0px; border: thin solid #C79595;}\n",
        "div.text_cell_render, div.output_html {color: #565E65;}\n",
        "\n",
        "span.ansiblack {color: #393F45;}\n",
        "span.ansiblue {color: #95AEC7;}\n",
        "span.ansigray {color: #ADB3BA;}\n",
        "span.ansigreen {color: #95C7AE;}\n",
        "span.ansipurple {color: #C795AE;}\n",
        "span.ansired {color: #C7AE95;}\n",
        "span.ansiyellow {color: #AEC795;}\n",
        "\n",
        "div.output_stderr {background-color: #C7AE95;}\n",
        "div.output_stderr pre {color: #DFE2E5;}\n",
        "\n",
        ".cm-s-ipython.CodeMirror {background: #F3F4F5; color: #393F45;}\n",
        ".cm-s-ipython div.CodeMirror-selected {background: #DFE2E5 !important;}\n",
        ".cm-s-ipython .CodeMirror-gutters {background: #F3F4F5; border-right: 0px;}\n",
        ".cm-s-ipython .CodeMirror-linenumber {color: #ADB3BA;}\n",
        ".cm-s-ipython .CodeMirror-cursor {border-left: 1px solid #747C84 !important;}\n",
        "\n",
        ".cm-s-ipython span.cm-comment {color: #C79595;}\n",
        ".cm-s-ipython span.cm-atom {color: #C795AE;}\n",
        ".cm-s-ipython span.cm-number {color: #C795AE;}\n",
        "\n",
        ".cm-s-ipython span.cm-property, .cm-s-ipython span.cm-attribute {color: #95C7AE;}\n",
        ".cm-s-ipython span.cm-keyword {color: #C7AE95;}\n",
        ".cm-s-ipython span.cm-string {color: #AEC795;}\n",
        ".cm-s-ipython span.cm-operator {color: #C79595;}\n",
        ".cm-s-ipython span.cm-builtin {color: #C795AE;}\n",
        "\n",
        ".cm-s-ipython span.cm-variable {color: #95C7AE;}\n",
        ".cm-s-ipython span.cm-variable-2 {color: #AE95C7;}\n",
        ".cm-s-ipython span.cm-def {color: #C7C795;}\n",
        ".cm-s-ipython span.cm-error {background: #C7AE95; color: #747C84;}\n",
        ".cm-s-ipython span.cm-bracket {color: #565E65;}\n",
        ".cm-s-ipython span.cm-tag {color: #C7AE95;}\n",
        ".cm-s-ipython span.cm-link {color: #C795AE;}\n",
        "\n",
        ".cm-s-ipython .CodeMirror-matchingbracket { text-decoration: underline; color: #393F45 !important;}\n",
        "</style>"
       ],
       "metadata": {},
       "output_type": "pyout",
       "prompt_number": 8,
       "text": [
        "<IPython.core.display.HTML at 0x1055eef10>"
       ]
      }
     ],
     "prompt_number": 8
    },
    {
     "cell_type": "code",
     "collapsed": false,
     "input": [
      "def social():\n",
      "    code = \"\"\"\n",
      "    <a style='float:left; margin-right:5px;' href=\"https://twitter.com/share\" class=\"twitter-share-button\" data-text=\"Check this out\" data-via=\"Ryanmdk\">Tweet</a>\n",
      "<script>!function(d,s,id){var js,fjs=d.getElementsByTagName(s)[0],p=/^http:/.test(d.location)?'http':'https';if(!d.getElementById(id)){js=d.createElement(s);js.id=id;js.src=p+'://platform.twitter.com/widgets.js';fjs.parentNode.insertBefore(js,fjs);}}(document, 'script', 'twitter-wjs');</script>\n",
      "    <a style='float:left; margin-right:5px;' href=\"https://twitter.com/Ryanmdk\" class=\"twitter-follow-button\" data-show-count=\"false\">Follow @Ryanmdk</a>\n",
      "<script>!function(d,s,id){var js,fjs=d.getElementsByTagName(s)[0],p=/^http:/.test(d.location)?'http':'https';if(!d.getElementById(id)){js=d.createElement(s);js.id=id;js.src=p+'://platform.twitter.com/widgets.js';fjs.parentNode.insertBefore(js,fjs);}}(document, 'script', 'twitter-wjs');</script>\n",
      "    <a style='float:left; margin-right:5px;'target='_parent' href=\"http://www.reddit.com/submit\" onclick=\"window.location = 'http://www.reddit.com/submit?url=' + encodeURIComponent(window.location); return false\"> <img src=\"http://www.reddit.com/static/spreddit7.gif\" alt=\"submit to reddit\" border=\"0\" /> </a>\n",
      "<script src=\"//platform.linkedin.com/in.js\" type=\"text/javascript\">\n",
      "  lang: en_US\n",
      "</script>\n",
      "<script type=\"IN/Share\"></script>\n",
      "\"\"\"\n",
      "    return HTML(code)"
     ],
     "language": "python",
     "metadata": {},
     "outputs": [],
     "prompt_number": 6
    }
   ],
   "metadata": {}
  }
 ]
}