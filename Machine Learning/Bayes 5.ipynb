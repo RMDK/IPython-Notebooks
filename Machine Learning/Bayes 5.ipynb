{
 "metadata": {
  "name": "",
  "signature": "sha256:c427d9b1f0b6826d40799b4749bbdc0b9f9e942b13921352bf9d595ed39baff7"
 },
 "nbformat": 3,
 "nbformat_minor": 0,
 "worksheets": [
  {
   "cells": [
    {
     "cell_type": "markdown",
     "metadata": {},
     "source": [
      "The material for this notebook is provided via this free online <a href='http://nbviewer.ipython.org/github/CamDavidsonPilon/Probabilistic-Programming-and-Bayesian-Methods-for-Hackers/blob/master/Chapter1_Introduction/Chapter1_Introduction.ipynb'>textbook</a> :  \n",
      "\n",
      "I am writing this notebook to document my learning, and hopefully to help others learn machine learning. You can think of it as my personal lecture notes. I would love suggestions / corrections / feedback for these notebooks.\n",
      "\n",
      "<b><a target=\"_parent\" href=\"http://rmdk.ca\">Visit my webpage for more</a></b>. \n",
      "\n",
      "Email me: <a href=\"mailto:email.ryan.kelly@gmail.com?Subject=Hey\" target=\"_top\">email.ryan.kelly@gmail.com</a>"
     ]
    },
    {
     "cell_type": "code",
     "collapsed": false,
     "input": [],
     "language": "python",
     "metadata": {},
     "outputs": []
    }
   ],
   "metadata": {}
  }
 ]
}