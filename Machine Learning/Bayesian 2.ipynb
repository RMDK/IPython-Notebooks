{
 "metadata": {
  "name": "",
  "signature": "sha256:8adfc31b589b47f35da60a8bab8de2ef13de43b0d5ca63c8cd0d76b0a673aed3"
 },
 "nbformat": 3,
 "nbformat_minor": 0,
 "worksheets": [
  {
   "cells": [
    {
     "cell_type": "heading",
     "level": 1,
     "metadata": {},
     "source": [
      "Bayesian Methods 2"
     ]
    },
    {
     "cell_type": "markdown",
     "metadata": {},
     "source": [
      "The material for this notebook is provided via this free online <a href='http://nbviewer.ipython.org/github/CamDavidsonPilon/Probabilistic-Programming-and-Bayesian-Methods-for-Hackers/blob/master/Chapter1_Introduction/Chapter1_Introduction.ipynb'>textbook</a> :  \n",
      "\n",
      "I am writing this notebook to document my learning, and hopefully to help others learn machine learning. You can think of it as my personal lecture notes. I would love suggestions / corrections / feedback for these notebooks.\n",
      "\n",
      "<b><a target=\"_parent\" href=\"http://rmdk.ca\">Visit my webpage for more</a></b>. \n",
      "\n",
      "Email me: <a href=\"mailto:email.ryan.kelly@gmail.com?Subject=Hey\" target=\"_top\">email.ryan.kelly@gmail.com</a>\n",
      "\n",
      "I'd love for you to share if you liked this post."
     ]
    },
    {
     "cell_type": "heading",
     "level": 2,
     "metadata": {},
     "source": [
      "Related Notebooks"
     ]
    },
    {
     "cell_type": "markdown",
     "metadata": {},
     "source": [
      "* <a target=\"_parent\" href=\"http://nbviewer.ipython.org/github/rmdk/IPython-Notebooks/blob/master/Machine%20Learning/Bayesian%20Methods%20for%20Hackers.ipynb\">Intro to Bayesian Inference</a>\n",
      "\n",
      "* <a target=\"_parent\" href=\"http://nbviewer.ipython.org/github/RMDK/IPython-Notebooks/blob/master/Machine%20Learning/Probability%20Distribution%20Review.ipynb\">Probability Distribution Review</a>\n",
      "\n",
      "* <a target=\"_parent\" href=\"http://rmdk.ca\">Bayesian Inference 3</a>\n",
      "\n",
      "* <a target=\"_parent\" href=\"http://rmdk.ca\">Bayesian Inference 4</a>\n",
      "\n",
      "* <a target=\"_parent\" href=\"http://rmdk.ca\">Bayesian Inference 5</a>\n",
      "\n",
      "* <a target=\"_parent\" href=\"http://rmdk.ca\">Bayesian Inference 6</a>"
     ]
    },
    {
     "cell_type": "code",
     "collapsed": false,
     "input": [
      "social()"
     ],
     "language": "python",
     "metadata": {},
     "outputs": [
      {
       "html": [
        "\n",
        "    <a style='float:left; margin-right:5px;' href=\"https://twitter.com/share\" class=\"twitter-share-button\" data-text=\"Check this out\" data-via=\"Ryanmdk\">Tweet</a>\n",
        "<script>!function(d,s,id){var js,fjs=d.getElementsByTagName(s)[0],p=/^http:/.test(d.location)?'http':'https';if(!d.getElementById(id)){js=d.createElement(s);js.id=id;js.src=p+'://platform.twitter.com/widgets.js';fjs.parentNode.insertBefore(js,fjs);}}(document, 'script', 'twitter-wjs');</script>\n",
        "    <a style='float:left; margin-right:5px;' href=\"https://twitter.com/Ryanmdk\" class=\"twitter-follow-button\" data-show-count=\"false\">Follow @Ryanmdk</a>\n",
        "<script>!function(d,s,id){var js,fjs=d.getElementsByTagName(s)[0],p=/^http:/.test(d.location)?'http':'https';if(!d.getElementById(id)){js=d.createElement(s);js.id=id;js.src=p+'://platform.twitter.com/widgets.js';fjs.parentNode.insertBefore(js,fjs);}}(document, 'script', 'twitter-wjs');</script>\n",
        "    <a style='float:left; margin-right:5px;'target='_parent' href=\"http://www.reddit.com/submit\" onclick=\"window.location = 'http://www.reddit.com/submit?url=' + encodeURIComponent(window.location); return false\"> <img src=\"http://www.reddit.com/static/spreddit7.gif\" alt=\"submit to reddit\" border=\"0\" /> </a>\n",
        "<script src=\"//platform.linkedin.com/in.js\" type=\"text/javascript\">\n",
        "  lang: en_US\n",
        "</script>\n",
        "<script type=\"IN/Share\"></script>\n"
       ],
       "metadata": {},
       "output_type": "pyout",
       "prompt_number": 4,
       "text": [
        "<IPython.core.display.HTML at 0x105f38090>"
       ]
      }
     ],
     "prompt_number": 4
    },
    {
     "cell_type": "heading",
     "level": 3,
     "metadata": {},
     "source": [
      "This notebook covers or includes:"
     ]
    },
    {
     "cell_type": "markdown",
     "metadata": {},
     "source": [
      "* Introduction to Bayesian Methods\n",
      "* Uses Python and PyMC\n",
      "* Many Examples and Figures"
     ]
    },
    {
     "cell_type": "heading",
     "level": 2,
     "metadata": {},
     "source": [
      "Introduction"
     ]
    },
    {
     "cell_type": "markdown",
     "metadata": {},
     "source": [
      "PyMC is a python library dedicated for Bayesian analysis. The book I am using for these notebooks is designed to bridge the complex gaps in the documentation, and make this library and Bayesian analysis more accessible. This notebook will be focused around solving the problem introduced above in \n",
      "<a href='http://nbviewer.ipython.org/github/RMDK/IPython-Notebooks/blob/master/Machine%20Learning/Probability%20Distribution%20Review.ipynb'>Probability Distributions Review</a>.\n",
      "\n",
      "This type of programming is called _probabilistic programming_, and has previously been daunting to learn. The author provides an interesting quote that describes probabilistic programming.\n",
      "\n",
      "> Another way of thinking about this: unlike a traditional program, which only runs in forward directions, a probabilistic program is run in both forward and backward directions. It runs forward to compute the consequences of the assumptions it contains about the world, but also runs backwards from the data to constrain the possible explanations. In practice, many probabilistic programming systems will cleverly interleave these forward and backward operations to be efficiently hone in on the best explanations.\n",
      "\n",
      "PyMC code is fairly easy to read. The only new thing is the syntax, so we will go through it slowly. Remember, we will be simply representing the model's components ($\\tau, \\ \\lambda _1, \\ \\lambda _2$) as variables.\n",
      "\n",
      "First we will reload and plot the text-message data from last lesson."
     ]
    },
    {
     "cell_type": "code",
     "collapsed": false,
     "input": [
      "%matplotlib inline\n",
      "from matplotlib import pyplot as plt\n",
      "\n",
      "import seaborn as sns\n",
      "# Some initial styling\n",
      "rc={'axes.labelsize': 16.0, 'font.size': 16, \n",
      "    'legend.fontsize': 16.0, 'axes.titlesize': 18,\n",
      "    'xtick.labelsize': 15.0, 'ytick.labelsize': 15.0}\n",
      "\n",
      "sns.set(context = 'poster', style = 'whitegrid', rc=rc)\n",
      "\n",
      "import numpy as np\n",
      "import pandas as pd\n",
      "\n",
      "count_data = pd.read_csv('https://raw.githubusercontent.com/CamDavidsonPilon/Probabilistic-Programming-and-Bayesian-Methods-for-Hackers/master/Chapter1_Introduction/data/txtdata.csv',\n",
      "    header=None, names=['msgs'])\n",
      "N = len(count_data)\n",
      "\n",
      "plt.bar(np.arange(N), count_data['msgs'], color=\"#9b59b6\", alpha=0.8)\n",
      "plt.xlabel('Time (days)')\n",
      "plt.ylabel('count of msgs received')\n",
      "plt.title('Did the texting habits change over time?')\n",
      "plt.xlim(0, N)"
     ],
     "language": "python",
     "metadata": {},
     "outputs": [
      {
       "metadata": {},
       "output_type": "pyout",
       "prompt_number": 7,
       "text": [
        "(0, 74)"
       ]
      },
      {
       "metadata": {},
       "output_type": "display_data",
       "png": "[encoded data removed]",
       "text": [
        "<matplotlib.figure.Figure at 0x10f8f9a90>"
       ]
      }
     ],
     "prompt_number": 7
    },
    {
     "cell_type": "code",
     "collapsed": false,
     "input": [
      "import pymc as pm\n",
      "\n",
      "alpha = 1.0 / count_data.mean() # 'count_data' holds text message counts\n",
      "\n",
      "lambda_1 = pm.Exponential('lambda_1', alpha)\n",
      "lambda_2 = pm.Exponential('lambda_2', alpha)\n",
      "tau = pm.DiscreteUniform('tau', lower=0, upper=N)"
     ],
     "language": "python",
     "metadata": {},
     "outputs": [],
     "prompt_number": 9
    },
    {
     "cell_type": "markdown",
     "metadata": {},
     "source": [
      "In this code we create PyMC variables for the model components that we need. We assign them to PyMC's _stochastic variables_, so-called because they are treated by the back end as random number generatiors. We can demonstrate this fact by calling their built-in `random()` methods."
     ]
    },
    {
     "cell_type": "code",
     "collapsed": false,
     "input": [
      "print('Random Output:', tau.random(), tau.random(), tau.random())"
     ],
     "language": "python",
     "metadata": {},
     "outputs": [
      {
       "output_type": "stream",
       "stream": "stdout",
       "text": [
        "('Random Output:', array(42), array(62), array(29))\n"
       ]
      }
     ],
     "prompt_number": 10
    },
    {
     "cell_type": "code",
     "collapsed": false,
     "input": [
      "@pm.deterministic\n",
      "def lambda_(tau=tau, lambda_1=lambda_1, lambda_2=lambda_2):\n",
      "    out = np.zeros(N)\n",
      "    out[:tau] = lambda_1 # lambda before tau is lambda_1\n",
      "    out[tau:] = lambda_2 # lambda after (and including) tau is lambda_2\n",
      "    return out"
     ],
     "language": "python",
     "metadata": {},
     "outputs": [],
     "prompt_number": 11
    },
    {
     "cell_type": "markdown",
     "metadata": {},
     "source": [
      "This code creates a new function `lambda_`, but we can just think of it as a random variable: the random variable $\\lambda$. Note that because `lambda_1`, `lambda_2`, and `tau` are random, `lambda_` will be random. No variables are fixed yet.\n",
      "\n",
      "`@pm.deterministic` is a decorator that tells PyMC this is a deterministic function. Thus if the arguments were deterministic (they are not), the output would be deterministic as well."
     ]
    },
    {
     "cell_type": "code",
     "collapsed": false,
     "input": [
      "observation = pm.Poisson('obs', lambda_, value=count_data, observed=True)\n",
      "model = pm.Model([observation, lambda_1, lambda_2, tau])"
     ],
     "language": "python",
     "metadata": {},
     "outputs": [],
     "prompt_number": 12
    },
    {
     "cell_type": "markdown",
     "metadata": {},
     "source": [
      "The variable `observation` combines out data, `count_data`, without our proposed data-generation scheme, given by the variable `lambda_`, through the `value` keyword. We set `observed = True` to tell PyMC that this should stay fixed in our analysis. Finally, PyMC wants us to collect all the variables of interest and create a `model` instance out of them. This makes our life easier when we retrieve the results.\n",
      "\n",
      "The code below will be fully explained later, but we show it here to see where the results come from. One can think of it as a _learning_ step. The model employed here is a _Markov Chain Monte Carlo_ (MCMC), which is also explained later. This technique returns thousands of random variables from the posterior distributions of $\\lambda _1$, $\\lambda _2$ , and $\\tau$. We can plot a histogram of the random variables to see what the posterior distributions look like. Below we collect the samples (called _traces_ in the MCMC literature) into histograms."
     ]
    },
    {
     "cell_type": "code",
     "collapsed": false,
     "input": [
      "# Code to be explained later\n",
      "mcmc = pm.MCMC(model)\n",
      "mcmc.sample(40000, 10000, 1)"
     ],
     "language": "python",
     "metadata": {},
     "outputs": [
      {
       "output_type": "stream",
       "stream": "stdout",
       "text": [
        "\r",
        " [---               8%                  ] 3424 of 40000 complete in 0.5 sec"
       ]
      },
      {
       "output_type": "stream",
       "stream": "stdout",
       "text": [
        "\r",
        " [------           17%                  ] 6809 of 40000 complete in 1.0 sec"
       ]
      },
      {
       "output_type": "stream",
       "stream": "stdout",
       "text": [
        "\r",
        " [---------        25%                  ] 10145 of 40000 complete in 1.5 sec"
       ]
      },
      {
       "output_type": "stream",
       "stream": "stdout",
       "text": [
        "\r",
        " [------------     32%                  ] 12934 of 40000 complete in 2.0 sec"
       ]
      },
      {
       "output_type": "stream",
       "stream": "stdout",
       "text": [
        "\r",
        " [--------------   39%                  ] 15770 of 40000 complete in 2.5 sec"
       ]
      },
      {
       "output_type": "stream",
       "stream": "stdout",
       "text": [
        "\r",
        " [-----------------46%                  ] 18575 of 40000 complete in 3.0 sec"
       ]
      },
      {
       "output_type": "stream",
       "stream": "stdout",
       "text": [
        "\r",
        " [-----------------53%                  ] 21390 of 40000 complete in 3.5 sec"
       ]
      },
      {
       "output_type": "stream",
       "stream": "stdout",
       "text": [
        "\r",
        " [-----------------60%---               ] 24232 of 40000 complete in 4.0 sec"
       ]
      },
      {
       "output_type": "stream",
       "stream": "stdout",
       "text": [
        "\r",
        " [-----------------67%-----             ] 27060 of 40000 complete in 4.5 sec"
       ]
      },
      {
       "output_type": "stream",
       "stream": "stdout",
       "text": [
        "\r",
        " [-----------------74%--------          ] 29951 of 40000 complete in 5.0 sec"
       ]
      },
      {
       "output_type": "stream",
       "stream": "stdout",
       "text": [
        "\r",
        " [-----------------82%-----------       ] 32854 of 40000 complete in 5.5 sec"
       ]
      },
      {
       "output_type": "stream",
       "stream": "stdout",
       "text": [
        "\r",
        " [-----------------89%-------------     ] 35658 of 40000 complete in 6.0 sec"
       ]
      },
      {
       "output_type": "stream",
       "stream": "stdout",
       "text": [
        "\r",
        " [-----------------96%----------------  ] 38536 of 40000 complete in 6.5 sec"
       ]
      },
      {
       "output_type": "stream",
       "stream": "stdout",
       "text": [
        "\r",
        " [-----------------100%-----------------] 40000 of 40000 complete in 6.8 sec"
       ]
      }
     ],
     "prompt_number": 13
    },
    {
     "cell_type": "code",
     "collapsed": false,
     "input": [
      "lambda_1_samples = mcmc.trace('lambda_1')[:]\n",
      "lambda_2_samples = mcmc.trace('lambda_2')[:]\n",
      "tau_samples = mcmc.trace('tau')[:]"
     ],
     "language": "python",
     "metadata": {},
     "outputs": [],
     "prompt_number": 14
    },
    {
     "cell_type": "code",
     "collapsed": false,
     "input": [
      "# Histogram of samples\n",
      "\n",
      "ax = plt.subplot(311)\n",
      "ax.set_autoscaley_on(False)\n",
      "\n",
      "plt.hist(lambda_1_samples, histtype='stepfilled', bins=30, alpha=0.85,\n",
      "         label='posterior of $\\lambda _1$', color='#9b59b6', normed=True)\n",
      "plt.legend(loc='upper right')\n",
      "plt.title(r'''Posterior distributions of the variables $\\lambda _1, \\ \\lambda _2, \\ \\tau$''')\n",
      "plt.xlim([15, 30])\n",
      "plt.xlabel('$\\lambda _1$ value')\n",
      "\n",
      "ax = plt.subplot(312)\n",
      "ax.set_autoscaley_on(False)\n",
      "plt.hist(lambda_2_samples, histtype='stepfilled', bins=30, alpha=0.85,\n",
      "         label='posterior of $\\lambda _2$', color='#3498db', normed=True)\n",
      "plt.legend(loc='upper right')\n",
      "plt.xlim([15, 30])\n",
      "plt.xlabel('$\\lambda _2$ value')\n",
      "\n",
      "plt.subplot(313)\n",
      "w = 1.0 / tau_samples.shape[0] * np.ones_like(tau_samples)\n",
      "plt.hist(tau_samples, bins=N, alpha = 1,\n",
      "         label=r'posterior of $\\tau$',\n",
      "         color='#A60628', weights=w, rwidth=2.)\n",
      "plt.xticks(np.arange(N))\n",
      "\n",
      "plt.legend(loc='upper left')\n",
      "plt.ylim([0, 0.75])\n",
      "plt.xlim([35, len(count_data) - 20])\n",
      "plt.xlabel(r'$\\tau$ (in days)')\n",
      "plt.ylabel('probability')\n",
      "\n"
     ],
     "language": "python",
     "metadata": {},
     "outputs": [
      {
       "metadata": {},
       "output_type": "pyout",
       "prompt_number": 21,
       "text": [
        "<matplotlib.text.Text at 0x1125e1ed0>"
       ]
      },
      {
       "metadata": {},
       "output_type": "display_data",
       "png": "[encoded data removed]",
       "text": [
        "<matplotlib.figure.Figure at 0x1114cb750>"
       ]
      }
     ],
     "prompt_number": 21
    },
    {
     "cell_type": "heading",
     "level": 2,
     "metadata": {},
     "source": [
      "Interpretation"
     ]
    },
    {
     "cell_type": "markdown",
     "metadata": {},
     "source": [
      "Recall that Bayesian methodology returns a _distribution_. Hence we now have distributions to describe the unknown $\\lambda$s and $\\tau$. What have we gained? Immediately, we can see the uncertainty in our estimates: the wider distribution, the less certain out posterior belief should be. We can also see what the plausible values for the parameters are: $\\lambda _1$ is around 18 and $\\lambda _2$ is around 23. The posterior distributions of the two lambdas are clearly distinct, indicating that it is indeed likely that there was a change in the users text message behaviour.\n",
      "\n",
      "Notice that the posterior distributions for the $\\lambda$s do not look like exponential distributions, even though our priors for these were exponential. In fact, the posterior distributions are not really of any form that we recognize from the original model. But that's OK! This is one of the benefits of a Bayesian point of view. If we had instead used a mathematical approaches, we would be stuck with a messy result.\n",
      "\n",
      "Our analysis also returned a distribution for $\\tau$. Its posterior distribution looks different from the other two because it is a discrete random variable, so it does assign probabilities to intervals. We can see that near day 45, there was a 50% chance that the user's behaviour changed. Had no change occurred, or had the change been gradual over time, the posterior distribution of $\\tau$ would have been more spread out, reflecting that many days were plausible candidates for $\\tau$. However, the actual results show that only three of four days make any sense as potential transition points."
     ]
    },
    {
     "cell_type": "heading",
     "level": 2,
     "metadata": {},
     "source": [
      "Why would I want sampes from the posterior, anyways?"
     ]
    },
    {
     "cell_type": "markdown",
     "metadata": {},
     "source": [
      "We will deal with this question for the remainder of the book, and it is an understatement to say that it will lead us to some amazing results. For now, let's end this chapter with one last example.\n",
      "\n",
      "We will use the posterior samples to answer the following question: what is the expect number of texts at day $t$, $ 0 <= t <= 70$? Recall that the expected value of a Poisson variable is equal to its parameter $\\lambda$. Therefore, the question is equivalent to _what is the expected value of $\\lambda$ at time $t$_?\n",
      "\n",
      "In the code below, let $i$ inded samples from the posterior distributions. Given a dat $t$, we average over all possible $\\lambda _i$ for that dat $t$, using $\\lambda _i = \\lambda  _{1, i} \\ \\  if \\ \\ t < \\tau _i$, else we use $\\lambda _i = \\lambda _{2, i}$."
     ]
    },
    {
     "cell_type": "code",
     "collapsed": false,
     "input": [
      "NN = tau_samples.shape[0]\n",
      "expected_texts_per_day = np.zeros(N)\n",
      "for day in range(0, N):\n",
      "    #ix is a bool index of all tau samples corresponding to\n",
      "    # the switchpoint occurring prior to value of 'day'\n",
      "    ix = day < tau_samples\n",
      "    # Each posterior sample corresponds to a value for tau.\n",
      "    # for each day, that value of tau indicates whether we are 'before'\n",
      "    # in the lambda_1 regime, or 'after' the switchpoint in the lambda_2 regime.\n",
      "    # By taking the posterior sample of lambda1/2 accordingly, we can \n",
      "    # average over all samples to get an expect value for lambda on that day.\n",
      "    # The message count random variable is Poisson distributed,\n",
      "    # therefore lambda (the Poisson parameter) is the expected value of\n",
      "    # message count.\n",
      "    expected_texts_per_day[day] = (lambda_1_samples[ix].sum()+\n",
      "                                   lambda_2_samples[~ix].sum()) / NN\n",
      "    \n",
      "plt.plot(range(N), expected_texts_per_day, color='#9b59b6', lw=4,\n",
      "         label='Predicted number of texts')\n",
      "             \n",
      "plt.xlim(0, N)\n",
      "plt.xlabel('Day')\n",
      "plt.ylabel('Expected # of texts')\n",
      "plt.title('Expected number of texts received')\n",
      "\n",
      "plt.bar(np.arange(len(count_data)), count_data['msgs'], color=\"#3498db\", alpha=0.65,\n",
      "    label=\"observed texts per day\")\n",
      "plt.legend(loc='upper left')"
     ],
     "language": "python",
     "metadata": {},
     "outputs": [
      {
       "metadata": {},
       "output_type": "pyout",
       "prompt_number": 53,
       "text": [
        "<matplotlib.legend.Legend at 0x11c3c1d50>"
       ]
      },
      {
       "metadata": {},
       "output_type": "display_data",
       "png": "[encoded data removed]",
       "text": [
        "<matplotlib.figure.Figure at 0x11b33d410>"
       ]
      }
     ],
     "prompt_number": 53
    },
    {
     "cell_type": "markdown",
     "metadata": {},
     "source": [
      "Our analysis thus far shows strong support for believing the user's behaviour did chance ($\\lambda _1$ would have been close in value to $\\lambda _2$ had this not been true), and that change was sudden rather than gradual, as denoted by $\\tau$'s strong peaked posterior distribution. We can speculate what might have caused this: a cheaper text-message rage, recent text subscription, or maybe a new relationship. In reality, the text message increase corresponds to a trip the user took for work, leading to an increase of messages to a girlfriend."
     ]
    },
    {
     "cell_type": "heading",
     "level": 1,
     "metadata": {},
     "source": [
      "<a target=\"_parent\" href=\"http://nbviewer.ipython.org/github/RMDK/IPython-Notebooks/blob/master/Machine%20Learning/Probability%20Distribution%20Review.ipynb\">Up Next: Bayesian Methodology 3</a>\n",
      "\n",
      "<hr>"
     ]
    },
    {
     "cell_type": "code",
     "collapsed": false,
     "input": [
      "from IPython.core.display import HTML\n",
      "\n",
      "\n",
      "def css_styling():\n",
      "    styles = open(\"/users/ryankelly/desktop/custom_notebook2.css\", \"r\").read()\n",
      "\n",
      "    return HTML(styles)\n",
      "css_styling()"
     ],
     "language": "python",
     "metadata": {},
     "outputs": [
      {
       "html": [
        "<style>\n",
        "\n",
        "/*\n",
        "\n",
        "    Name:       Base16 Ashes Light\n",
        "    Author:     Jannik Siebert (https://github.com/janniks)\n",
        "\n",
        "    CodeMirror template adapted for IPython Notebook by Nikhil Sonnad (https://github.com/nsonnad/base16-ipython-notebook)\n",
        "    CodeMirror template by Jan T. Sott (https://github.com/idleberg/base16-chrome-devtools)\n",
        "    Original Base16 color scheme by Chris Kempson (https://github.com/chriskempson/base16)\n",
        "\n",
        "*/\n",
        "\n",
        " /*Uncomment to use a custom font*/\n",
        "/*div#notebook, div.CodeMirror, div.output_area pre, div.output_wrapper, div.prompt {\n",
        "  font-family: 'Computer Modern', \"Helvetica Neue\", Arial, monospace !important;\n",
        "}*/\n",
        "\n",
        "\n",
        "/* GLOBALS */\n",
        "body {background-color: #F3F4F5;}\n",
        "a {color: #AE95C7;}\n",
        "h1 {text-align: center;}\n",
        "/* INTRO PAGE */\n",
        ".toolbar_info, .list-container {color: #393F45;}\n",
        "\n",
        "/* NOTEBOOK */\n",
        "\n",
        "/* comment out this line to bring the toolbar back */\n",
        "/*div#maintoolbar, div#header {display: none !important;}*/\n",
        "\n",
        "div#notebook {border-top: none;}\n",
        "\n",
        "div.input_prompt {color: #C795AE;}\n",
        "div.output_prompt {color: #C79595;}\n",
        "div.input_area {\n",
        "  border-radius: 0px;\n",
        "  border: 1px solid #C7CCD1;\n",
        "}\n",
        "div.output_area pre {font-weight: normal; color: #565E65;}\n",
        "div.output_subarea {font-weight: normal; color: #565E65;}\n",
        "\n",
        ".rendered_html table, .rendered_html th, .rendered_html tr, .rendered_html td {\n",
        "  border: 1px  #747C84 solid;\n",
        "  color: #747C84;\n",
        "}\n",
        "div.output_html { font-family: 'Computer Modern', \"Helvetica Neue\", Arial, sans-serif; }\n",
        "table.dataframe tr {border: 1px #565E65;}\n",
        "\n",
        "div.cell.selected {border-radius: 0px;}\n",
        "div.cell.edit_mode {border-radius: 0px; border: thin solid #C79595;}\n",
        "div.text_cell_render, div.output_html {color: #565E65;}\n",
        "\n",
        "span.ansiblack {color: #393F45;}\n",
        "span.ansiblue {color: #95AEC7;}\n",
        "span.ansigray {color: #ADB3BA;}\n",
        "span.ansigreen {color: #95C7AE;}\n",
        "span.ansipurple {color: #C795AE;}\n",
        "span.ansired {color: #C7AE95;}\n",
        "span.ansiyellow {color: #AEC795;}\n",
        "\n",
        "div.output_stderr {background-color: #C7AE95;}\n",
        "div.output_stderr pre {color: #DFE2E5;}\n",
        "\n",
        ".cm-s-ipython.CodeMirror {background: #F3F4F5; color: #393F45;}\n",
        ".cm-s-ipython div.CodeMirror-selected {background: #DFE2E5 !important;}\n",
        ".cm-s-ipython .CodeMirror-gutters {background: #F3F4F5; border-right: 0px;}\n",
        ".cm-s-ipython .CodeMirror-linenumber {color: #ADB3BA;}\n",
        ".cm-s-ipython .CodeMirror-cursor {border-left: 1px solid #747C84 !important;}\n",
        "\n",
        ".cm-s-ipython span.cm-comment {color: #C79595;}\n",
        ".cm-s-ipython span.cm-atom {color: #C795AE;}\n",
        ".cm-s-ipython span.cm-number {color: #C795AE;}\n",
        "\n",
        ".cm-s-ipython span.cm-property, .cm-s-ipython span.cm-attribute {color: #95C7AE;}\n",
        ".cm-s-ipython span.cm-keyword {color: #C7AE95;}\n",
        ".cm-s-ipython span.cm-string {color: #AEC795;}\n",
        ".cm-s-ipython span.cm-operator {color: #C79595;}\n",
        ".cm-s-ipython span.cm-builtin {color: #C795AE;}\n",
        "\n",
        ".cm-s-ipython span.cm-variable {color: #95C7AE;}\n",
        ".cm-s-ipython span.cm-variable-2 {color: #AE95C7;}\n",
        ".cm-s-ipython span.cm-def {color: #C7C795;}\n",
        ".cm-s-ipython span.cm-error {background: #C7AE95; color: #747C84;}\n",
        ".cm-s-ipython span.cm-bracket {color: #565E65;}\n",
        ".cm-s-ipython span.cm-tag {color: #C7AE95;}\n",
        ".cm-s-ipython span.cm-link {color: #C795AE;}\n",
        "\n",
        ".cm-s-ipython .CodeMirror-matchingbracket { text-decoration: underline; color: #393F45 !important;}\n",
        "</style>"
       ],
       "metadata": {},
       "output_type": "pyout",
       "prompt_number": 2,
       "text": [
        "<IPython.core.display.HTML at 0x105f38fd0>"
       ]
      }
     ],
     "prompt_number": 2
    },
    {
     "cell_type": "code",
     "collapsed": false,
     "input": [
      "def social():\n",
      "    code = \"\"\"\n",
      "    <a style='float:left; margin-right:5px;' href=\"https://twitter.com/share\" class=\"twitter-share-button\" data-text=\"Check this out\" data-via=\"Ryanmdk\">Tweet</a>\n",
      "<script>!function(d,s,id){var js,fjs=d.getElementsByTagName(s)[0],p=/^http:/.test(d.location)?'http':'https';if(!d.getElementById(id)){js=d.createElement(s);js.id=id;js.src=p+'://platform.twitter.com/widgets.js';fjs.parentNode.insertBefore(js,fjs);}}(document, 'script', 'twitter-wjs');</script>\n",
      "    <a style='float:left; margin-right:5px;' href=\"https://twitter.com/Ryanmdk\" class=\"twitter-follow-button\" data-show-count=\"false\">Follow @Ryanmdk</a>\n",
      "<script>!function(d,s,id){var js,fjs=d.getElementsByTagName(s)[0],p=/^http:/.test(d.location)?'http':'https';if(!d.getElementById(id)){js=d.createElement(s);js.id=id;js.src=p+'://platform.twitter.com/widgets.js';fjs.parentNode.insertBefore(js,fjs);}}(document, 'script', 'twitter-wjs');</script>\n",
      "    <a style='float:left; margin-right:5px;'target='_parent' href=\"http://www.reddit.com/submit\" onclick=\"window.location = 'http://www.reddit.com/submit?url=' + encodeURIComponent(window.location); return false\"> <img src=\"http://www.reddit.com/static/spreddit7.gif\" alt=\"submit to reddit\" border=\"0\" /> </a>\n",
      "<script src=\"//platform.linkedin.com/in.js\" type=\"text/javascript\">\n",
      "  lang: en_US\n",
      "</script>\n",
      "<script type=\"IN/Share\"></script>\n",
      "\"\"\"\n",
      "    return HTML(code)"
     ],
     "language": "python",
     "metadata": {},
     "outputs": [],
     "prompt_number": 3
    }
   ],
   "metadata": {}
  }
 ]
}