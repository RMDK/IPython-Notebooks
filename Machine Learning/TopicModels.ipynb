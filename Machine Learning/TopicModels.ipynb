{
 "metadata": {
  "name": "",
  "signature": "sha256:2f69bca18a39f7efe4fb2233bef83dd30fd0a82178f1ab4a9f63536dc2593e5b"
 },
 "nbformat": 3,
 "nbformat_minor": 0,
 "worksheets": [
  {
   "cells": [
    {
     "cell_type": "heading",
     "level": 1,
     "metadata": {},
     "source": [
      "Topic Modeling"
     ]
    },
    {
     "cell_type": "markdown",
     "metadata": {},
     "source": [
      "This is a series of notebooks (in progress) to document my learning, and hopefully to help others learn machine learning. I would love suggestions / corrections / feedback for these notebooks.\n",
      "\n",
      "Visit my webpage for more.\n",
      "\n",
      "Email me: <a href=\"mailto:email.ryan.kelly@gmail.com?Subject=Hey\" target=\"_top\">email.ryan.kelly@gmail.com</a>\n",
      "\n",
      "I'd love for you to share if you liked this post."
     ]
    },
    {
     "cell_type": "code",
     "collapsed": false,
     "input": [
      "social()"
     ],
     "language": "python",
     "metadata": {},
     "outputs": [
      {
       "ename": "NameError",
       "evalue": "name 'social' is not defined",
       "output_type": "pyerr",
       "traceback": [
        "\u001b[0;31m---------------------------------------------------------------------------\u001b[0m\n\u001b[0;31mNameError\u001b[0m                                 Traceback (most recent call last)",
        "\u001b[0;32m<ipython-input-1-d893cf13b2e6>\u001b[0m in \u001b[0;36m<module>\u001b[0;34m()\u001b[0m\n\u001b[0;32m----> 1\u001b[0;31m \u001b[0msocial\u001b[0m\u001b[0;34m(\u001b[0m\u001b[0;34m)\u001b[0m\u001b[0;34m\u001b[0m\u001b[0m\n\u001b[0m",
        "\u001b[0;31mNameError\u001b[0m: name 'social' is not defined"
       ]
      }
     ],
     "prompt_number": 1
    },
    {
     "cell_type": "heading",
     "level": 3,
     "metadata": {},
     "source": [
      "This notebook covers of includes:"
     ]
    },
    {
     "cell_type": "markdown",
     "metadata": {},
     "source": [
      "* Latent Dirichlet Allocation (LDA)\n",
      "* More"
     ]
    },
    {
     "cell_type": "markdown",
     "metadata": {},
     "source": [
      "<hr>"
     ]
    },
    {
     "cell_type": "heading",
     "level": 2,
     "metadata": {},
     "source": [
      "Latend Dirichlet Allocation (LDA)"
     ]
    },
    {
     "cell_type": "markdown",
     "metadata": {},
     "source": [
      "Topic modeling enables classification of objects into several categeories, unlike other clustering techniques that decide upon one final cluster for each observation. For example, this notebook could be both about the `python computer language`, and `machine learning` at the same time."
     ]
    },
    {
     "cell_type": "markdown",
     "metadata": {},
     "source": [
      "LDA, which shares no similarities with linear discriminant analysis, is a topic modeling method. LDA is the foundation behind many other topic modeling algorithms. We focus on understanding the algorithm at a high level.\n",
      "\n",
      "The problems we are interesting in solving are those where the topics are unknown. We want to be able to take a large body of text and discover what topics are out there, and how we could classify sub-documents within the corpus."
     ]
    },
    {
     "cell_type": "heading",
     "level": 3,
     "metadata": {},
     "source": [
      "Building a Topic Model"
     ]
    },
    {
     "cell_type": "markdown",
     "metadata": {},
     "source": [
      "Our regular tool, `scikit learn` does how have LDA implimented. We will be using the `Gensim` library. For data we use a set of news reports from the Associated Press. The data is available [here](https://github.com/RMDK/IPython-Notebooks/tree/master/Machine%20Learning)."
     ]
    },
    {
     "cell_type": "code",
     "collapsed": false,
     "input": [
      "from gensim import corpora, models, similarities\n",
      "\n",
      "corpus = corpora.BleiCorpus('/Users/ryankelly/anaconda/notebooks/Machine Learning/ap.dat', \n",
      "                            '/Users/ryankelly/anaconda/notebooks/Machine Learning/vocab.txt')"
     ],
     "language": "python",
     "metadata": {},
     "outputs": [],
     "prompt_number": 2
    },
    {
     "cell_type": "code",
     "collapsed": false,
     "input": [
      "model = models.ldamodel.LdaModel(\n",
      "        corpus, \n",
      "        num_topics = 100,\n",
      "        id2word = corpus.id2word,\n",
      "        iterations = 1000,\n",
      "        alpha = 1.0 / len(corpus))"
     ],
     "language": "python",
     "metadata": {},
     "outputs": [
      {
       "output_type": "stream",
       "stream": "stderr",
       "text": [
        "WARNING:gensim.models.ldamodel:too few updates, training might not converge; consider increasing the number of passes or iterations to improve accuracy\n"
       ]
      }
     ],
     "prompt_number": 34
    },
    {
     "cell_type": "markdown",
     "metadata": {},
     "source": [
      "Once the model is built, we can explore the topics. We can see the list of topics a document now belongs to with `model[doc]`. The output is an index of `(topic_index, topic_weight)`."
     ]
    },
    {
     "cell_type": "code",
     "collapsed": false,
     "input": [
      "topics = [model[c] for c in corpus]\n",
      "print topics[0]"
     ],
     "language": "python",
     "metadata": {},
     "outputs": [
      {
       "output_type": "stream",
       "stream": "stdout",
       "text": [
        "[(4, 0.23314423511090068), (5, 0.018313654408029217), (6, 0.28300444969936761), (55, 0.05306253050587606), (57, 0.15568182595578678), (69, 0.027465586997892498), (78, 0.12406253738676359), (86, 0.016813172574823652), (91, 0.010707110824728267), (95, 0.063657270605180533)]\n"
       ]
      }
     ],
     "prompt_number": 35
    },
    {
     "cell_type": "code",
     "collapsed": false,
     "input": [
      "import matplotlib.pyplot as plt\n",
      "import numpy as np\n",
      "\n",
      "%matplotlib inline\n",
      "\n",
      "plt.hist([len(t) for t in topics], np.arange(42))\n",
      "plt.ylabel('Nr of documents')\n",
      "plt.xlabel('Nr of topics')"
     ],
     "language": "python",
     "metadata": {},
     "outputs": [
      {
       "metadata": {},
       "output_type": "pyout",
       "prompt_number": 36,
       "text": [
        "<matplotlib.text.Text at 0x10c6a5650>"
       ]
      },
      {
       "metadata": {},
       "output_type": "display_data",
       "png": "[encoded data removed]",
       "text": [
        "<matplotlib.figure.Figure at 0x108483450>"
       ]
      }
     ],
     "prompt_number": 36
    },
    {
     "cell_type": "markdown",
     "metadata": {},
     "source": [
      "Here we can see most documents belong to about 6-9 topics, and very few documents had ~20+ topics. The sensitivity to how many topics belong to each document is largely governed by the `alpha` parameter. Bigger values for alpha will result in more topics per document. Generally alpha is smaller than 1.0, and defaults to 1.0 / len (corpus)."
     ]
    },
    {
     "cell_type": "code",
     "collapsed": false,
     "input": [
      "model2 = models.ldamodel.LdaModel(corpus, num_topics=100, id2word=corpus.id2word, alpha=1.0)\n",
      "topics2 = [model2[c] for c in corpus]"
     ],
     "language": "python",
     "metadata": {},
     "outputs": [
      {
       "output_type": "stream",
       "stream": "stderr",
       "text": [
        "WARNING:gensim.models.ldamodel:too few updates, training might not converge; consider increasing the number of passes or iterations to improve accuracy\n"
       ]
      }
     ],
     "prompt_number": 41
    },
    {
     "cell_type": "code",
     "collapsed": false,
     "input": [
      "plt.hist([[len(t) for t in topics], \n",
      "          [len(t) for t in topics2]], np.arange(55))\n",
      "plt.ylabel('Nr of documents')\n",
      "plt.xlabel('Nr of topics')\n",
      "plt.text(2,265, r'default alpha')\n",
      "plt.text(20,186, 'alpha=1.0')"
     ],
     "language": "python",
     "metadata": {},
     "outputs": [
      {
       "metadata": {},
       "output_type": "pyout",
       "prompt_number": 43,
       "text": [
        "<matplotlib.text.Text at 0x108cf5b10>"
       ]
      },
      {
       "metadata": {},
       "output_type": "display_data",
       "png": "[encoded data removed]",
       "text": [
        "<matplotlib.figure.Figure at 0x10ac64f10>"
       ]
      }
     ],
     "prompt_number": 43
    },
    {
     "cell_type": "markdown",
     "metadata": {},
     "source": [
      "What exactly are these topics? Technically they are multinomial distributions over words, which means that each word in the vocabulary is given a probability. Words with high probability are more associated with that topic than words with lower probability. To summarize the topics we can present a list of the most highly weighted words.\n",
      "\n",
      "Below we print the first two topics and the highest probability words."
     ]
    },
    {
     "cell_type": "code",
     "collapsed": false,
     "input": [
      "for ti in xrange(2):\n",
      "    words = model.show_topic(ti, 64)\n",
      "    tf = sum(f for f,w in words)\n",
      "    print('\\n'.join('{}:{}'.format(w, int(1000.*f/tf)) for f,w in words))\n",
      "    print()\n",
      "    print()\n",
      "    print()"
     ],
     "language": "python",
     "metadata": {},
     "outputs": [
      {
       "output_type": "stream",
       "stream": "stdout",
       "text": [
        "i:40\n",
        "biography:39\n",
        "iraqi:29\n",
        "fighters:27\n",
        "today:26\n",
        "air:26\n",
        "kuwait:24\n",
        "news:21\n",
        "targets:20\n",
        "united:20\n",
        "years:20\n",
        "ring:18\n",
        "people:18\n",
        "animals:18\n",
        "new:17\n",
        "force:17\n",
        "go:16\n",
        "dont:16\n",
        "back:16\n",
        "theyd:16\n",
        "sgt:16\n",
        "canal:16\n",
        "captivity:16\n",
        "occupants:16\n",
        "houston:15\n",
        "col:15\n",
        "two:15\n",
        "year:14\n",
        "think:14\n",
        "iraq:14\n",
        "hes:13\n",
        "say:13\n",
        "time:13\n",
        "found:13\n",
        "commander:13\n",
        "statement:13\n",
        "first:13\n",
        "billion:13\n",
        "proposal:13\n",
        "states:13\n",
        "reach:13\n",
        "like:12\n",
        "held:12\n",
        "officials:12\n",
        "three:11\n",
        "household:11\n",
        "forest:11\n",
        "west:11\n",
        "texas:11\n",
        "wild:10\n",
        "happened:10\n",
        "ago:10\n",
        "nations:10\n",
        "home:10\n",
        "reactions:10\n",
        "havent:10\n",
        "boat:9\n",
        "early:9\n",
        "give:9\n",
        "know:9\n",
        "saturday:9\n",
        "told:9\n",
        "guy:9\n",
        "government:9\n",
        "()\n",
        "()\n",
        "()\n",
        "cents:80\n",
        "cent:63\n",
        "lower:62\n",
        "higher:56\n",
        "bushel:43\n",
        "futures:38\n",
        "corn:34\n",
        "soybean:33\n",
        "pound:23\n",
        "soybeans:20\n",
        "cattle:20\n",
        "chicago:18\n",
        "trading:18\n",
        "december:17\n",
        "grain:15\n",
        "early:15\n",
        "wheat:15\n",
        "new:15\n",
        "mixed:13\n",
        "march:13\n",
        "prices:13\n",
        "livestock:12\n",
        "delivery:11\n",
        "board:11\n",
        "soviet:11\n",
        "opened:11\n",
        "million:11\n",
        "trade:10\n",
        "february:10\n",
        "live:10\n",
        "inc:10\n",
        "contract:9\n",
        "settled:9\n",
        "union:9\n",
        "meat:9\n",
        "oats:9\n",
        "lespinasse:9\n",
        "gallery:9\n",
        "sharply:9\n",
        "basements:8\n",
        "chart:8\n",
        "morning:8\n",
        "pork:8\n",
        "crop:8\n",
        "york:8\n",
        "november:7\n",
        "purchases:7\n",
        "shadyside:7\n",
        "passengers:7\n",
        "brazilian:7\n",
        "market:7\n",
        "barney:7\n",
        "jim:7\n",
        "american:6\n",
        "frozen:6\n",
        "rain:6\n",
        "exchange:6\n",
        "thursday:6\n",
        "last:6\n",
        "i:6\n",
        "harvest:6\n",
        "conditions:6\n",
        "harris:5\n",
        "flights:5\n",
        "()\n",
        "()\n",
        "()\n"
       ]
      }
     ],
     "prompt_number": 49
    },
    {
     "cell_type": "markdown",
     "metadata": {},
     "source": [
      "We can see that these are not simply random sets of words, and they do share some relation. However, you might note that some of the words should perhaps be removed, like `i` in the first topic. In-fact, all the stop words should be removed. We also would want to only process stems of words. This was all covered in a previous lecture on my [website](rmdk.ca)."
     ]
    },
    {
     "cell_type": "heading",
     "level": 2,
     "metadata": {},
     "source": [
      "Comparing similarity in topic space"
     ]
    },
    {
     "cell_type": "markdown",
     "metadata": {},
     "source": [
      "Topics are useful on thier own to help discover insights about data. The small sets of words generated above are an effective way to summarize large documents. Yet, topics are often a stepping stone for means to another end. Now that we have an estimate for each document about how much of that document comes from each topic, we can compare the documents in `topic space`. This means that instead of comparing word per word, we say that two documents are similar if they talk about the same topics.\n",
      "\n",
      "This tends to be a powerful tool, as two text documents that share a few words may actually refer to the same topic, just using different contexts. For example, one document may refer to the President of the United States, thile the other will refer to Barack Obama.\n",
      "\n",
      "To do this, we have to project the documents into the topic space. Thus, we need a vactor of topics that summarizes the document. Since the number of topics (100) is smaller than the number of possible words, we have reduced some dimensionality from the raw data. It is much faster to compute similarity weights between 100 topic weights, than it is the vectors of an entire vocabulary with thousands of terms."
     ]
    },
    {
     "cell_type": "code",
     "collapsed": false,
     "input": [
      "# Recall topic structure\n",
      "print topics[0]"
     ],
     "language": "python",
     "metadata": {},
     "outputs": [
      {
       "output_type": "stream",
       "stream": "stdout",
       "text": [
        "[(4, 0.23308640950051435), (5, 0.018272019956688972), (6, 0.28285256551584864), (55, 0.053032573175587634), (57, 0.15565479689666467), (69, 0.027623579560909248), (78, 0.12412801199967857), (86, 0.016733559808558972), (91, 0.010894691919647625), (95, 0.063639485250666261)]\n"
       ]
      }
     ],
     "prompt_number": 51
    },
    {
     "cell_type": "code",
     "collapsed": false,
     "input": [
      "# Store topic counts in an array and compute all pairwise distances\n",
      "dense = np.zeros( (len(topics), 100), float)\n",
      "for ti, t in enumerate(topics):\n",
      "    for tj, v in t:\n",
      "        dense[ti,tj] = v"
     ],
     "language": "python",
     "metadata": {},
     "outputs": [],
     "prompt_number": 52
    },
    {
     "cell_type": "markdown",
     "metadata": {},
     "source": [
      "Now `dense` is a matrix of topics, we can use the `pdist` function from SciPy to compute pairwise distances."
     ]
    },
    {
     "cell_type": "code",
     "collapsed": false,
     "input": [
      "from scipy.spatial import distance\n",
      "\n",
      "pairwise = distance.squareform(distance.pdist(dense))"
     ],
     "language": "python",
     "metadata": {},
     "outputs": [],
     "prompt_number": 56
    },
    {
     "cell_type": "markdown",
     "metadata": {},
     "source": [
      "To eliminate the the diagonal element of the maxtrix, we just set it to a high value."
     ]
    },
    {
     "cell_type": "code",
     "collapsed": false,
     "input": [
      "largest = pairwise.max()\n",
      "for ti in range(len(topics)):\n",
      "    pairwise[ti,ti] = largest+1"
     ],
     "language": "python",
     "metadata": {},
     "outputs": [],
     "prompt_number": 57
    },
    {
     "cell_type": "markdown",
     "metadata": {},
     "source": [
      "Now for each document, we can look up the closest document easily."
     ]
    },
    {
     "cell_type": "code",
     "collapsed": false,
     "input": [
      "def closest_to(doc_id):\n",
      "    closest = pairwise[doc_id].argmin()\n",
      "    return  [topics[doc_id], topics[closest]]"
     ],
     "language": "python",
     "metadata": {},
     "outputs": [],
     "prompt_number": 95
    },
    {
     "cell_type": "code",
     "collapsed": false,
     "input": [
      "closest_to(4)"
     ],
     "language": "python",
     "metadata": {},
     "outputs": [
      {
       "metadata": {},
       "output_type": "pyout",
       "prompt_number": 97,
       "text": [
        "[[(19, 0.019559047176289535),\n",
        "  (26, 0.22558409595806497),\n",
        "  (29, 0.16385213217097758),\n",
        "  (48, 0.03248569993167285),\n",
        "  (49, 0.11017411035025179),\n",
        "  (81, 0.064558018455667651),\n",
        "  (84, 0.12527768608580545),\n",
        "  (88, 0.14974455920211141),\n",
        "  (90, 0.0302340624513927),\n",
        "  (91, 0.077923857552251133)],\n",
        " [(4, 0.083694002270392184),\n",
        "  (26, 0.095885171844944286),\n",
        "  (28, 0.029771282827320771),\n",
        "  (49, 0.10535923834513226),\n",
        "  (55, 0.14365187597272466),\n",
        "  (74, 0.060767457436357503),\n",
        "  (75, 0.053161625067594497),\n",
        "  (86, 0.066717654726595244),\n",
        "  (88, 0.11676744500542624),\n",
        "  (95, 0.14454229765782822),\n",
        "  (96, 0.099010828149528787)]]"
       ]
      }
     ],
     "prompt_number": 97
    },
    {
     "cell_type": "heading",
     "level": 1,
     "metadata": {},
     "source": [
      "Modeling all of Wikipedia"
     ]
    },
    {
     "cell_type": "code",
     "collapsed": false,
     "input": [],
     "language": "python",
     "metadata": {},
     "outputs": [],
     "prompt_number": 131
    },
    {
     "cell_type": "code",
     "collapsed": false,
     "input": [],
     "language": "python",
     "metadata": {},
     "outputs": []
    }
   ],
   "metadata": {}
  }
 ]
}