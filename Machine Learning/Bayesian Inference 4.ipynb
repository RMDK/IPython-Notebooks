{
 "metadata": {
  "name": "",
  "signature": "sha256:59bcbecd29b9603f03705fc1d17c2ce34fdc93c01c2d0fa466f2207d2ed059f4"
 },
 "nbformat": 3,
 "nbformat_minor": 0,
 "worksheets": [
  {
   "cells": [
    {
     "cell_type": "heading",
     "level": 1,
     "metadata": {},
     "source": [
      "An Algorithm for Human Deceit"
     ]
    },
    {
     "cell_type": "markdown",
     "metadata": {},
     "source": [
      "The material for this notebook is provided via this free online <a href='http://nbviewer.ipython.org/github/CamDavidsonPilon/Probabilistic-Programming-and-Bayesian-Methods-for-Hackers/blob/master/Chapter1_Introduction/Chapter1_Introduction.ipynb'>textbook</a> :  \n",
      "\n",
      "I am writing this notebook to document my learning, and hopefully to help others learn machine learning. You can think of it as my personal lecture notes. I would love suggestions / corrections / feedback for these notebooks.\n",
      "\n",
      "<b><a target=\"_parent\" href=\"http://rmdk.ca\">Visit my webpage for more</a></b>. \n",
      "\n",
      "Email me: <a href=\"mailto:email.ryan.kelly@gmail.com?Subject=Hey\" target=\"_top\">email.ryan.kelly@gmail.com</a>"
     ]
    },
    {
     "cell_type": "heading",
     "level": 2,
     "metadata": {},
     "source": [
      "Related Notebooks in this series"
     ]
    },
    {
     "cell_type": "markdown",
     "metadata": {},
     "source": [
      "* <a target=\"_parent\" href=\"http://nbviewer.ipython.org/github/rmdk/IPython-Notebooks/blob/master/Machine%20Learning/Bayesian%20Methods%20for%20Hackers.ipynb\">Intro to Bayesian Inference</a>\n",
      "\n",
      "* <a target=\"_parent\" href=\"http://nbviewer.ipython.org/github/RMDK/IPython-Notebooks/blob/master/Machine%20Learning/Probability%20Distribution%20Review.ipynb\">Probability Distribution Review</a>\n",
      "\n",
      "* <a target=\"_parent\" href=\"http://nbviewer.ipython.org/gist/RMDK/6a4c1baf14ff07deda4a\">Bayesian Inference 2</a>\n",
      "\n",
      "* <a target=\"_parent\" href=\"http://nbviewer.ipython.org/4126c1a59f6566427fda\">Bayesian Inference 3</a>\n",
      "\n",
      "* <a target=\"_parent\" href=\"http://rmdk.ca\">Bayesian Inference 4</a>\n",
      "\n",
      "* <a target=\"_parent\" href=\"http://rmdk.ca\">Bayesian Inference 5</a>"
     ]
    },
    {
     "cell_type": "code",
     "collapsed": false,
     "input": [
      "social()"
     ],
     "language": "python",
     "metadata": {},
     "outputs": [
      {
       "html": [
        "\n",
        "    <a style='float:left; margin-right:5px;' href=\"https://twitter.com/share\" class=\"twitter-share-button\" data-text=\"Check this out\" data-via=\"Ryanmdk\">Tweet</a>\n",
        "<script>!function(d,s,id){var js,fjs=d.getElementsByTagName(s)[0],p=/^http:/.test(d.location)?'http':'https';if(!d.getElementById(id)){js=d.createElement(s);js.id=id;js.src=p+'://platform.twitter.com/widgets.js';fjs.parentNode.insertBefore(js,fjs);}}(document, 'script', 'twitter-wjs');</script>\n",
        "    <a style='float:left; margin-right:5px;' href=\"https://twitter.com/Ryanmdk\" class=\"twitter-follow-button\" data-show-count=\"false\">Follow @Ryanmdk</a>\n",
        "<script>!function(d,s,id){var js,fjs=d.getElementsByTagName(s)[0],p=/^http:/.test(d.location)?'http':'https';if(!d.getElementById(id)){js=d.createElement(s);js.id=id;js.src=p+'://platform.twitter.com/widgets.js';fjs.parentNode.insertBefore(js,fjs);}}(document, 'script', 'twitter-wjs');</script>\n",
        "    <a style='float:left; margin-right:5px;'target='_parent' href=\"http://www.reddit.com/submit\" onclick=\"window.location = 'http://www.reddit.com/submit?url=' + encodeURIComponent(window.location); return false\"> <img src=\"http://www.reddit.com/static/spreddit7.gif\" alt=\"submit to reddit\" border=\"0\" /> </a>\n",
        "<script src=\"//platform.linkedin.com/in.js\" type=\"text/javascript\">\n",
        "  lang: en_US\n",
        "</script>\n",
        "<script type=\"IN/Share\"></script>\n"
       ],
       "metadata": {},
       "output_type": "pyout",
       "prompt_number": 4,
       "text": [
        "<IPython.core.display.HTML at 0x10685cfd0>"
       ]
      }
     ],
     "prompt_number": 4
    },
    {
     "cell_type": "heading",
     "level": 2,
     "metadata": {},
     "source": [
      "Introduction"
     ]
    },
    {
     "cell_type": "markdown",
     "metadata": {},
     "source": [
      "Social data has an addition layer of interest. This is because we cannot guarantee people are honest with their answers, which adds a further layer of complication to inference. For example, simply asking individuals \"Have you ever cheated on a test?\" will surely contain some rate of dishonesty. What you can say for certain is that the true rate is less than your observed rate (assume individuals lie only about _not_ cheating. To demonstrate a solution to this dishonesty problem with Bayesian modeling, we need to introduce the binomial Distribution."
     ]
    },
    {
     "cell_type": "heading",
     "level": 3,
     "metadata": {},
     "source": [
      "The Binomial Distribution"
     ]
    },
    {
     "cell_type": "markdown",
     "metadata": {},
     "source": [
      "The binomial distribution is one of the most popular distributions due to its simplicity and usefulness. The binomial distribution has 2 parameters: $N$, a positive integer representing $N$ trials or number of instances of potential events, and $p$, the probability of an event occurring in a single trial. Like the Poisson distribution, it is a discrete distribution, but unlike the Poisson, it only weighs integers from 0 to $N$. The mass distribution looks like:\n",
      "\n",
      "$$P(X=k) = \n",
      "\\begin{align}\n",
      "    N\\\\\n",
      "    K\n",
      "\\end{align}\n",
      " \\ p^k(1-p)^{N-k}\n",
      "$$\n",
      "\n",
      "If $X$ is a binomial random variable with parameters $p$ and $N$, denoted by $X \\sim Bin(N,p)$, then $X$ is the number of events that occurred in the $N$ trials, where 0 <= $X$ <=$N$, and $p$ is the probability of a single event. The larger $p$ is, the more events are likely to occur. The expected value of a binomial is equal to $Np$. Below we plot the probability mass distribution for varying parameters."
     ]
    },
    {
     "cell_type": "code",
     "collapsed": false,
     "input": [
      "import scipy.stats as stats\n",
      "import numpy as np\n",
      "\n",
      "%matplotlib inline\n",
      "from matplotlib import pyplot as plt\n",
      "import seaborn as sns\n",
      "\n",
      "sns.set(context = 'notebook', style = 'whitegrid')"
     ],
     "language": "python",
     "metadata": {},
     "outputs": [],
     "prompt_number": 1
    },
    {
     "cell_type": "code",
     "collapsed": false,
     "input": [
      "binomial = stats.binom\n",
      "\n",
      "parameters = [(10, 0.4), (10, 0.9)]\n",
      "colors = [\"#9b59b6\", \"#3498db\"]\n",
      "\n",
      "for i in range(2):\n",
      "    N, p = parameters[i]\n",
      "    _x = np.arange(N + 1)\n",
      "    plt.bar(_x - 0.5, binomial.pmf(_x, N, p), color=colors[i],\n",
      "            alpha=0.6, \n",
      "            label='$N$: {}, $p$: {}'.format(N, p))\n",
      "plt.legend(loc='upper left')\n",
      "plt.xlim(0, 10.5)\n",
      "plt.xlabel('$k$')\n",
      "plt.ylabel('$P(X=k)$')\n",
      "plt.title('Probability mass distribution of binomial random variables')"
     ],
     "language": "python",
     "metadata": {},
     "outputs": [
      {
       "metadata": {},
       "output_type": "pyout",
       "prompt_number": 2,
       "text": [
        "<matplotlib.text.Text at 0x10b8168d0>"
       ]
      },
      {
       "metadata": {},
       "output_type": "display_data",
       "png": "[encoded data removed]",
       "text": [
        "<matplotlib.figure.Figure at 0x10b6717d0>"
       ]
      }
     ],
     "prompt_number": 2
    },
    {
     "cell_type": "markdown",
     "metadata": {},
     "source": [
      "The special case when $N$ = 1 corresponds to the Bernoulli distribution. There is another connection between Bernoulli and Binomial random variables as well. If we have $X_1, X_2, ..., X_N$ Bernoulli random variables with the same $p$, then $Z=X_1 + X_2+...+X_N \\ \\sim \\ Binomial(N,p)$\n",
      "\n",
      "The expected value of a Bernoulli random variable is $p$. This can be seen by noting the more general Binomial random variable has expected value $Np$ and setting $N$ = 1."
     ]
    },
    {
     "cell_type": "heading",
     "level": 2,
     "metadata": {},
     "source": [
      "Example: Cheating Among Students"
     ]
    },
    {
     "cell_type": "markdown",
     "metadata": {},
     "source": [
      "We will use the binomial distribution to determine the frequency of students cheating during an exam. If we let $N$ be the total number of students who took the exam and assuming each student is interviewed post-exam (answering without consequence), we will receive integer $X$ 'Yes I did cheat\" answers. We then find the posterior distribution of $p$, given $N$, some specified prior on $p$, and observed data $X$.\n",
      "\n",
      "This is an unrealistic model. No student, even with a free-pass against punishment, would admit to cheating. What we need is a better algorithm to ask students if they had cheater. The proposed model is noted below.\n",
      "\n",
      "> In the interview process for each student, the student flips a coin, hidden from the interviewer. The student agrees to answer honestly if the coin comes up Heads. Otherwise, if the coin comes up Tails, the student (secretly) flips the coin again, and answers \"Yes, I did cheat' if the coin flips Heads and 'No, I did not cheat' if the coin flips Tails. This way, the interviewer does not know if a 'Yes' was the result of a guilty plea, or a Heads on the second coin toss. Thus privacy is preserved and the researchers receive honest answers.\n",
      "\n",
      "The interviewers are still receiving false data, since some of the \"Yes\" answers are just randomness rather than confessions. Yet, now as a researcher we know about half the students are telling the truth. We can use PyMC to dig through this noisy model, and find a posterior distribution for the true frequency of liars.\n",
      "\n",
      "SUppose 100 students are being surveyed for cheating, and we wish to find $p$, the proportion of cheaters. There are a few ways to do this in PyMC, we demonstrate the most explicit way, and then show a simplified version. Both methods arrive at the same inference.\n",
      "\n",
      "In our data generation model, we sample $p$, the true proportion of cheaters, from a prior. Since we have no clue about the value of $p$, we will assign it a `Uniform(0, 1)` prior."
     ]
    },
    {
     "cell_type": "code",
     "collapsed": false,
     "input": [
      "import pymc as pm\n",
      "\n",
      "N = 100\n",
      "p = pm.Uniform('freq_cheating', 0, 1)"
     ],
     "language": "python",
     "metadata": {},
     "outputs": [],
     "prompt_number": 3
    },
    {
     "cell_type": "markdown",
     "metadata": {},
     "source": [
      "Again, we assign Bernoulli random variables to the 100 students: 1 implies they cheater and 0 implies they did not."
     ]
    },
    {
     "cell_type": "code",
     "collapsed": false,
     "input": [
      "true_answers = pm.Bernoulli('truths', p, size=N)"
     ],
     "language": "python",
     "metadata": {},
     "outputs": [],
     "prompt_number": 4
    },
    {
     "cell_type": "markdown",
     "metadata": {},
     "source": [
      "If we carry out the algorithm, the next step that occurs is the first coin-flip each student makes. This can be modeled again by sampling 100 Bernoulli random variables with $p$ = 0.5: denote 1 as Heads and 0 as Tails."
     ]
    },
    {
     "cell_type": "code",
     "collapsed": false,
     "input": [
      "first_coin_flip = pm.Bernoulli('first_flip', 0.5, size=N)\n",
      "first_coin_flip.value"
     ],
     "language": "python",
     "metadata": {},
     "outputs": [
      {
       "metadata": {},
       "output_type": "pyout",
       "prompt_number": 5,
       "text": [
        "array([False, False, False,  True,  True,  True,  True, False, False,\n",
        "       False, False, False, False,  True, False, False, False, False,\n",
        "        True,  True, False,  True,  True,  True,  True, False,  True,\n",
        "       False, False,  True, False,  True,  True,  True, False,  True,\n",
        "       False, False, False,  True, False, False,  True, False, False,\n",
        "        True,  True, False,  True, False, False,  True, False, False,\n",
        "        True,  True,  True, False, False, False, False,  True,  True,\n",
        "        True,  True, False,  True, False, False, False,  True,  True,\n",
        "       False,  True, False,  True, False,  True,  True, False, False,\n",
        "       False, False, False,  True,  True, False,  True,  True,  True,\n",
        "       False,  True,  True, False, False,  True, False, False, False, False], dtype=bool)"
       ]
      }
     ],
     "prompt_number": 5
    },
    {
     "cell_type": "markdown",
     "metadata": {},
     "source": [
      "Although not everyone flips a second time, we can still model the possible realization of second coin-flips:"
     ]
    },
    {
     "cell_type": "code",
     "collapsed": false,
     "input": [
      "second_coin_flips = pm.Bernoulli('second_flips', 0.5, size=N)"
     ],
     "language": "python",
     "metadata": {},
     "outputs": [],
     "prompt_number": 6
    },
    {
     "cell_type": "markdown",
     "metadata": {},
     "source": [
      "Using these variables, we can return a possible realization of the _observed proportion_ of \"Yes\" responses. We do this using a PyMC `deterministic` variable:"
     ]
    },
    {
     "cell_type": "code",
     "collapsed": false,
     "input": [
      "@pm.deterministic\n",
      "def observed_proportion(t_a=true_answers,\n",
      "                        fc=first_coin_flip,\n",
      "                        sc=second_coin_flips):\n",
      "    observed = fc * t_a + (1 - fc) * sc\n",
      "    return observed.sum() / float(N)"
     ],
     "language": "python",
     "metadata": {},
     "outputs": [],
     "prompt_number": 7
    },
    {
     "cell_type": "markdown",
     "metadata": {},
     "source": [
      "The line `fc*t_a + (1 - fc)*sc` contains the heart of the coin flip algorithm described above. Elements in this array are 1 _if and only if_ (1) the first toss is Heads and the student cheater, or (2) the first toss is Tails, and the second is Heads, and are else 0. Finally, the last line sums this vector and divides by `float(N)`, produces a proportion."
     ]
    },
    {
     "cell_type": "code",
     "collapsed": false,
     "input": [
      "observed_proportion.value"
     ],
     "language": "python",
     "metadata": {},
     "outputs": [
      {
       "metadata": {},
       "output_type": "pyout",
       "prompt_number": 8,
       "text": [
        "0.34999999999999998"
       ]
      }
     ],
     "prompt_number": 8
    },
    {
     "cell_type": "markdown",
     "metadata": {},
     "source": [
      "Next we need a dataset. After performing our coin-flipped interviews, the researchers received 35 \"Yes\" responses. To put this into perspective, if there truly were no cheaters, we should expect to see on average 1/4 of all responses being a 'Yes' (half chance of having the first coin land Tails, and another half chance of having the second coin land Heads. So about 25% or 25 responses in a cheat-free world in this scenario. On the other hand if _all_ students cheated, we should expect to see approximately 3/4 of all responses be 'Yes'.\n",
      "\n",
      "Suppose that the results of the study observe a Binomial random variable, with $N$ = 100 and $p$ = `observed_proportion` with `value` = `35`:"
     ]
    },
    {
     "cell_type": "code",
     "collapsed": false,
     "input": [
      "X = 35\n",
      "\n",
      "observations = pm.Binomial('obs', N, observed_proportion, observed=True,\n",
      "                           value=X)"
     ],
     "language": "python",
     "metadata": {},
     "outputs": [],
     "prompt_number": 9
    },
    {
     "cell_type": "markdown",
     "metadata": {},
     "source": [
      "Below we add all the variables of interest to a model container and run our algorithm over the model."
     ]
    },
    {
     "cell_type": "code",
     "collapsed": false,
     "input": [
      "model = pm.Model([p, true_answers, first_coin_flip,\n",
      "                  second_coin_flips, observed_proportion, observations])\n",
      "\n",
      "# Explained in later notebook\n",
      "mcmc = pm.MCMC(model)\n",
      "mcmc.sample(40000, 15000)"
     ],
     "language": "python",
     "metadata": {},
     "outputs": [
      {
       "output_type": "stream",
       "stream": "stdout",
       "text": [
        "\r",
        " [-                 5%                  ] 2030 of 40000 complete in 0.5 sec"
       ]
      },
      {
       "output_type": "stream",
       "stream": "stdout",
       "text": [
        "\r",
        " [---              10%                  ] 4051 of 40000 complete in 1.0 sec"
       ]
      },
      {
       "output_type": "stream",
       "stream": "stdout",
       "text": [
        "\r",
        " [-----            15%                  ] 6096 of 40000 complete in 1.5 sec"
       ]
      },
      {
       "output_type": "stream",
       "stream": "stdout",
       "text": [
        "\r",
        " [-------          20%                  ] 8100 of 40000 complete in 2.0 sec"
       ]
      },
      {
       "output_type": "stream",
       "stream": "stdout",
       "text": [
        "\r",
        " [---------        25%                  ] 10135 of 40000 complete in 2.5 sec"
       ]
      },
      {
       "output_type": "stream",
       "stream": "stdout",
       "text": [
        "\r",
        " [-----------      30%                  ] 12111 of 40000 complete in 3.0 sec"
       ]
      },
      {
       "output_type": "stream",
       "stream": "stdout",
       "text": [
        "\r",
        " [-------------    35%                  ] 14141 of 40000 complete in 3.5 sec"
       ]
      },
      {
       "output_type": "stream",
       "stream": "stdout",
       "text": [
        "\r",
        " [---------------  39%                  ] 15979 of 40000 complete in 4.0 sec"
       ]
      },
      {
       "output_type": "stream",
       "stream": "stdout",
       "text": [
        "\r",
        " [---------------- 44%                  ] 17701 of 40000 complete in 4.5 sec"
       ]
      },
      {
       "output_type": "stream",
       "stream": "stdout",
       "text": [
        "\r",
        " [-----------------48%                  ] 19372 of 40000 complete in 5.0 sec"
       ]
      },
      {
       "output_type": "stream",
       "stream": "stdout",
       "text": [
        "\r",
        " [-----------------52%                  ] 21050 of 40000 complete in 5.5 sec"
       ]
      },
      {
       "output_type": "stream",
       "stream": "stdout",
       "text": [
        "\r",
        " [-----------------56%-                 ] 22744 of 40000 complete in 6.0 sec"
       ]
      },
      {
       "output_type": "stream",
       "stream": "stdout",
       "text": [
        "\r",
        " [-----------------61%---               ] 24457 of 40000 complete in 6.5 sec"
       ]
      },
      {
       "output_type": "stream",
       "stream": "stdout",
       "text": [
        "\r",
        " [-----------------65%----              ] 26163 of 40000 complete in 7.0 sec"
       ]
      },
      {
       "output_type": "stream",
       "stream": "stdout",
       "text": [
        "\r",
        " [-----------------69%------            ] 27869 of 40000 complete in 7.5 sec"
       ]
      },
      {
       "output_type": "stream",
       "stream": "stdout",
       "text": [
        "\r",
        " [-----------------73%--------          ] 29573 of 40000 complete in 8.0 sec"
       ]
      },
      {
       "output_type": "stream",
       "stream": "stdout",
       "text": [
        "\r",
        " [-----------------78%---------         ] 31276 of 40000 complete in 8.5 sec"
       ]
      },
      {
       "output_type": "stream",
       "stream": "stdout",
       "text": [
        "\r",
        " [-----------------82%-----------       ] 32993 of 40000 complete in 9.0 sec"
       ]
      },
      {
       "output_type": "stream",
       "stream": "stdout",
       "text": [
        "\r",
        " [-----------------86%------------      ] 34682 of 40000 complete in 9.5 sec"
       ]
      },
      {
       "output_type": "stream",
       "stream": "stdout",
       "text": [
        "\r",
        " [-----------------90%--------------    ] 36369 of 40000 complete in 10.0 sec"
       ]
      },
      {
       "output_type": "stream",
       "stream": "stdout",
       "text": [
        "\r",
        " [-----------------95%----------------  ] 38074 of 40000 complete in 10.5 sec"
       ]
      },
      {
       "output_type": "stream",
       "stream": "stdout",
       "text": [
        "\r",
        " [-----------------99%----------------- ] 39750 of 40000 complete in 11.0 sec"
       ]
      },
      {
       "output_type": "stream",
       "stream": "stdout",
       "text": [
        "\r",
        " [-----------------100%-----------------] 40000 of 40000 complete in 11.1 sec"
       ]
      }
     ],
     "prompt_number": 10
    },
    {
     "cell_type": "code",
     "collapsed": false,
     "input": [
      "p_trace = mcmc.trace('freq_cheating')[:]\n",
      "\n",
      "plt.hist(p_trace, histtype='stepfilled', normed=True, alpha=0.8, bins=30,\n",
      "         label='posterior distribution', color='#348ABD')\n",
      "plt.vlines([0.05, 0.35], [0, 0], [5, 5], alpha=0.5)\n",
      "plt.xlim(0, 1)\n",
      "plt.legend()"
     ],
     "language": "python",
     "metadata": {},
     "outputs": [
      {
       "metadata": {},
       "output_type": "pyout",
       "prompt_number": 11,
       "text": [
        "<matplotlib.legend.Legend at 0x10b656650>"
       ]
      },
      {
       "metadata": {},
       "output_type": "display_data",
       "png": "[encoded data removed]",
       "text": [
        "<matplotlib.figure.Figure at 0x10f859dd0>"
       ]
      }
     ],
     "prompt_number": 11
    },
    {
     "cell_type": "markdown",
     "metadata": {},
     "source": [
      "With regards to the plot, we are still pretty uncertain about the true frequency of cheaters, but we have narrowed it down to a range between 0.05 to 0.35. This is still pretty good, since as a priori we had no idea how many students might have cheated (hence the uniform distribution of the prior). On the other hand, it is also pretty bad since there is a 30% range window where the true value lives. \n",
      "\n",
      "Have we learned anything? Yes, since it is implausible, that there are _no cheaters_ since the posterior assigns very low probability to $p$ = 0. Since we started from a uniform prior, which treats all values of $p$ as equally plausible, yet the data ruled out $p$ = 0 as a possibility. Therefore we can be confident there were some cheaters."
     ]
    },
    {
     "cell_type": "heading",
     "level": 3,
     "metadata": {},
     "source": [
      "A Simpler PyMC Model"
     ]
    },
    {
     "cell_type": "markdown",
     "metadata": {},
     "source": [
      "Given a value for $p$ (from which a god-like position we know), we can find the probability a student will answer \"Yes\":\n",
      "\n",
      "`P(\"Yes\")=P(Heads on first coin)P(cheater)+P(Tails on first coin)P(Heads on second coin)`\n",
      "\n",
      "$$ = \\frac{1}{2}p + \\frac{1}{2} \\frac{1}{2}$$\n",
      "\n",
      "\n",
      "$$ = \\frac{p}{2} + \\frac{1}{4}$$\n",
      "\n",
      "Thus, knowing $p$ allows us to know the probability a student will response \"Yes\". In PyMC, we can create a deterministic function to evaluate the probability of responding \"Yes\", given $p$:"
     ]
    },
    {
     "cell_type": "code",
     "collapsed": false,
     "input": [
      "p = pm.Uniform('freq_cheating', 0, 1)\n",
      "\n",
      "@pm.deterministic\n",
      "def p_skewed(p=p):\n",
      "    return 0.5 * p + 0.25"
     ],
     "language": "python",
     "metadata": {},
     "outputs": [],
     "prompt_number": 12
    },
    {
     "cell_type": "markdown",
     "metadata": {},
     "source": [
      "If we know the probability of respondents saying \"Yes\", which is `p_skewed`, and we have $N$ = 100 students, the number of 'Yes' responses is a binomial random variable with parameters $N$ and `p_skewed`.\n",
      "\n",
      "This is where we include our observed 35 'Yes' responses. In the declaration of the `pm.Binomial`, we include a `value` = 35 and `observed = True`."
     ]
    },
    {
     "cell_type": "code",
     "collapsed": false,
     "input": [
      "yes_responses =pm.Binomial('number_cheats', 100, p_skewed,\n",
      "                           value=35, observed=True)"
     ],
     "language": "python",
     "metadata": {},
     "outputs": [],
     "prompt_number": 13
    },
    {
     "cell_type": "markdown",
     "metadata": {},
     "source": [
      "Below we add all the variables if interest to a model object and run our MCMC algorithm."
     ]
    },
    {
     "cell_type": "code",
     "collapsed": false,
     "input": [
      "model = pm.Model([yes_responses, p_skewed, p])\n",
      "\n",
      "mcmc = pm.MCMC(model)\n",
      "mcmc.sample(25000, 2500)"
     ],
     "language": "python",
     "metadata": {},
     "outputs": [
      {
       "output_type": "stream",
       "stream": "stdout",
       "text": [
        "\r",
        " [-----------------47%                  ] 11890 of 25000 complete in 0.5 sec"
       ]
      },
      {
       "output_type": "stream",
       "stream": "stdout",
       "text": [
        "\r",
        " [-----------------91%--------------    ] 22983 of 25000 complete in 1.0 sec"
       ]
      },
      {
       "output_type": "stream",
       "stream": "stdout",
       "text": [
        "\r",
        " [-----------------100%-----------------] 25000 of 25000 complete in 1.1 sec"
       ]
      }
     ],
     "prompt_number": 14
    },
    {
     "cell_type": "code",
     "collapsed": false,
     "input": [
      "p_trace = mcmc.trace('freq_cheating')[:]\n",
      "\n",
      "plt.hist(p_trace, histtype='stepfilled', normed=True, alpha=0.8, bins=30,\n",
      "         label='posterior distribution', color='#348ABD')\n",
      "plt.vlines([0.05, 0.35], [0,0], [5, 5], alpha=0.5)\n",
      "plt.xlim(0, 1)\n",
      "plt.legend();"
     ],
     "language": "python",
     "metadata": {},
     "outputs": [
      {
       "metadata": {},
       "output_type": "display_data",
       "png": "[encoded data removed]",
       "text": [
        "<matplotlib.figure.Figure at 0x110139390>"
       ]
      }
     ],
     "prompt_number": 15
    },
    {
     "cell_type": "markdown",
     "metadata": {},
     "source": [
      "You can imagine that as we tweek the number of observed cheaters and the number of students in the sample, we could become more confident with our results. Here is an example if we had 500 students and 300 reported cheaters, this works out to 60% of students reported a \"Yes\", compared to 35% in the original example."
     ]
    },
    {
     "cell_type": "code",
     "collapsed": false,
     "input": [
      "yes_responses =pm.Binomial('number_cheats', 500, p_skewed,\n",
      "                           value=300, observed=True)\n",
      "\n",
      "model = pm.Model([yes_responses, p_skewed, p])\n",
      "\n",
      "mcmc = pm.MCMC(model)\n",
      "mcmc.sample(25000, 2500)"
     ],
     "language": "python",
     "metadata": {},
     "outputs": [
      {
       "output_type": "stream",
       "stream": "stdout",
       "text": [
        "\r",
        " [---------------  41%                  ] 10373 of 25000 complete in 0.5 sec"
       ]
      },
      {
       "output_type": "stream",
       "stream": "stdout",
       "text": [
        "\r",
        " [-----------------78%---------         ] 19580 of 25000 complete in 1.0 sec"
       ]
      },
      {
       "output_type": "stream",
       "stream": "stdout",
       "text": [
        "\r",
        " [-----------------100%-----------------] 25000 of 25000 complete in 1.3 sec"
       ]
      }
     ],
     "prompt_number": 16
    },
    {
     "cell_type": "code",
     "collapsed": false,
     "input": [
      "p_trace = mcmc.trace('freq_cheating')[:]\n",
      "\n",
      "plt.hist(p_trace, histtype='stepfilled', normed=True, alpha=0.8, bins=30,\n",
      "         label='posterior distribution', color='#348ABD')\n",
      "plt.vlines([p_trace.mean()+2*p_trace.std(), \n",
      "            p_trace.mean() -2* p_trace.std()], \n",
      "           [0,0], [10, 10], alpha=0.5)\n",
      "plt.xlim(0, 1)\n",
      "plt.ylim(0, 13)\n",
      "plt.legend();"
     ],
     "language": "python",
     "metadata": {},
     "outputs": [
      {
       "metadata": {},
       "output_type": "display_data",
       "png": "[encoded data removed]",
       "text": [
        "<matplotlib.figure.Figure at 0x1104a0ed0>"
       ]
      }
     ],
     "prompt_number": 17
    },
    {
     "cell_type": "markdown",
     "metadata": {},
     "source": [
      "Here we see a much tighter distribution, in-fact, the range of the distribution is only about 9%, and we can be 95% certain that the amount of students cheating lies between ~53 and 69 percent. "
     ]
    },
    {
     "cell_type": "code",
     "collapsed": false,
     "input": [
      "print p_trace.mean()+2*p_trace.std()\n",
      "print p_trace.mean()-2*p_trace.std()\n",
      "(p_trace.mean()+2*p_trace.std()) - (p_trace.mean() -2* p_trace.std())"
     ],
     "language": "python",
     "metadata": {},
     "outputs": [
      {
       "output_type": "stream",
       "stream": "stdout",
       "text": [
        "0.699838931488\n",
        "0.534834725277\n"
       ]
      },
      {
       "metadata": {},
       "output_type": "pyout",
       "prompt_number": 18,
       "text": [
        "0.16500420621173983"
       ]
      }
     ],
     "prompt_number": 18
    },
    {
     "cell_type": "heading",
     "level": 2,
     "metadata": {},
     "source": [
      "More PyMC Tricks"
     ]
    },
    {
     "cell_type": "markdown",
     "metadata": {},
     "source": [
      "__Lighter deterministic variables with Lambda class__\n",
      "\n",
      "Sometimes writing a deterministic function using the `@pm.deterministic` decorator can seem like a chore, especially for a small function. Built in `lambda` functions can handle this with elegance and simplicity.\n",
      "\n",
      "    beta = pm.Normal('coefficients', 0, size=(N, 1))\n",
      "    x = np.random.randn((N, 1))\n",
      "    linear_combination = pm.Lambda(lambda x=x, \n",
      "    beta=beta:np.dot(x.T, beta))\n",
      "    \n",
      "__Arrays of PyMC variables__\n",
      "\n",
      "There is no reason why we cannot store multiple heterogeneous PyMC variables in a Numpy array. Just remember to set the `dtype` of the array to `object` upon initialization."
     ]
    },
    {
     "cell_type": "code",
     "collapsed": false,
     "input": [
      "N = 10\n",
      "x = np.empty(N, dtype=object)\n",
      "for i in range(0, N):\n",
      "    x[i] = pm.Exponential('x_%i' % i, (i + 1) ** 2)"
     ],
     "language": "python",
     "metadata": {},
     "outputs": [],
     "prompt_number": 19
    },
    {
     "cell_type": "heading",
     "level": 2,
     "metadata": {},
     "source": [
      "Extra Example: Challenger Space Shuttle Disaster"
     ]
    },
    {
     "cell_type": "markdown",
     "metadata": {},
     "source": [
      "On January 28, 1986, the twenty-fifth flight of the U.S. space shuttle program ended in disaster when one of the rocket boosters of the Shuttle Challenger exploded shortly after lift-off, killing all seven crew members. The presidential commission on the accident concluded that it was caused by the failure of an O-ring in a field joint on the rocket booster, and that this failure was due to a faulty design that made the O-ring unacceptably sensitive to a number of factors including outside temperature. Of the previous 24 flights, data were available on failures of O-rings on 23, (one was lost at sea), and these data were discussed on the evening preceding the Challenger launch, but unfortunately only the data corresponding to the 7 flights on which there was a damage incident were considered important and these were thought to show no obvious trend. The data are shown below."
     ]
    },
    {
     "cell_type": "code",
     "collapsed": false,
     "input": [
      "import pandas as pd\n",
      "\n",
      "np.set_printoptions(precision=3, suppress=True)\n",
      "data = pd.read_csv('https://raw.githubusercontent.com/CamDavidsonPilon/Probabilistic-Programming-and-Bayesian-Methods-for-Hackers/master/Chapter2_MorePyMC/data/challenger_data.csv', \n",
      "                header=False, names=['date', 'temperature', 'incident'])"
     ],
     "language": "python",
     "metadata": {},
     "outputs": [],
     "prompt_number": 20
    },
    {
     "cell_type": "code",
     "collapsed": false,
     "input": [
      "# Other import method, something is up with the data formating: fix later\n",
      "np.set_printoptions(precision=3, suppress=True)\n",
      "challenger_data = np.genfromtxt(\"https://raw.githubusercontent.com/CamDavidsonPilon/Probabilistic-Programming-and-Bayesian-Methods-for-Hackers/master/Chapter2_MorePyMC/data/challenger_data.csv\", skip_header=1,\n",
      "                                usecols=[1, 2], missing_values=\"NA\",\n",
      "                                delimiter=\",\")\n",
      "\n",
      "challenger_data = challenger_data[~np.isnan(challenger_data[:, 1])]\n"
     ],
     "language": "python",
     "metadata": {},
     "outputs": [],
     "prompt_number": 21
    },
    {
     "cell_type": "code",
     "collapsed": false,
     "input": [
      "# Drop NA values\n",
      "data = data[data['incident'].notnull()]\n",
      "print data"
     ],
     "language": "python",
     "metadata": {},
     "outputs": [
      {
       "output_type": "stream",
       "stream": "stdout",
       "text": [
        "          date  temperature             incident\n",
        "0   04/12/1981           66                    0\n",
        "1   11/12/1981           70                    1\n",
        "2      3/22/82           69                    0\n",
        "4   01/11/1982           68                    0\n",
        "5   04/04/1983           67                    0\n",
        "6      6/18/83           72                    0\n",
        "7      8/30/83           73                    0\n",
        "8     11/28/83           70                    0\n",
        "9   02/03/1984           57                    1\n",
        "10  04/06/1984           63                    1\n",
        "11     8/30/84           70                    1\n",
        "12  10/05/1984           78                    0\n",
        "13  11/08/1984           67                    0\n",
        "14     1/24/85           53                    1\n",
        "15  04/12/1985           67                    0\n",
        "16     4/29/85           75                    0\n",
        "17     6/17/85           70                    0\n",
        "18     7/29/85           81                    0\n",
        "19     8/27/85           76                    0\n",
        "20  10/03/1985           79                    0\n",
        "21    10/30/85           75                    1\n",
        "22    11/26/85           76                    0\n",
        "23  01/12/1986           58                    1\n",
        "24     1/28/86           31  Challenger Accident\n"
       ]
      }
     ],
     "prompt_number": 22
    },
    {
     "cell_type": "code",
     "collapsed": false,
     "input": [
      "# Plot the data and remove the actual incident\n",
      "plt.scatter(data['temperature'][:-1], data['incident'][:-1], s= 75, color='k',\n",
      "                                    alpha=0.5)\n",
      "plt.yticks([0, 1])\n",
      "plt.ylabel('Incident?')\n",
      "plt.xlabel('Outside Temperature (F)')"
     ],
     "language": "python",
     "metadata": {},
     "outputs": [
      {
       "metadata": {},
       "output_type": "pyout",
       "prompt_number": 23,
       "text": [
        "<matplotlib.text.Text at 0x110139a50>"
       ]
      },
      {
       "metadata": {},
       "output_type": "display_data",
       "png": "[encoded data removed]",
       "text": [
        "<matplotlib.figure.Figure at 0x11045fdd0>"
       ]
      }
     ],
     "prompt_number": 23
    },
    {
     "cell_type": "markdown",
     "metadata": {},
     "source": [
      "It looks clear that the probability of damage incidents occurring increases as the outside temperature decreases. We are interested in modeling the probability here because it doesn't look like there is a clear cut off point between temperature and damage incidents of the O-ring. We want to answer the question \"At temperature $t$, what is the probability of an incident?\".\n",
      "\n",
      "We need a function of temperature, call it $p(t)$, this is bound between 0 and 1, and changes from 1 to 0 as we increase temperature. There are many functions that do this, but the most popular choice is a _logistic function_.\n",
      "\n",
      "$$p(t) = \\frac{1}{1 + e^{\\beta t}}$$\n",
      "\n",
      "In this model, $\\beta$ is the variable we are uncertain about. Below is the function plotted for $\\beta$ = 1, 3, and -5."
     ]
    },
    {
     "cell_type": "code",
     "collapsed": false,
     "input": [
      "def logistic(x, beta):\n",
      "    return 1.0 / (1.0 + np.exp(beta * x))\n",
      "\n",
      "x = np.linspace(-4, 4, 100)\n",
      "plt.plot(x, logistic(x, 1), label = r\"$\\beta = 1$\")\n",
      "plt.plot(x, logistic(x, 3), label = r\"$\\beta = 3$\")\n",
      "plt.plot(x, logistic(x, -5), label = r\"$\\beta = -5$\")\n",
      "plt.legend();"
     ],
     "language": "python",
     "metadata": {},
     "outputs": [
      {
       "metadata": {},
       "output_type": "display_data",
       "png": "[encoded data removed]",
       "text": [
        "<matplotlib.figure.Figure at 0x11020ebd0>"
       ]
      }
     ],
     "prompt_number": 24
    },
    {
     "cell_type": "markdown",
     "metadata": {},
     "source": [
      "But something is missing. In the plot of the logistic function, the probability changes only near zero, yet in our data above the probability changes around 65 to 70. We need to add a _bias_ term to our logistic function:\n",
      "\n",
      "$$p(t) = \\frac{1}{1 + e^{\\beta t + \\alpha}}$$\n",
      "\n",
      "Some plots below with different $\\alpha$."
     ]
    },
    {
     "cell_type": "code",
     "collapsed": false,
     "input": [
      "def logistic(x, beta, alpha=0):\n",
      "    return 1.0 / (1.0 + np.exp(np.dot(beta, x) + alpha))\n",
      "\n",
      "x = np.linspace(-4, 4, 100)\n",
      "\n",
      "plt.plot(x, logistic(x, 1), label=r\"$\\beta = 1$\", ls=\"--\", lw=1)\n",
      "plt.plot(x, logistic(x, 3), label=r\"$\\beta = 3$\", ls=\"--\", lw=1)\n",
      "plt.plot(x, logistic(x, -5), label=r\"$\\beta = -5$\", ls=\"--\", lw=1)\n",
      "\n",
      "plt.plot(x, logistic(x, 1, 1), label=r\"$\\beta = 1, \\alpha = 1$\",\n",
      "         color=\"#348ABD\")\n",
      "plt.plot(x, logistic(x, 3, -2), label=r\"$\\beta = 3, \\alpha = -2$\",\n",
      "         color=\"#A60628\")\n",
      "plt.plot(x, logistic(x, -5, 7), label=r\"$\\beta = -5, \\alpha = 7$\",\n",
      "         color=\"#7A68A6\")\n",
      "\n",
      "plt.legend(loc=\"lower left\");"
     ],
     "language": "python",
     "metadata": {},
     "outputs": [
      {
       "metadata": {},
       "output_type": "display_data",
       "png": "[encoded data removed]",
       "text": [
        "<matplotlib.figure.Figure at 0x11020e750>"
       ]
      }
     ],
     "prompt_number": 25
    },
    {
     "cell_type": "markdown",
     "metadata": {},
     "source": [
      "Adding a constant term results in shifting the curve left or right.\n",
      "\n",
      "Let's start modeling this in PyMC. The $\\beta$, $\\alpha$ parameters have no reason to be positive, bounded, or relatively large, so they are best modeled by a _Normal random variable_. Recall that a normal curve has two parameters, the mean $\\mu$, and precision, $\\tau$. \n",
      "\n",
      "> Note: variance is the reciprical of $\\tau$ and is better suited to Bayesian analysis.\n",
      "\n",
      "Below we continue out modeling of the Challenger space craft:"
     ]
    },
    {
     "cell_type": "code",
     "collapsed": false,
     "input": [
      "# temp = data['temperature'][:-1].values\n",
      "# D = data['incident'][:-1].values\n",
      "\n",
      "temperature = challenger_data[:, 0]\n",
      "D = challenger_data[:, 1]  # defect or not?\n",
      "\n",
      "\n",
      "beta = pm.Normal(\"beta\", 0, 0.001, value=0)\n",
      "alpha = pm.Normal(\"alpha\", 0, 0.001, value=0)\n",
      "\n",
      "@pm.deterministic\n",
      "def p(t = temperature, alpha = alpha, beta = beta):\n",
      "    return 1.0 / (1.0 + np.exp(beta * t + alpha))"
     ],
     "language": "python",
     "metadata": {},
     "outputs": [],
     "prompt_number": 27
    },
    {
     "cell_type": "markdown",
     "metadata": {},
     "source": [
      "We have our probabilities, but how to we connect them to our observed data? A Bernoulli random variable with parameter $p$, denoted Ber(_p_), is a random variable that takes value 1 with probability $p$, and 0 else. Thus our model looks like:\n",
      "\n",
      "* Defect Incident, $D_i \\sim Ber(p(t_i)), \\ \\ i = 1, ..., N$\n",
      "\n",
      "where $p(t)$ is out logistic function and $t_i$ are the temperatures we have observations about. Notice in the above code we set `values` of beta and alpha to 0. The reason is that if `beta` and `alpha` are very large, they make `p` = 1 or 0. Unfortunately, `pm.Beroulli` does not like probabilities of exactly 0 or 1, though they are mathematically well-defined probabilities. So by setting the coefficient values to 0, we set the variable `p` to be a reasonable starting value. This has no effect on our results, nor does it mean we are including any additional information in our prior. It is simply a computational caveat in PyMC."
     ]
    },
    {
     "cell_type": "code",
     "collapsed": false,
     "input": [
      "print p.value"
     ],
     "language": "python",
     "metadata": {},
     "outputs": [
      {
       "output_type": "stream",
       "stream": "stdout",
       "text": [
        "[ 0.5  0.5  0.5  0.5  0.5  0.5  0.5  0.5  0.5  0.5  0.5  0.5  0.5  0.5  0.5\n",
        "  0.5  0.5  0.5  0.5  0.5  0.5  0.5  0.5]\n"
       ]
      }
     ],
     "prompt_number": 28
    },
    {
     "cell_type": "code",
     "collapsed": false,
     "input": [
      "# connect the probabilities in `p` with our observations through\n",
      "# a Bernoulli random variable\n",
      "\n",
      "obs = pm.Bernoulli('bernoulli_obs', p, value = D, observed = True)\n",
      "model = pm.Model([obs, beta, alpha])\n",
      "\n",
      "map_ = pm.MAP(model)\n",
      "map_.fit()\n",
      "mcmc = pm.MCMC(model)\n",
      "mcmc.sample(120000, 100000, 2)"
     ],
     "language": "python",
     "metadata": {},
     "outputs": [
      {
       "output_type": "stream",
       "stream": "stdout",
       "text": [
        "\r",
        " [--                5%                  ] 6946 of 120000 complete in 0.5 sec"
       ]
      },
      {
       "output_type": "stream",
       "stream": "stdout",
       "text": [
        "\r",
        " [----             11%                  ] 13845 of 120000 complete in 1.0 sec"
       ]
      },
      {
       "output_type": "stream",
       "stream": "stdout",
       "text": [
        "\r",
        " [------           17%                  ] 20752 of 120000 complete in 1.5 sec"
       ]
      },
      {
       "output_type": "stream",
       "stream": "stdout",
       "text": [
        "\r",
        " [--------         23%                  ] 27647 of 120000 complete in 2.0 sec"
       ]
      },
      {
       "output_type": "stream",
       "stream": "stdout",
       "text": [
        "\r",
        " [----------       28%                  ] 34586 of 120000 complete in 2.5 sec"
       ]
      },
      {
       "output_type": "stream",
       "stream": "stdout",
       "text": [
        "\r",
        " [-------------    34%                  ] 41445 of 120000 complete in 3.0 sec"
       ]
      },
      {
       "output_type": "stream",
       "stream": "stdout",
       "text": [
        "\r",
        " [---------------  40%                  ] 48418 of 120000 complete in 3.5 sec"
       ]
      },
      {
       "output_type": "stream",
       "stream": "stdout",
       "text": [
        "\r",
        " [-----------------46%                  ] 55442 of 120000 complete in 4.0 sec"
       ]
      },
      {
       "output_type": "stream",
       "stream": "stdout",
       "text": [
        "\r",
        " [-----------------52%                  ] 62447 of 120000 complete in 4.5 sec"
       ]
      },
      {
       "output_type": "stream",
       "stream": "stdout",
       "text": [
        "\r",
        " [-----------------57%-                 ] 69372 of 120000 complete in 5.0 sec"
       ]
      },
      {
       "output_type": "stream",
       "stream": "stdout",
       "text": [
        "\r",
        " [-----------------63%----              ] 76366 of 120000 complete in 5.5 sec"
       ]
      },
      {
       "output_type": "stream",
       "stream": "stdout",
       "text": [
        "\r",
        " [-----------------69%------            ] 83407 of 120000 complete in 6.0 sec"
       ]
      },
      {
       "output_type": "stream",
       "stream": "stdout",
       "text": [
        "\r",
        " [-----------------75%--------          ] 90280 of 120000 complete in 6.5 sec"
       ]
      },
      {
       "output_type": "stream",
       "stream": "stdout",
       "text": [
        "\r",
        " [-----------------80%----------        ] 97132 of 120000 complete in 7.0 sec"
       ]
      },
      {
       "output_type": "stream",
       "stream": "stdout",
       "text": [
        "\r",
        " [-----------------86%------------      ] 103553 of 120000 complete in 7.5 sec"
       ]
      },
      {
       "output_type": "stream",
       "stream": "stdout",
       "text": [
        "\r",
        " [-----------------91%--------------    ] 109570 of 120000 complete in 8.0 sec"
       ]
      },
      {
       "output_type": "stream",
       "stream": "stdout",
       "text": [
        "\r",
        " [-----------------96%----------------  ] 115709 of 120000 complete in 8.5 sec"
       ]
      },
      {
       "output_type": "stream",
       "stream": "stdout",
       "text": [
        "\r",
        " [-----------------100%-----------------] 120000 of 120000 complete in 8.9 sec"
       ]
      }
     ],
     "prompt_number": 29
    },
    {
     "cell_type": "markdown",
     "metadata": {},
     "source": [
      "We have trained our model on the observed data, now we can sample values from the posterior. Let's look at the posterior distributions for $\\alpha$ and $\\beta$:"
     ]
    },
    {
     "cell_type": "code",
     "collapsed": false,
     "input": [
      "alpha_samples = mcmc.trace('alpha')[:, None]  # best to make them 1d\n",
      "beta_samples = mcmc.trace('beta')[:, None]\n",
      "\n",
      "# histogram of the samples:\n",
      "plt.subplot(211)\n",
      "plt.title(r\"Posterior distributions of the variables $\\alpha, \\beta$\")\n",
      "plt.hist(beta_samples, histtype='stepfilled', bins=35, alpha=0.85,\n",
      "         label=r\"posterior of $\\beta$\", color=\"#7A68A6\", normed=True)\n",
      "plt.legend()\n",
      "\n",
      "plt.subplot(212)\n",
      "plt.hist(alpha_samples, histtype='stepfilled', bins=35, alpha=0.85,\n",
      "         label=r\"posterior of $\\alpha$\", color=\"#A60628\", normed=True)\n",
      "plt.legend();"
     ],
     "language": "python",
     "metadata": {},
     "outputs": [
      {
       "metadata": {},
       "output_type": "display_data",
       "png": "[encoded data removed]",
       "text": [
        "<matplotlib.figure.Figure at 0x111b69610>"
       ]
      }
     ],
     "prompt_number": 30
    },
    {
     "cell_type": "markdown",
     "metadata": {},
     "source": [
      "All samples of $\\beta$ are greater than 0. If instead the posterior was centered around 0, we might suspect that $\\beta$ = 0, implying that temperature has no effect on the probability of defect.\n",
      "\n",
      "Similarly, all $\\alpha$ posterior values are negative and far away from 0, implying that it is correct to believe $\\alpha$ is significantly less than 0.\n",
      "\n",
      "Regarding the spread of the data, we are very uncertain what the true parameters might be (this is to be expected with the small sample size). \n",
      "\n",
      "Next let's take a look at the expected probability for a specific value of the temperature. That is, we average over all samples from the posterior to get a likely value for $p(t_i)$."
     ]
    },
    {
     "cell_type": "code",
     "collapsed": false,
     "input": [
      "t = np.linspace(temperature.min() - 5, temperature.max() + 5, 50)[:, None]\n",
      "p_t = logistic(t.T, beta_samples, alpha_samples)\n",
      "\n",
      "mean_prob_t = p_t.mean(axis=0)"
     ],
     "language": "python",
     "metadata": {},
     "outputs": [],
     "prompt_number": 33
    },
    {
     "cell_type": "code",
     "collapsed": false,
     "input": [
      "from IPython.core.pylabtools import figsize\n",
      "# figsize(18, 5)\n",
      "\n",
      "plt.plot(t, mean_prob_t, lw=3, label=\"average posterior \\nprobability \\\n",
      "of defect\")\n",
      "plt.plot(t, p_t[0, :], ls=\"--\", label=\"realization from posterior\")\n",
      "plt.plot(t, p_t[-2, :], ls=\"--\", label=\"realization from posterior\")\n",
      "plt.scatter(temperature, D, color=\"k\", s=50, alpha=0.5)\n",
      "plt.title(\"Posterior expected value of probability of defect; \\\n",
      "plus realizations\")\n",
      "plt.legend(loc=\"lower left\")\n",
      "plt.ylim(-0.1, 1.1)\n",
      "plt.xlim(t.min(), t.max())\n",
      "plt.ylabel(\"probability\")\n",
      "plt.xlabel(\"temperature\");"
     ],
     "language": "python",
     "metadata": {},
     "outputs": [
      {
       "metadata": {},
       "output_type": "display_data",
       "png": "[encoded data removed]",
       "text": [
        "<matplotlib.figure.Figure at 0x111b4d190>"
       ]
      }
     ],
     "prompt_number": 36
    },
    {
     "cell_type": "markdown",
     "metadata": {},
     "source": [
      "Above we plotted two possible realizations of what the actually underlying system might be. Both are equally likely as any other draw. The blue like is what occurs when we average all the 20000 dotted lines together.\n",
      "\n",
      "An interesting question to ask is for what temperatures are most uncertain above the defect-probability? Below we plot the expected value __and__ the associated 95% intervals for each temperature."
     ]
    },
    {
     "cell_type": "code",
     "collapsed": false,
     "input": [
      "from scipy.stats.mstats import mquantiles\n",
      "\n",
      "# vectorized bottom and top 2.5% quantiles for 'confidence interval'\n",
      "qs = mquantiles(p_t, [0.025, 0.975], axis = 0)\n",
      "plt.fill_between(t[:,0], *qs, alpha=0.7, color='#7A68A6')\n",
      "\n",
      "plt.plot(t[:, 0], qs[0], label=\"95% CI\", color=\"#7A68A6\", alpha=0.7)\n",
      "\n",
      "plt.plot(t, mean_prob_t, lw=1, ls=\"--\", color=\"k\",\n",
      "         label=\"average posterior \\nprobability of defect\")\n",
      "\n",
      "plt.xlim(t.min(), t.max())\n",
      "plt.ylim(-0.02, 1.02)\n",
      "plt.legend(loc=\"lower left\")\n",
      "plt.scatter(temperature, D, color=\"k\", s=50, alpha=0.5)\n",
      "plt.xlabel(\"temp, $t$\")\n",
      "\n",
      "plt.ylabel(\"probability estimate\")\n",
      "plt.title(\"Posterior probability estimates given temp. $t$\");"
     ],
     "language": "python",
     "metadata": {},
     "outputs": [
      {
       "metadata": {},
       "output_type": "display_data",
       "png": "[encoded data removed]",
       "text": [
        "<matplotlib.figure.Figure at 0x11045f4d0>"
       ]
      }
     ],
     "prompt_number": 40
    },
    {
     "cell_type": "markdown",
     "metadata": {},
     "source": [
      "The 95% confidence interval in purple represents the interval, for each temperature, that contains 95% of the distribution. For example, at 70 degrees, we can be 95% certain that the probability of defect lies between 0.13 and 0.42.\n",
      "\n",
      "This data gives us a good idea how to proceed. Ideally we should test more )-rings around the 60-65 degree temperature to get a better estimate of probabilities in this 'transition' range. It is always good to report your confidence intervals as well as just the reported estimates."
     ]
    },
    {
     "cell_type": "heading",
     "level": 2,
     "metadata": {},
     "source": [
      "What about the day of the Challenger disaster"
     ]
    },
    {
     "cell_type": "markdown",
     "metadata": {},
     "source": [
      "On the day of the Challenger disaster, the outside temperature was 31 degrees. What is the posterior distribution of a defect occuring, given this temperature? It is possible to see this in the plot below."
     ]
    },
    {
     "cell_type": "code",
     "collapsed": false,
     "input": [
      "prob_31 = logistic(31, beta_samples, alpha_samples)\n",
      "\n",
      "plt.xlim(0.995, 1)\n",
      "plt.hist(prob_31, bins=10000, normed=True, histtype='stepfilled')\n",
      "plt.title('Posterior distribution of a probability of a defect @ 31 degrees')\n",
      "plt.xlabel('probability of a defect occurring in O-ring');"
     ],
     "language": "python",
     "metadata": {},
     "outputs": [
      {
       "metadata": {},
       "output_type": "display_data",
       "png": "[encoded data removed]",
       "text": [
        "<matplotlib.figure.Figure at 0x111af5810>"
       ]
      }
     ],
     "prompt_number": 41
    },
    {
     "cell_type": "markdown",
     "metadata": {},
     "source": [
      "Turns out we can predict that it was almost guaranteed that a defect would occur at this temperature."
     ]
    },
    {
     "cell_type": "heading",
     "level": 3,
     "metadata": {},
     "source": [
      "Is this model appropriate?"
     ]
    },
    {
     "cell_type": "markdown",
     "metadata": {},
     "source": [
      "You might be wondering, is the logistic function for $p(t)$, and the specific priors we chose actually the best method? There are many ways to measure __goodness of fit__. One could simply apply a cutoff to the predicted probabilities in the fitted logistic function. A probability > 50% would indicate a 1, and <= 50% indicates a 0. Then we can simply test the proportion of predictions that match the observed data."
     ]
    },
    {
     "cell_type": "code",
     "collapsed": false,
     "input": [
      "from IPython.core.display import HTML\n",
      "\n",
      "\n",
      "def css_styling():\n",
      "    styles = open(\"/users/ryankelly/desktop/custom_notebook2.css\", \"r\").read()\n",
      "\n",
      "    return HTML(styles)\n",
      "css_styling()"
     ],
     "language": "python",
     "metadata": {},
     "outputs": [
      {
       "html": [
        "<style>\n",
        "\n",
        "/*\n",
        "\n",
        "    Name:       Base16 Ashes Light\n",
        "    Author:     Jannik Siebert (https://github.com/janniks)\n",
        "\n",
        "    CodeMirror template adapted for IPython Notebook by Nikhil Sonnad (https://github.com/nsonnad/base16-ipython-notebook)\n",
        "    CodeMirror template by Jan T. Sott (https://github.com/idleberg/base16-chrome-devtools)\n",
        "    Original Base16 color scheme by Chris Kempson (https://github.com/chriskempson/base16)\n",
        "\n",
        "*/\n",
        "\n",
        " /*Uncomment to use a custom font*/\n",
        "/*div#notebook, div.CodeMirror, div.output_area pre, div.output_wrapper, div.prompt {\n",
        "  font-family: 'Computer Modern', \"Helvetica Neue\", Arial, monospace !important;\n",
        "}*/\n",
        "\n",
        "\n",
        "/* GLOBALS */\n",
        "body {background-color: #F3F4F5;}\n",
        "a {color: #AE95C7;}\n",
        "h1 {text-align: center;}\n",
        "/* INTRO PAGE */\n",
        ".toolbar_info, .list-container {color: #393F45;}\n",
        "\n",
        "/* NOTEBOOK */\n",
        "\n",
        "/* comment out this line to bring the toolbar back */\n",
        "/*div#maintoolbar, div#header {display: none !important;}*/\n",
        "\n",
        "div#notebook {border-top: none;}\n",
        "\n",
        "div.input_prompt {color: #C795AE;}\n",
        "div.output_prompt {color: #C79595;}\n",
        "div.input_area {\n",
        "  border-radius: 0px;\n",
        "  border: 1px solid #C7CCD1;\n",
        "}\n",
        "div.output_area pre {font-weight: normal; color: #565E65;}\n",
        "div.output_subarea {font-weight: normal; color: #565E65;}\n",
        "\n",
        ".rendered_html table, .rendered_html th, .rendered_html tr, .rendered_html td {\n",
        "  border: 1px  #747C84 solid;\n",
        "  color: #747C84;\n",
        "}\n",
        "div.output_html { font-family: 'Computer Modern', \"Helvetica Neue\", Arial, sans-serif; }\n",
        "table.dataframe tr {border: 1px #565E65;}\n",
        "\n",
        "div.cell.selected {border-radius: 0px;}\n",
        "div.cell.edit_mode {border-radius: 0px; border: thin solid #C79595;}\n",
        "div.text_cell_render, div.output_html {color: #565E65;}\n",
        "\n",
        "span.ansiblack {color: #393F45;}\n",
        "span.ansiblue {color: #95AEC7;}\n",
        "span.ansigray {color: #ADB3BA;}\n",
        "span.ansigreen {color: #95C7AE;}\n",
        "span.ansipurple {color: #C795AE;}\n",
        "span.ansired {color: #C7AE95;}\n",
        "span.ansiyellow {color: #AEC795;}\n",
        "\n",
        "div.output_stderr {background-color: #C7AE95;}\n",
        "div.output_stderr pre {color: #DFE2E5;}\n",
        "\n",
        ".cm-s-ipython.CodeMirror {background: #F3F4F5; color: #393F45;}\n",
        ".cm-s-ipython div.CodeMirror-selected {background: #DFE2E5 !important;}\n",
        ".cm-s-ipython .CodeMirror-gutters {background: #F3F4F5; border-right: 0px;}\n",
        ".cm-s-ipython .CodeMirror-linenumber {color: #ADB3BA;}\n",
        ".cm-s-ipython .CodeMirror-cursor {border-left: 1px solid #747C84 !important;}\n",
        "\n",
        ".cm-s-ipython span.cm-comment {color: #C79595;}\n",
        ".cm-s-ipython span.cm-atom {color: #C795AE;}\n",
        ".cm-s-ipython span.cm-number {color: #C795AE;}\n",
        "\n",
        ".cm-s-ipython span.cm-property, .cm-s-ipython span.cm-attribute {color: #95C7AE;}\n",
        ".cm-s-ipython span.cm-keyword {color: #C7AE95;}\n",
        ".cm-s-ipython span.cm-string {color: #AEC795;}\n",
        ".cm-s-ipython span.cm-operator {color: #C79595;}\n",
        ".cm-s-ipython span.cm-builtin {color: #C795AE;}\n",
        "\n",
        ".cm-s-ipython span.cm-variable {color: #95C7AE;}\n",
        ".cm-s-ipython span.cm-variable-2 {color: #AE95C7;}\n",
        ".cm-s-ipython span.cm-def {color: #C7C795;}\n",
        ".cm-s-ipython span.cm-error {background: #C7AE95; color: #747C84;}\n",
        ".cm-s-ipython span.cm-bracket {color: #565E65;}\n",
        ".cm-s-ipython span.cm-tag {color: #C7AE95;}\n",
        ".cm-s-ipython span.cm-link {color: #C795AE;}\n",
        "\n",
        ".cm-s-ipython .CodeMirror-matchingbracket { text-decoration: underline; color: #393F45 !important;}\n",
        "</style>"
       ],
       "metadata": {},
       "output_type": "pyout",
       "prompt_number": 1,
       "text": [
        "<IPython.core.display.HTML at 0x10686d8d0>"
       ]
      }
     ],
     "prompt_number": 1
    },
    {
     "cell_type": "code",
     "collapsed": false,
     "input": [
      "def social():\n",
      "    code = \"\"\"\n",
      "    <a style='float:left; margin-right:5px;' href=\"https://twitter.com/share\" class=\"twitter-share-button\" data-text=\"Check this out\" data-via=\"Ryanmdk\">Tweet</a>\n",
      "<script>!function(d,s,id){var js,fjs=d.getElementsByTagName(s)[0],p=/^http:/.test(d.location)?'http':'https';if(!d.getElementById(id)){js=d.createElement(s);js.id=id;js.src=p+'://platform.twitter.com/widgets.js';fjs.parentNode.insertBefore(js,fjs);}}(document, 'script', 'twitter-wjs');</script>\n",
      "    <a style='float:left; margin-right:5px;' href=\"https://twitter.com/Ryanmdk\" class=\"twitter-follow-button\" data-show-count=\"false\">Follow @Ryanmdk</a>\n",
      "<script>!function(d,s,id){var js,fjs=d.getElementsByTagName(s)[0],p=/^http:/.test(d.location)?'http':'https';if(!d.getElementById(id)){js=d.createElement(s);js.id=id;js.src=p+'://platform.twitter.com/widgets.js';fjs.parentNode.insertBefore(js,fjs);}}(document, 'script', 'twitter-wjs');</script>\n",
      "    <a style='float:left; margin-right:5px;'target='_parent' href=\"http://www.reddit.com/submit\" onclick=\"window.location = 'http://www.reddit.com/submit?url=' + encodeURIComponent(window.location); return false\"> <img src=\"http://www.reddit.com/static/spreddit7.gif\" alt=\"submit to reddit\" border=\"0\" /> </a>\n",
      "<script src=\"//platform.linkedin.com/in.js\" type=\"text/javascript\">\n",
      "  lang: en_US\n",
      "</script>\n",
      "<script type=\"IN/Share\"></script>\n",
      "\"\"\"\n",
      "    return HTML(code)"
     ],
     "language": "python",
     "metadata": {},
     "outputs": [],
     "prompt_number": 2
    }
   ],
   "metadata": {}
  }
 ]
}