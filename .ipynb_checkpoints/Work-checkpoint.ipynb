{
 "metadata": {
  "name": "",
  "signature": "sha256:b934fe001e1ef8076d1d94535d4d7da1aeef464e31816748837b1f561d134bc0"
 },
 "nbformat": 3,
 "nbformat_minor": 0,
 "worksheets": [
  {
   "cells": [
    {
     "cell_type": "code",
     "collapsed": false,
     "input": [
      "from IPython.display import HTML\n",
      "HTML(classification)"
     ],
     "language": "python",
     "metadata": {},
     "outputs": [
      {
       "html": [
        "<iframe src=http://nbviewer.ipython.org/gist/RMDK/cbf1005e75cd04ad6921 width=100%; height=450px; overflow-x:hidden;></iframe>"
       ],
       "metadata": {},
       "output_type": "pyout",
       "prompt_number": 26,
       "text": [
        "<IPython.core.display.HTML at 0x1061f1a50>"
       ]
      }
     ],
     "prompt_number": 26
    },
    {
     "cell_type": "code",
     "collapsed": false,
     "input": [
      "classification = '<iframe src=http://nbviewer.ipython.org/gist/RMDK/cbf1005e75cd04ad6921 width=100%; height=450px; overflow-x:hidden;></iframe>'"
     ],
     "language": "python",
     "metadata": {},
     "outputs": [],
     "prompt_number": 25
    },
    {
     "cell_type": "code",
     "collapsed": false,
     "input": [],
     "language": "python",
     "metadata": {},
     "outputs": []
    }
   ],
   "metadata": {}
  }
 ]
}