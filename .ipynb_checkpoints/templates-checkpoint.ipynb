{
 "metadata": {
  "name": "",
  "signature": "sha256:b5d9995aed09ad165f55cf447aa07c052be6d6c91142aa677b422169b7f50c2f"
 },
 "nbformat": 3,
 "nbformat_minor": 0,
 "worksheets": [
  {
   "cells": [
    {
     "cell_type": "markdown",
     "metadata": {},
     "source": [
      "| **Type**      | **Object Description**   |       \n",
      "| ------------- |:-------------:|\n",
      "| int | Integer |\n",
      "|float | Floating point number e.g. 3.142|\n",
      "|bool| Boolean value that can only have two values \u2018True\u2019 or \u2018False\u2019|\n",
      "|str| String of characters\n",
      "|None| The python 'null' value|"
     ]
    },
    {
     "cell_type": "code",
     "collapsed": false,
     "input": [
      "from IPython.core.display import HTML\n",
      "\n",
      "\n",
      "def css_styling():\n",
      "    styles = open(\"../custom_notebook.css\", \"r\").read()\n",
      "    jsa = open(\"../graph.js\").read()\n",
      "    return HTML(styles), HTML(jsa)\n",
      "css_styling()\n"
     ],
     "language": "python",
     "metadata": {},
     "outputs": []
    }
   ],
   "metadata": {}
  }
 ]
}