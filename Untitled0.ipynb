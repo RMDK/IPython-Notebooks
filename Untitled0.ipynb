{
 "metadata": {
  "name": "",
  "signature": "sha256:00c1425d8324ab9aa0783b92103ad22ab0f5fa8a0188969af68342a6b69cfa05"
 },
 "nbformat": 3,
 "nbformat_minor": 0,
 "worksheets": []
}